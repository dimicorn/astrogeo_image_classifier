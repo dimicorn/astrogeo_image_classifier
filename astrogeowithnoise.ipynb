{
 "cells": [
  {
   "cell_type": "code",
   "execution_count": 1,
   "id": "3cbcdce0",
   "metadata": {
    "execution": {
     "iopub.execute_input": "2024-06-23T11:22:16.176920Z",
     "iopub.status.busy": "2024-06-23T11:22:16.176116Z",
     "iopub.status.idle": "2024-06-23T11:22:16.188870Z",
     "shell.execute_reply": "2024-06-23T11:22:16.188105Z"
    },
    "papermill": {
     "duration": 0.022485,
     "end_time": "2024-06-23T11:22:16.191025",
     "exception": false,
     "start_time": "2024-06-23T11:22:16.168540",
     "status": "completed"
    },
    "tags": []
   },
   "outputs": [],
   "source": [
    "import os\n",
    "import warnings\n",
    "\n",
    "warnings.filterwarnings('ignore')\n",
    "train_data_path = '/kaggle/input/noisyastrogeo/new_noise2_32k'\n",
    "# '/kaggle/input/astrogeonoisy96k/noise_96k'\n",
    "val_data_path = '/kaggle/input/astrogeo512x512/data_512x512_abs'"
   ]
  },
  {
   "cell_type": "code",
   "execution_count": 2,
   "id": "74c530e0",
   "metadata": {
    "execution": {
     "iopub.execute_input": "2024-06-23T11:22:16.204056Z",
     "iopub.status.busy": "2024-06-23T11:22:16.203732Z",
     "iopub.status.idle": "2024-06-23T11:22:22.383224Z",
     "shell.execute_reply": "2024-06-23T11:22:22.382243Z"
    },
    "papermill": {
     "duration": 6.188461,
     "end_time": "2024-06-23T11:22:22.385564",
     "exception": false,
     "start_time": "2024-06-23T11:22:16.197103",
     "status": "completed"
    },
    "tags": []
   },
   "outputs": [],
   "source": [
    "import torch.nn as nn\n",
    "import torch\n",
    "from torchvision import datasets, transforms\n",
    "import torch.optim as optim\n",
    "from tqdm import tqdm\n",
    "\n",
    "class CNN(nn.Module):\n",
    "    def __init__(self) -> None:\n",
    "        super(CNN, self).__init__()\n",
    "        self.conv1 = nn.Conv2d(1, 16, kernel_size=3, padding=1)\n",
    "        self.conv2 = nn.Conv2d(16, 32, kernel_size=3, padding=1)\n",
    "        self.conv3 = nn.Conv2d(32, 64, kernel_size=3, padding=1)\n",
    "\n",
    "        self.fc1 = nn.Linear(64*16*16, 128)\n",
    "        self.fc2 = nn.Linear(128, 4)\n",
    "\n",
    "        self.relu = nn.ReLU()\n",
    "\n",
    "        self.pool = nn.MaxPool2d(2, 2)\n",
    "        self.dropout = nn.Dropout(p=0.2)\n",
    "    \n",
    "    def forward(self, image: torch.Tensor) -> torch.Tensor:\n",
    "        image = self.conv1(image)\n",
    "        image = self.relu(image)\n",
    "        image = self.pool(image)\n",
    "        image = self.conv2(image)\n",
    "        image = self.relu(image)\n",
    "        image = self.pool(image)\n",
    "        image = self.conv3(image)\n",
    "        image = self.relu(image)\n",
    "        image = self.pool(image)\n",
    "        image = image.view(-1, 64*16*16)\n",
    "        image = self.fc1(image)\n",
    "        image = self.relu(image)\n",
    "        image = self.dropout(image)\n",
    "        image = self.fc2(image)\n",
    "        return image"
   ]
  },
  {
   "cell_type": "code",
   "execution_count": 3,
   "id": "23e6f27d",
   "metadata": {
    "execution": {
     "iopub.execute_input": "2024-06-23T11:22:22.396741Z",
     "iopub.status.busy": "2024-06-23T11:22:22.396382Z",
     "iopub.status.idle": "2024-06-23T11:22:22.400518Z",
     "shell.execute_reply": "2024-06-23T11:22:22.399729Z"
    },
    "papermill": {
     "duration": 0.011738,
     "end_time": "2024-06-23T11:22:22.402391",
     "exception": false,
     "start_time": "2024-06-23T11:22:22.390653",
     "status": "completed"
    },
    "tags": []
   },
   "outputs": [],
   "source": [
    "num_epochs = 30\n",
    "batch_size = 256\n",
    "learning_rate = 1e-4\n",
    "weight_decay = 1e-5\n",
    "train_test_ratio = 0.8"
   ]
  },
  {
   "cell_type": "code",
   "execution_count": 4,
   "id": "b823fb73",
   "metadata": {
    "execution": {
     "iopub.execute_input": "2024-06-23T11:22:22.415708Z",
     "iopub.status.busy": "2024-06-23T11:22:22.415154Z",
     "iopub.status.idle": "2024-06-23T11:22:42.963267Z",
     "shell.execute_reply": "2024-06-23T11:22:42.962331Z"
    },
    "papermill": {
     "duration": 20.556949,
     "end_time": "2024-06-23T11:22:42.965266",
     "exception": false,
     "start_time": "2024-06-23T11:22:22.408317",
     "status": "completed"
    },
    "tags": []
   },
   "outputs": [
    {
     "data": {
      "text/plain": [
       "CNN(\n",
       "  (conv1): Conv2d(1, 16, kernel_size=(3, 3), stride=(1, 1), padding=(1, 1))\n",
       "  (conv2): Conv2d(16, 32, kernel_size=(3, 3), stride=(1, 1), padding=(1, 1))\n",
       "  (conv3): Conv2d(32, 64, kernel_size=(3, 3), stride=(1, 1), padding=(1, 1))\n",
       "  (fc1): Linear(in_features=16384, out_features=128, bias=True)\n",
       "  (fc2): Linear(in_features=128, out_features=4, bias=True)\n",
       "  (relu): ReLU()\n",
       "  (pool): MaxPool2d(kernel_size=2, stride=2, padding=0, dilation=1, ceil_mode=False)\n",
       "  (dropout): Dropout(p=0.2, inplace=False)\n",
       ")"
      ]
     },
     "execution_count": 4,
     "metadata": {},
     "output_type": "execute_result"
    }
   ],
   "source": [
    "import torch.optim as optim\n",
    "\n",
    "device = torch.device('cuda' if torch.cuda.is_available() else 'cpu')\n",
    "transform = transforms.Compose([\n",
    "    transforms.Grayscale(),\n",
    "    transforms.Resize(size=(128, 128)),\n",
    "    transforms.RandomHorizontalFlip(p=0.5),\n",
    "    transforms.RandomVerticalFlip(p=0.5),\n",
    "    transforms.RandomAffine(degrees=(0, 0), translate=(0.1, 0.3), scale=None), #degrees=(0, 180)\n",
    "#     transforms.CenterCrop((64, 64)),\n",
    "#     transforms.Resize(size=(128, 128)),\n",
    "    transforms.AutoAugment(),\n",
    "#     transforms.RandAugment(),\n",
    "    transforms.ToTensor()]\n",
    ")\n",
    "data = datasets.ImageFolder(train_data_path, transform=transform)\n",
    "\n",
    "train_size = int(train_test_ratio * len(data))\n",
    "test_size = len(data) - train_size\n",
    "train, test = torch.utils.data.random_split(data, [train_size, test_size])\n",
    "trainloader = torch.utils.data.DataLoader(train, batch_size=batch_size, shuffle=True, num_workers=4)\n",
    "testloader = torch.utils.data.DataLoader(test, batch_size=batch_size, shuffle=True, num_workers=4)\n",
    "\n",
    "model = CNN()\n",
    "model.to(device)\n",
    "optimizer = optim.Adam(model.parameters(), lr=learning_rate, weight_decay=weight_decay)\n",
    "criterion = nn.CrossEntropyLoss()\n",
    "model.train()"
   ]
  },
  {
   "cell_type": "code",
   "execution_count": 5,
   "id": "9160ebf4",
   "metadata": {
    "execution": {
     "iopub.execute_input": "2024-06-23T11:22:42.976806Z",
     "iopub.status.busy": "2024-06-23T11:22:42.976507Z",
     "iopub.status.idle": "2024-06-23T11:22:42.985111Z",
     "shell.execute_reply": "2024-06-23T11:22:42.984407Z"
    },
    "papermill": {
     "duration": 0.016513,
     "end_time": "2024-06-23T11:22:42.986972",
     "exception": false,
     "start_time": "2024-06-23T11:22:42.970459",
     "status": "completed"
    },
    "tags": []
   },
   "outputs": [],
   "source": [
    "AccTest, LossTest = [], []\n",
    "y_test, predictions = [], []\n",
    "def test(flag=False):\n",
    "    with torch.no_grad():\n",
    "        correct, total = 0, 0\n",
    "        test_loss = 0.0\n",
    "        for images, labels in tqdm(testloader):\n",
    "            images = images.to(device)\n",
    "            labels = labels.to(device)\n",
    "            outputs = model(images)\n",
    "            _, predicted = torch.max(outputs.data, 1)\n",
    "            total += labels.size(0)\n",
    "            correct += (predicted == labels).sum().item()\n",
    "            loss = criterion(outputs, labels)\n",
    "            test_loss += loss.item() * data.size(0)\n",
    "            if flag:\n",
    "                y_test.extend(labels.cpu().numpy())\n",
    "                predictions.extend(predicted.cpu().numpy())\n",
    "        acc = 100 * correct / total\n",
    "        test_loss = test_loss / len(testloader.dataset)\n",
    "        AccTest.append(acc)\n",
    "        LossTest.append(test_loss)\n",
    "        print(f'Epoch: {epoch+1} \\tTest Loss: {test_loss:.6f} \\tTest Acc: {acc:.3f}%')"
   ]
  },
  {
   "cell_type": "code",
   "execution_count": 6,
   "id": "6cea4c25",
   "metadata": {
    "execution": {
     "iopub.execute_input": "2024-06-23T11:22:42.998008Z",
     "iopub.status.busy": "2024-06-23T11:22:42.997633Z",
     "iopub.status.idle": "2024-06-23T12:21:47.346913Z",
     "shell.execute_reply": "2024-06-23T12:21:47.345650Z"
    },
    "papermill": {
     "duration": 3544.357259,
     "end_time": "2024-06-23T12:21:47.349228",
     "exception": false,
     "start_time": "2024-06-23T11:22:42.991969",
     "status": "completed"
    },
    "tags": []
   },
   "outputs": [
    {
     "name": "stderr",
     "output_type": "stream",
     "text": [
      "100%|██████████| 100/100 [01:52<00:00,  1.12s/it]\n",
      "100%|██████████| 25/25 [00:29<00:00,  1.20s/it]\n"
     ]
    },
    {
     "name": "stdout",
     "output_type": "stream",
     "text": [
      "Epoch: 1 \tTest Loss: 1.382021 \tTest Acc: 25.625%\n",
      "Epoch: 1 \tTrain Loss: 1.384993 \tTrain Acc: 26.164%\n"
     ]
    },
    {
     "name": "stderr",
     "output_type": "stream",
     "text": [
      "100%|██████████| 100/100 [01:31<00:00,  1.09it/s]\n",
      "100%|██████████| 25/25 [00:24<00:00,  1.00it/s]\n"
     ]
    },
    {
     "name": "stdout",
     "output_type": "stream",
     "text": [
      "Epoch: 2 \tTest Loss: 1.298086 \tTest Acc: 39.125%\n",
      "Epoch: 2 \tTrain Loss: 1.351848 \tTrain Acc: 34.594%\n"
     ]
    },
    {
     "name": "stderr",
     "output_type": "stream",
     "text": [
      "100%|██████████| 100/100 [01:32<00:00,  1.08it/s]\n",
      "100%|██████████| 25/25 [00:25<00:00,  1.01s/it]\n"
     ]
    },
    {
     "name": "stdout",
     "output_type": "stream",
     "text": [
      "Epoch: 3 \tTest Loss: 1.195065 \tTest Acc: 42.625%\n",
      "Epoch: 3 \tTrain Loss: 1.238827 \tTrain Acc: 40.520%\n"
     ]
    },
    {
     "name": "stderr",
     "output_type": "stream",
     "text": [
      "100%|██████████| 100/100 [01:32<00:00,  1.09it/s]\n",
      "100%|██████████| 25/25 [00:24<00:00,  1.03it/s]\n"
     ]
    },
    {
     "name": "stdout",
     "output_type": "stream",
     "text": [
      "Epoch: 4 \tTest Loss: 1.128091 \tTest Acc: 44.656%\n",
      "Epoch: 4 \tTrain Loss: 1.156469 \tTrain Acc: 43.371%\n"
     ]
    },
    {
     "name": "stderr",
     "output_type": "stream",
     "text": [
      "100%|██████████| 100/100 [01:32<00:00,  1.09it/s]\n",
      "100%|██████████| 25/25 [00:24<00:00,  1.01it/s]\n"
     ]
    },
    {
     "name": "stdout",
     "output_type": "stream",
     "text": [
      "Epoch: 5 \tTest Loss: 1.092518 \tTest Acc: 45.859%\n",
      "Epoch: 5 \tTrain Loss: 1.108469 \tTrain Acc: 45.109%\n"
     ]
    },
    {
     "name": "stderr",
     "output_type": "stream",
     "text": [
      "100%|██████████| 100/100 [01:31<00:00,  1.10it/s]\n",
      "100%|██████████| 25/25 [00:24<00:00,  1.02it/s]\n"
     ]
    },
    {
     "name": "stdout",
     "output_type": "stream",
     "text": [
      "Epoch: 6 \tTest Loss: 1.068339 \tTest Acc: 47.594%\n",
      "Epoch: 6 \tTrain Loss: 1.081638 \tTrain Acc: 46.570%\n"
     ]
    },
    {
     "name": "stderr",
     "output_type": "stream",
     "text": [
      "100%|██████████| 100/100 [01:30<00:00,  1.10it/s]\n",
      "100%|██████████| 25/25 [00:24<00:00,  1.03it/s]\n"
     ]
    },
    {
     "name": "stdout",
     "output_type": "stream",
     "text": [
      "Epoch: 7 \tTest Loss: 1.065530 \tTest Acc: 46.766%\n",
      "Epoch: 7 \tTrain Loss: 1.068587 \tTrain Acc: 47.367%\n"
     ]
    },
    {
     "name": "stderr",
     "output_type": "stream",
     "text": [
      "100%|██████████| 100/100 [01:31<00:00,  1.10it/s]\n",
      "100%|██████████| 25/25 [00:24<00:00,  1.03it/s]\n"
     ]
    },
    {
     "name": "stdout",
     "output_type": "stream",
     "text": [
      "Epoch: 8 \tTest Loss: 1.051097 \tTest Acc: 48.125%\n",
      "Epoch: 8 \tTrain Loss: 1.056839 \tTrain Acc: 48.074%\n"
     ]
    },
    {
     "name": "stderr",
     "output_type": "stream",
     "text": [
      "100%|██████████| 100/100 [01:31<00:00,  1.09it/s]\n",
      "100%|██████████| 25/25 [00:24<00:00,  1.03it/s]\n"
     ]
    },
    {
     "name": "stdout",
     "output_type": "stream",
     "text": [
      "Epoch: 9 \tTest Loss: 1.033068 \tTest Acc: 49.484%\n",
      "Epoch: 9 \tTrain Loss: 1.041839 \tTrain Acc: 48.777%\n"
     ]
    },
    {
     "name": "stderr",
     "output_type": "stream",
     "text": [
      "100%|██████████| 100/100 [01:31<00:00,  1.09it/s]\n",
      "100%|██████████| 25/25 [00:24<00:00,  1.01it/s]\n"
     ]
    },
    {
     "name": "stdout",
     "output_type": "stream",
     "text": [
      "Epoch: 10 \tTest Loss: 1.016346 \tTest Acc: 50.469%\n",
      "Epoch: 10 \tTrain Loss: 1.023278 \tTrain Acc: 49.969%\n"
     ]
    },
    {
     "name": "stderr",
     "output_type": "stream",
     "text": [
      "100%|██████████| 100/100 [01:32<00:00,  1.09it/s]\n",
      "100%|██████████| 25/25 [00:24<00:00,  1.01it/s]\n"
     ]
    },
    {
     "name": "stdout",
     "output_type": "stream",
     "text": [
      "Epoch: 11 \tTest Loss: 1.011961 \tTest Acc: 49.578%\n",
      "Epoch: 11 \tTrain Loss: 1.001508 \tTrain Acc: 51.172%\n"
     ]
    },
    {
     "name": "stderr",
     "output_type": "stream",
     "text": [
      "100%|██████████| 100/100 [01:31<00:00,  1.10it/s]\n",
      "100%|██████████| 25/25 [00:24<00:00,  1.02it/s]\n"
     ]
    },
    {
     "name": "stdout",
     "output_type": "stream",
     "text": [
      "Epoch: 12 \tTest Loss: 0.988301 \tTest Acc: 51.250%\n",
      "Epoch: 12 \tTrain Loss: 0.989373 \tTrain Acc: 51.672%\n"
     ]
    },
    {
     "name": "stderr",
     "output_type": "stream",
     "text": [
      "100%|██████████| 100/100 [01:32<00:00,  1.08it/s]\n",
      "100%|██████████| 25/25 [00:25<00:00,  1.00s/it]\n"
     ]
    },
    {
     "name": "stdout",
     "output_type": "stream",
     "text": [
      "Epoch: 13 \tTest Loss: 0.982633 \tTest Acc: 52.312%\n",
      "Epoch: 13 \tTrain Loss: 0.976316 \tTrain Acc: 52.281%\n"
     ]
    },
    {
     "name": "stderr",
     "output_type": "stream",
     "text": [
      "100%|██████████| 100/100 [01:35<00:00,  1.05it/s]\n",
      "100%|██████████| 25/25 [00:25<00:00,  1.00s/it]\n"
     ]
    },
    {
     "name": "stdout",
     "output_type": "stream",
     "text": [
      "Epoch: 14 \tTest Loss: 0.967388 \tTest Acc: 53.188%\n",
      "Epoch: 14 \tTrain Loss: 0.964214 \tTrain Acc: 52.957%\n"
     ]
    },
    {
     "name": "stderr",
     "output_type": "stream",
     "text": [
      "100%|██████████| 100/100 [01:36<00:00,  1.04it/s]\n",
      "100%|██████████| 25/25 [00:25<00:00,  1.01s/it]\n"
     ]
    },
    {
     "name": "stdout",
     "output_type": "stream",
     "text": [
      "Epoch: 15 \tTest Loss: 0.967253 \tTest Acc: 53.391%\n",
      "Epoch: 15 \tTrain Loss: 0.960165 \tTrain Acc: 53.734%\n"
     ]
    },
    {
     "name": "stderr",
     "output_type": "stream",
     "text": [
      "100%|██████████| 100/100 [01:34<00:00,  1.05it/s]\n",
      "100%|██████████| 25/25 [00:25<00:00,  1.02s/it]\n"
     ]
    },
    {
     "name": "stdout",
     "output_type": "stream",
     "text": [
      "Epoch: 16 \tTest Loss: 0.943926 \tTest Acc: 54.047%\n",
      "Epoch: 16 \tTrain Loss: 0.944022 \tTrain Acc: 54.301%\n"
     ]
    },
    {
     "name": "stderr",
     "output_type": "stream",
     "text": [
      "100%|██████████| 100/100 [01:33<00:00,  1.07it/s]\n",
      "100%|██████████| 25/25 [00:24<00:00,  1.01it/s]\n"
     ]
    },
    {
     "name": "stdout",
     "output_type": "stream",
     "text": [
      "Epoch: 17 \tTest Loss: 0.931883 \tTest Acc: 55.375%\n",
      "Epoch: 17 \tTrain Loss: 0.945058 \tTrain Acc: 54.242%\n"
     ]
    },
    {
     "name": "stderr",
     "output_type": "stream",
     "text": [
      "100%|██████████| 100/100 [01:34<00:00,  1.06it/s]\n",
      "100%|██████████| 25/25 [00:25<00:00,  1.00s/it]\n"
     ]
    },
    {
     "name": "stdout",
     "output_type": "stream",
     "text": [
      "Epoch: 18 \tTest Loss: 0.921537 \tTest Acc: 56.141%\n",
      "Epoch: 18 \tTrain Loss: 0.932190 \tTrain Acc: 54.680%\n"
     ]
    },
    {
     "name": "stderr",
     "output_type": "stream",
     "text": [
      "100%|██████████| 100/100 [01:34<00:00,  1.06it/s]\n",
      "100%|██████████| 25/25 [00:25<00:00,  1.01s/it]\n"
     ]
    },
    {
     "name": "stdout",
     "output_type": "stream",
     "text": [
      "Epoch: 19 \tTest Loss: 0.917446 \tTest Acc: 55.094%\n",
      "Epoch: 19 \tTrain Loss: 0.919987 \tTrain Acc: 55.887%\n"
     ]
    },
    {
     "name": "stderr",
     "output_type": "stream",
     "text": [
      "100%|██████████| 100/100 [01:34<00:00,  1.06it/s]\n",
      "100%|██████████| 25/25 [00:24<00:00,  1.02it/s]\n"
     ]
    },
    {
     "name": "stdout",
     "output_type": "stream",
     "text": [
      "Epoch: 20 \tTest Loss: 0.906814 \tTest Acc: 56.438%\n",
      "Epoch: 20 \tTrain Loss: 0.915155 \tTrain Acc: 56.105%\n"
     ]
    },
    {
     "name": "stderr",
     "output_type": "stream",
     "text": [
      "100%|██████████| 100/100 [01:37<00:00,  1.03it/s]\n",
      "100%|██████████| 25/25 [00:26<00:00,  1.08s/it]\n"
     ]
    },
    {
     "name": "stdout",
     "output_type": "stream",
     "text": [
      "Epoch: 21 \tTest Loss: 0.905080 \tTest Acc: 55.750%\n",
      "Epoch: 21 \tTrain Loss: 0.904844 \tTrain Acc: 56.227%\n"
     ]
    },
    {
     "name": "stderr",
     "output_type": "stream",
     "text": [
      "100%|██████████| 100/100 [01:31<00:00,  1.10it/s]\n",
      "100%|██████████| 25/25 [00:23<00:00,  1.04it/s]\n"
     ]
    },
    {
     "name": "stdout",
     "output_type": "stream",
     "text": [
      "Epoch: 22 \tTest Loss: 0.890183 \tTest Acc: 56.891%\n",
      "Epoch: 22 \tTrain Loss: 0.893646 \tTrain Acc: 57.012%\n"
     ]
    },
    {
     "name": "stderr",
     "output_type": "stream",
     "text": [
      "100%|██████████| 100/100 [01:31<00:00,  1.10it/s]\n",
      "100%|██████████| 25/25 [00:25<00:00,  1.01s/it]\n"
     ]
    },
    {
     "name": "stdout",
     "output_type": "stream",
     "text": [
      "Epoch: 23 \tTest Loss: 0.892010 \tTest Acc: 57.328%\n",
      "Epoch: 23 \tTrain Loss: 0.886484 \tTrain Acc: 57.211%\n"
     ]
    },
    {
     "name": "stderr",
     "output_type": "stream",
     "text": [
      "100%|██████████| 100/100 [01:31<00:00,  1.10it/s]\n",
      "100%|██████████| 25/25 [00:24<00:00,  1.02it/s]\n"
     ]
    },
    {
     "name": "stdout",
     "output_type": "stream",
     "text": [
      "Epoch: 24 \tTest Loss: 0.890238 \tTest Acc: 56.406%\n",
      "Epoch: 24 \tTrain Loss: 0.883556 \tTrain Acc: 57.398%\n"
     ]
    },
    {
     "name": "stderr",
     "output_type": "stream",
     "text": [
      "100%|██████████| 100/100 [01:30<00:00,  1.10it/s]\n",
      "100%|██████████| 25/25 [00:24<00:00,  1.03it/s]\n"
     ]
    },
    {
     "name": "stdout",
     "output_type": "stream",
     "text": [
      "Epoch: 25 \tTest Loss: 0.870741 \tTest Acc: 57.672%\n",
      "Epoch: 25 \tTrain Loss: 0.873759 \tTrain Acc: 58.191%\n"
     ]
    },
    {
     "name": "stderr",
     "output_type": "stream",
     "text": [
      "100%|██████████| 100/100 [01:31<00:00,  1.09it/s]\n",
      "100%|██████████| 25/25 [00:24<00:00,  1.02it/s]\n"
     ]
    },
    {
     "name": "stdout",
     "output_type": "stream",
     "text": [
      "Epoch: 26 \tTest Loss: 0.871303 \tTest Acc: 58.500%\n",
      "Epoch: 26 \tTrain Loss: 0.868406 \tTrain Acc: 58.551%\n"
     ]
    },
    {
     "name": "stderr",
     "output_type": "stream",
     "text": [
      "100%|██████████| 100/100 [01:31<00:00,  1.09it/s]\n",
      "100%|██████████| 25/25 [00:24<00:00,  1.03it/s]\n"
     ]
    },
    {
     "name": "stdout",
     "output_type": "stream",
     "text": [
      "Epoch: 27 \tTest Loss: 0.873759 \tTest Acc: 58.031%\n",
      "Epoch: 27 \tTrain Loss: 0.863013 \tTrain Acc: 58.605%\n"
     ]
    },
    {
     "name": "stderr",
     "output_type": "stream",
     "text": [
      "100%|██████████| 100/100 [01:32<00:00,  1.08it/s]\n",
      "100%|██████████| 25/25 [00:24<00:00,  1.02it/s]\n"
     ]
    },
    {
     "name": "stdout",
     "output_type": "stream",
     "text": [
      "Epoch: 28 \tTest Loss: 0.848341 \tTest Acc: 59.422%\n",
      "Epoch: 28 \tTrain Loss: 0.860124 \tTrain Acc: 58.789%\n"
     ]
    },
    {
     "name": "stderr",
     "output_type": "stream",
     "text": [
      "100%|██████████| 100/100 [01:31<00:00,  1.09it/s]\n",
      "100%|██████████| 25/25 [00:24<00:00,  1.02it/s]\n"
     ]
    },
    {
     "name": "stdout",
     "output_type": "stream",
     "text": [
      "Epoch: 29 \tTest Loss: 0.856197 \tTest Acc: 59.469%\n",
      "Epoch: 29 \tTrain Loss: 0.848193 \tTrain Acc: 59.129%\n"
     ]
    },
    {
     "name": "stderr",
     "output_type": "stream",
     "text": [
      "100%|██████████| 100/100 [01:32<00:00,  1.09it/s]\n",
      "100%|██████████| 25/25 [00:24<00:00,  1.03it/s]"
     ]
    },
    {
     "name": "stdout",
     "output_type": "stream",
     "text": [
      "Epoch: 30 \tTest Loss: 0.842785 \tTest Acc: 59.953%\n",
      "Epoch: 30 \tTrain Loss: 0.840121 \tTrain Acc: 59.738%\n"
     ]
    },
    {
     "name": "stderr",
     "output_type": "stream",
     "text": [
      "\n"
     ]
    }
   ],
   "source": [
    "AccTrain, LossTrain = [], []\n",
    "\n",
    "for epoch in range(num_epochs):\n",
    "    train_loss = 0.0\n",
    "    correct, total = 0, 0\n",
    "    for data, target in tqdm(trainloader):\n",
    "        data = data.to(device)\n",
    "        target = target.to(device)\n",
    "        optimizer.zero_grad()\n",
    "        output = model(data)\n",
    "        loss = criterion(output, target)\n",
    "        loss.backward()\n",
    "        optimizer.step()\n",
    "        total += target.size(0)\n",
    "        _, predicted = torch.max(output.data, 1)\n",
    "        correct += (predicted == target).sum().item()\n",
    "        train_loss += loss.item() * data.size(0)\n",
    "    if epoch + 1 == num_epochs:\n",
    "        test(True)\n",
    "    else:\n",
    "        test()\n",
    "    train_loss = train_loss / len(trainloader.dataset)\n",
    "    acc = 100 * correct / total\n",
    "    AccTrain.append(acc)\n",
    "    LossTrain.append(train_loss)\n",
    "    print(f'Epoch: {epoch+1} \\tTrain Loss: {train_loss:.6f} \\tTrain Acc: {acc:.3f}%')\n"
   ]
  },
  {
   "cell_type": "code",
   "execution_count": 7,
   "id": "7d77668d",
   "metadata": {
    "execution": {
     "iopub.execute_input": "2024-06-23T12:21:47.676141Z",
     "iopub.status.busy": "2024-06-23T12:21:47.675785Z",
     "iopub.status.idle": "2024-06-23T12:21:47.701135Z",
     "shell.execute_reply": "2024-06-23T12:21:47.700374Z"
    },
    "papermill": {
     "duration": 0.190837,
     "end_time": "2024-06-23T12:21:47.703156",
     "exception": false,
     "start_time": "2024-06-23T12:21:47.512319",
     "status": "completed"
    },
    "tags": []
   },
   "outputs": [],
   "source": [
    "torch.save(model.state_dict(), 'noise.pth')"
   ]
  },
  {
   "cell_type": "code",
   "execution_count": 8,
   "id": "0f23dc86",
   "metadata": {
    "execution": {
     "iopub.execute_input": "2024-06-23T12:21:48.032820Z",
     "iopub.status.busy": "2024-06-23T12:21:48.032507Z",
     "iopub.status.idle": "2024-06-23T12:21:50.255102Z",
     "shell.execute_reply": "2024-06-23T12:21:50.254100Z"
    },
    "papermill": {
     "duration": 2.390617,
     "end_time": "2024-06-23T12:21:50.257113",
     "exception": false,
     "start_time": "2024-06-23T12:21:47.866496",
     "status": "completed"
    },
    "tags": []
   },
   "outputs": [
    {
     "name": "stdout",
     "output_type": "stream",
     "text": [
      "Precision: 60.457 %\n",
      "Recall: 59.945 %\n",
      "F1 Score: 60.200 %\n",
      "F1 Macro Score: 58.301 %\n",
      "F1 Weighted Score: 58.346 %\n"
     ]
    },
    {
     "data": {
      "image/png": "[encoded data removed]",
      "text/plain": [
       "<Figure size 640x480 with 2 Axes>"
      ]
     },
     "metadata": {},
     "output_type": "display_data"
    }
   ],
   "source": [
    "from sklearn.metrics import recall_score, precision_score, f1_score, confusion_matrix, ConfusionMatrixDisplay\n",
    "import matplotlib.pyplot as plt\n",
    "\n",
    "cm = confusion_matrix(y_test, predictions)\n",
    "ConfusionMatrixDisplay(cm).plot()\n",
    "plt.savefig(f'ConfMatrix_noise.png', dpi=500)\n",
    "\n",
    "precision = precision_score(y_test, predictions, average='macro')\n",
    "recall = recall_score(y_test, predictions, average='macro')\n",
    "    \n",
    "f1 = 2 * precision * recall / (precision + recall)\n",
    "f1_macro = f1_score(y_test, predictions, average='macro')\n",
    "f1_weighted = f1_score(y_test, predictions, average='weighted')\n",
    "print(f'Precision: {100 * precision:.3f} %')\n",
    "print(f'Recall: {100 * recall:.3f} %')\n",
    "print(f'F1 Score: {100 * f1:.3f} %')\n",
    "print(f'F1 Macro Score: {100 * f1_macro:.3f} %')\n",
    "print(f'F1 Weighted Score: {100 * f1_weighted:.3f} %')"
   ]
  },
  {
   "cell_type": "code",
   "execution_count": 9,
   "id": "f3fa0935",
   "metadata": {
    "execution": {
     "iopub.execute_input": "2024-06-23T12:21:50.593412Z",
     "iopub.status.busy": "2024-06-23T12:21:50.592400Z",
     "iopub.status.idle": "2024-06-23T12:21:50.600264Z",
     "shell.execute_reply": "2024-06-23T12:21:50.599396Z"
    },
    "papermill": {
     "duration": 0.176289,
     "end_time": "2024-06-23T12:21:50.602119",
     "exception": false,
     "start_time": "2024-06-23T12:21:50.425830",
     "status": "completed"
    },
    "tags": []
   },
   "outputs": [],
   "source": [
    "import os\n",
    "from torch.utils.data import Dataset\n",
    "from torchvision.io import read_image, ImageReadMode\n",
    "\n",
    "class AstrogeoDataset(Dataset):\n",
    "    def __init__(self, dir: str, transform=None) -> None:\n",
    "        self.transform = transform\n",
    "        self.images = os.listdir(dir)\n",
    "        self.dir = dir\n",
    "\n",
    "    def __getitem__(self, index: int) -> tuple:\n",
    "        image = read_image(\n",
    "            f'{self.dir}/{self.images[index]}',\n",
    "            mode=ImageReadMode.RGB\n",
    "        )\n",
    "        file_name = self.images[index]\n",
    "        if self.transform is not None:\n",
    "            image = self.transform(image)\n",
    "        return (file_name, image)\n",
    "\n",
    "    def __len__(self) -> int:\n",
    "        return len(self.images)"
   ]
  },
  {
   "cell_type": "code",
   "execution_count": 10,
   "id": "bab44dd2",
   "metadata": {
    "execution": {
     "iopub.execute_input": "2024-06-23T12:21:50.931744Z",
     "iopub.status.busy": "2024-06-23T12:21:50.930801Z",
     "iopub.status.idle": "2024-06-23T12:27:34.439865Z",
     "shell.execute_reply": "2024-06-23T12:27:34.438685Z"
    },
    "papermill": {
     "duration": 343.676454,
     "end_time": "2024-06-23T12:27:34.442252",
     "exception": false,
     "start_time": "2024-06-23T12:21:50.765798",
     "status": "completed"
    },
    "tags": []
   },
   "outputs": [
    {
     "name": "stderr",
     "output_type": "stream",
     "text": [
      "100%|██████████| 350/350 [05:41<00:00,  1.03it/s]\n"
     ]
    }
   ],
   "source": [
    "import json\n",
    "import pandas as pd\n",
    "\n",
    "transform = transforms.Compose([\n",
    "    transforms.ToPILImage(), transforms.Resize((128, 128)),\n",
    "    transforms.Grayscale(), transforms.ToTensor()]\n",
    ")\n",
    "val = AstrogeoDataset(val_data_path, transform=transform)\n",
    "valloader = torch.utils.data.DataLoader(\n",
    "    val, batch_size=batch_size, shuffle=True, num_workers=4\n",
    ")\n",
    "\n",
    "model.eval()\n",
    "val_preds = {}\n",
    "with torch.no_grad():\n",
    "    for file_names, images in tqdm(valloader):\n",
    "        images = images.to(device)\n",
    "        outputs = model(images)\n",
    "        _, predicted = torch.max(outputs.data, 1)\n",
    "        val_preds.update(dict(zip(file_names, predicted.cpu().tolist())))\n",
    "        \n",
    "with open('predicts.json', 'w') as f:\n",
    "    json.dump(val_preds, f)\n",
    "\n",
    "s1 = pd.Series(val_preds.keys())\n",
    "s2 = pd.Series(val_preds.values())\n",
    "df = pd.concat([s1, s2], axis=1)\n",
    "df = df.rename(columns={0: 'file_name', 1: 'predicted_class'})\n",
    "df.to_csv('classification.csv')"
   ]
  },
  {
   "cell_type": "code",
   "execution_count": 11,
   "id": "c337132e",
   "metadata": {
    "execution": {
     "iopub.execute_input": "2024-06-23T12:27:34.805386Z",
     "iopub.status.busy": "2024-06-23T12:27:34.804580Z",
     "iopub.status.idle": "2024-06-23T12:27:36.376661Z",
     "shell.execute_reply": "2024-06-23T12:27:36.375726Z"
    },
    "papermill": {
     "duration": 1.754924,
     "end_time": "2024-06-23T12:27:36.378836",
     "exception": false,
     "start_time": "2024-06-23T12:27:34.623912",
     "status": "completed"
    },
    "tags": []
   },
   "outputs": [
    {
     "name": "stdout",
     "output_type": "stream",
     "text": [
      "{0: 315, 1: 108, 2: 85314, 3: 3848}\n"
     ]
    },
    {
     "data": {
      "image/png": "[encoded data removed]",
      "text/plain": [
       "<Figure size 1000x700 with 1 Axes>"
      ]
     },
     "metadata": {},
     "output_type": "display_data"
    }
   ],
   "source": [
    "from collections import Counter\n",
    "\n",
    "labels = [\n",
    "    'Одиночный источник', 'Двойной источник',\n",
    "    'Источник с джетом', 'Источник с двойным джетом'\n",
    "]\n",
    "res = dict(Counter(val_preds.values()))\n",
    "res = {k: v for k, v in sorted(res.items())}\n",
    "print(res)\n",
    "fig, ax = plt.subplots(1, 1, figsize=(10, 7))\n",
    "bar = ax.bar(res.keys(), res.values())\n",
    "ax.bar_label(bar, labels=res.values())\n",
    "ax.set_xlabel('Классы истинных изображений')\n",
    "ax.set_ylabel('Количество')\n",
    "ax.set_title('Классификация Astrogeo')\n",
    "fig.tight_layout()\n",
    "plt.savefig('histogram.png', dpi=500)"
   ]
  },
  {
   "cell_type": "code",
   "execution_count": 12,
   "id": "c851233c",
   "metadata": {
    "execution": {
     "iopub.execute_input": "2024-06-23T12:27:36.749320Z",
     "iopub.status.busy": "2024-06-23T12:27:36.748618Z",
     "iopub.status.idle": "2024-06-23T12:27:39.330796Z",
     "shell.execute_reply": "2024-06-23T12:27:39.329828Z"
    },
    "papermill": {
     "duration": 2.768327,
     "end_time": "2024-06-23T12:27:39.333138",
     "exception": false,
     "start_time": "2024-06-23T12:27:36.564811",
     "status": "completed"
    },
    "tags": []
   },
   "outputs": [
    {
     "data": {
      "image/png": "[encoded data removed]",
      "text/plain": [
       "<Figure size 1500x600 with 2 Axes>"
      ]
     },
     "metadata": {},
     "output_type": "display_data"
    }
   ],
   "source": [
    "import numpy as np\n",
    "\n",
    "plt.rcParams.update({'font.size': 16})\n",
    "epochs = np.arange(1, num_epochs + 1)\n",
    "fig, axes = plt.subplots(1, 2, figsize=(15, 6))\n",
    "axes[0].plot(epochs, LossTrain, label='train', color='blue')\n",
    "axes[0].plot(epochs, LossTest, label='test', color='orange')\n",
    "axes[0].set_title('Значение функции потерь от эпохи обучения')\n",
    "axes[0].set_xlabel('Номер эпохи')\n",
    "axes[0].set_ylabel('Значение функции потерь')\n",
    "axes[0].grid()\n",
    "axes[0].legend()\n",
    "\n",
    "axes[1].plot(epochs, AccTrain, label='train', color='blue')\n",
    "axes[1].plot(epochs, AccTest, label='test', color='orange')\n",
    "axes[1].set_title('Значение корректности от эпохи обучения')\n",
    "axes[1].set_ylabel('Корректность')\n",
    "axes[1].set_xlabel('Номер эпохи')\n",
    "axes[1].grid()\n",
    "axes[1].legend()\n",
    "plt.tight_layout()\n",
    "plt.savefig('train.png', dpi=500)"
   ]
  },
  {
   "cell_type": "code",
   "execution_count": 13,
   "id": "31ed96da",
   "metadata": {
    "execution": {
     "iopub.execute_input": "2024-06-23T12:27:39.696986Z",
     "iopub.status.busy": "2024-06-23T12:27:39.696156Z",
     "iopub.status.idle": "2024-06-23T12:27:43.399377Z",
     "shell.execute_reply": "2024-06-23T12:27:43.398158Z"
    },
    "papermill": {
     "duration": 3.88764,
     "end_time": "2024-06-23T12:27:43.401504",
     "exception": false,
     "start_time": "2024-06-23T12:27:39.513864",
     "status": "completed"
    },
    "tags": []
   },
   "outputs": [
    {
     "name": "stderr",
     "output_type": "stream",
     "text": [
      "100%|██████████| 3/3 [00:03<00:00,  1.18s/it]"
     ]
    },
    {
     "name": "stdout",
     "output_type": "stream",
     "text": [
      "Epoch: 30 \tVal Loss: 0.184472 \tVal Acc: 40.372%\n"
     ]
    },
    {
     "name": "stderr",
     "output_type": "stream",
     "text": [
      "\n"
     ]
    }
   ],
   "source": [
    "val_data_path2 = '/kaggle/input/lisakovonelove/val'\n",
    "transform = transforms.Compose([\n",
    "    transforms.Grayscale(),\n",
    "    transforms.Resize(size=(128, 128)),\n",
    "    transforms.ToTensor()]\n",
    ")\n",
    "val = datasets.ImageFolder(val_data_path2, transform=transform)\n",
    "valloader = torch.utils.data.DataLoader(val, batch_size=batch_size, shuffle=True, num_workers=4)\n",
    "AccTest, LossTest = [], []\n",
    "y_test, predictions = [], []\n",
    "\n",
    "with torch.no_grad():\n",
    "    correct, total = 0, 0\n",
    "    test_loss = 0.0\n",
    "    for images, labels in tqdm(valloader):\n",
    "        images = images.to(device)\n",
    "        labels = labels.to(device)\n",
    "        outputs = model(images)\n",
    "        _, predicted = torch.max(outputs.data, 1)\n",
    "        total += labels.size(0)\n",
    "        correct += (predicted == labels).sum().item()\n",
    "        loss = criterion(outputs, labels)\n",
    "        test_loss += loss.item() * data.size(0)\n",
    "        y_test.extend(labels.cpu().numpy())\n",
    "        predictions.extend(predicted.cpu().numpy())\n",
    "    acc = 100 * correct / total\n",
    "    test_loss = test_loss / len(testloader.dataset)\n",
    "    AccTest.append(acc)\n",
    "    LossTest.append(test_loss)\n",
    "    print(f'Epoch: {epoch+1} \\tVal Loss: {test_loss:.6f} \\tVal Acc: {acc:.3f}%')"
   ]
  },
  {
   "cell_type": "code",
   "execution_count": 14,
   "id": "73e99c6a",
   "metadata": {
    "execution": {
     "iopub.execute_input": "2024-06-23T12:27:43.766973Z",
     "iopub.status.busy": "2024-06-23T12:27:43.766575Z",
     "iopub.status.idle": "2024-06-23T12:27:44.762366Z",
     "shell.execute_reply": "2024-06-23T12:27:44.761470Z"
    },
    "papermill": {
     "duration": 1.181053,
     "end_time": "2024-06-23T12:27:44.764693",
     "exception": false,
     "start_time": "2024-06-23T12:27:43.583640",
     "status": "completed"
    },
    "tags": []
   },
   "outputs": [
    {
     "name": "stdout",
     "output_type": "stream",
     "text": [
      "Precision: 25.116 %\n",
      "Recall: 25.164 %\n",
      "F1 Score: 25.140 %\n",
      "F1 Macro Score: 16.636 %\n",
      "F1 Weighted Score: 25.488 %\n"
     ]
    },
    {
     "data": {
      "image/png": "[encoded data removed]",
      "text/plain": [
       "<Figure size 640x480 with 2 Axes>"
      ]
     },
     "metadata": {},
     "output_type": "display_data"
    }
   ],
   "source": [
    "from sklearn.metrics import recall_score, precision_score, f1_score, confusion_matrix, ConfusionMatrixDisplay\n",
    "import matplotlib.pyplot as plt\n",
    "\n",
    "cm = confusion_matrix(y_test, predictions)\n",
    "ConfusionMatrixDisplay(cm).plot()\n",
    "plt.savefig(f'ConfMatrix_noise.png', dpi=500)\n",
    "\n",
    "precision = precision_score(y_test, predictions, average='macro')\n",
    "recall = recall_score(y_test, predictions, average='macro')\n",
    "    \n",
    "f1 = 2 * precision * recall / (precision + recall)\n",
    "f1_macro = f1_score(y_test, predictions, average='macro')\n",
    "f1_weighted = f1_score(y_test, predictions, average='weighted')\n",
    "print(f'Precision: {100 * precision:.3f} %')\n",
    "print(f'Recall: {100 * recall:.3f} %')\n",
    "print(f'F1 Score: {100 * f1:.3f} %')\n",
    "print(f'F1 Macro Score: {100 * f1_macro:.3f} %')\n",
    "print(f'F1 Weighted Score: {100 * f1_weighted:.3f} %')"
   ]
  },
  {
   "cell_type": "code",
   "execution_count": null,
   "id": "577192cc",
   "metadata": {
    "papermill": {
     "duration": 0.182908,
     "end_time": "2024-06-23T12:27:45.130915",
     "exception": false,
     "start_time": "2024-06-23T12:27:44.948007",
     "status": "completed"
    },
    "tags": []
   },
   "outputs": [],
   "source": []
  }
 ],
 "metadata": {
  "kaggle": {
   "accelerator": "gpu",
   "dataSources": [
    {
     "datasetId": 4702184,
     "sourceId": 7987931,
     "sourceType": "datasetVersion"
    },
    {
     "datasetId": 4703603,
     "sourceId": 7989923,
     "sourceType": "datasetVersion"
    },
    {
     "datasetId": 4706799,
     "sourceId": 7994607,
     "sourceType": "datasetVersion"
    },
    {
     "datasetId": 5263849,
     "sourceId": 8761130,
     "sourceType": "datasetVersion"
    }
   ],
   "dockerImageVersionId": 30646,
   "isGpuEnabled": true,
   "isInternetEnabled": true,
   "language": "python",
   "sourceType": "notebook"
  },
  "kernelspec": {
   "display_name": "Python 3",
   "language": "python",
   "name": "python3"
  },
  "language_info": {
   "codemirror_mode": {
    "name": "ipython",
    "version": 3
   },
   "file_extension": ".py",
   "mimetype": "text/x-python",
   "name": "python",
   "nbconvert_exporter": "python",
   "pygments_lexer": "ipython3",
   "version": "3.10.13"
  },
  "papermill": {
   "default_parameters": {},
   "duration": 3933.519578,
   "end_time": "2024-06-23T12:27:47.043378",
   "environment_variables": {},
   "exception": null,
   "input_path": "__notebook__.ipynb",
   "output_path": "__notebook__.ipynb",
   "parameters": {},
   "start_time": "2024-06-23T11:22:13.523800",
   "version": "2.5.0"
  }
 },
 "nbformat": 4,
 "nbformat_minor": 5
}
