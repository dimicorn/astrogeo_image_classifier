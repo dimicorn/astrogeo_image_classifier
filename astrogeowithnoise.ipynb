{
 "cells": [
  {
   "cell_type": "code",
   "execution_count": 1,
   "id": "b80cf1ed",
   "metadata": {
    "execution": {
     "iopub.execute_input": "2024-06-22T09:42:13.151967Z",
     "iopub.status.busy": "2024-06-22T09:42:13.151168Z",
     "iopub.status.idle": "2024-06-22T09:42:13.163899Z",
     "shell.execute_reply": "2024-06-22T09:42:13.162896Z"
    },
    "papermill": {
     "duration": 0.02199,
     "end_time": "2024-06-22T09:42:13.166232",
     "exception": false,
     "start_time": "2024-06-22T09:42:13.144242",
     "status": "completed"
    },
    "tags": []
   },
   "outputs": [],
   "source": [
    "import os\n",
    "import warnings\n",
    "\n",
    "warnings.filterwarnings('ignore')\n",
    "train_data_path = '/kaggle/input/astrogeonoisy96k/noise_96k'\n",
    "val_data_path = '/kaggle/input/astrogeo512x512/data_512x512_abs'"
   ]
  },
  {
   "cell_type": "code",
   "execution_count": 2,
   "id": "416df14e",
   "metadata": {
    "execution": {
     "iopub.execute_input": "2024-06-22T09:42:13.177532Z",
     "iopub.status.busy": "2024-06-22T09:42:13.177216Z",
     "iopub.status.idle": "2024-06-22T09:42:19.919081Z",
     "shell.execute_reply": "2024-06-22T09:42:19.918110Z"
    },
    "papermill": {
     "duration": 6.750077,
     "end_time": "2024-06-22T09:42:19.921603",
     "exception": false,
     "start_time": "2024-06-22T09:42:13.171526",
     "status": "completed"
    },
    "tags": []
   },
   "outputs": [],
   "source": [
    "import torch.nn as nn\n",
    "import torch\n",
    "from torchvision import datasets, transforms\n",
    "import torch.optim as optim\n",
    "from tqdm import tqdm\n",
    "\n",
    "class CNN(nn.Module):\n",
    "    def __init__(self) -> None:\n",
    "        super(CNN, self).__init__()\n",
    "        self.conv1 = nn.Conv2d(1, 16, kernel_size=3, padding=1)\n",
    "        self.conv2 = nn.Conv2d(16, 32, kernel_size=3, padding=1)\n",
    "        self.conv3 = nn.Conv2d(32, 64, kernel_size=3, padding=1)\n",
    "\n",
    "        self.fc1 = nn.Linear(64*16*16, 128)\n",
    "        self.fc2 = nn.Linear(128, 4)\n",
    "\n",
    "        self.relu = nn.ReLU()\n",
    "\n",
    "        self.pool = nn.MaxPool2d(2, 2)\n",
    "        self.dropout = nn.Dropout(p=0.2)\n",
    "    \n",
    "    def forward(self, image: torch.Tensor) -> torch.Tensor:\n",
    "        image = self.conv1(image)\n",
    "        image = self.relu(image)\n",
    "        image = self.pool(image)\n",
    "        image = self.conv2(image)\n",
    "        image = self.relu(image)\n",
    "        image = self.pool(image)\n",
    "        image = self.conv3(image)\n",
    "        image = self.relu(image)\n",
    "        image = self.pool(image)\n",
    "        image = image.view(-1, 64*16*16)\n",
    "        image = self.fc1(image)\n",
    "        image = self.relu(image)\n",
    "        image = self.dropout(image)\n",
    "        image = self.fc2(image)\n",
    "        return image"
   ]
  },
  {
   "cell_type": "code",
   "execution_count": 3,
   "id": "6a022f26",
   "metadata": {
    "execution": {
     "iopub.execute_input": "2024-06-22T09:42:19.932237Z",
     "iopub.status.busy": "2024-06-22T09:42:19.931537Z",
     "iopub.status.idle": "2024-06-22T09:42:19.935892Z",
     "shell.execute_reply": "2024-06-22T09:42:19.935033Z"
    },
    "papermill": {
     "duration": 0.011804,
     "end_time": "2024-06-22T09:42:19.938054",
     "exception": false,
     "start_time": "2024-06-22T09:42:19.926250",
     "status": "completed"
    },
    "tags": []
   },
   "outputs": [],
   "source": [
    "num_epochs = 100\n",
    "batch_size = 256\n",
    "learning_rate = 1e-4\n",
    "weight_decay = 1e-5\n",
    "train_test_ratio = 0.8"
   ]
  },
  {
   "cell_type": "code",
   "execution_count": 4,
   "id": "30b0494c",
   "metadata": {
    "execution": {
     "iopub.execute_input": "2024-06-22T09:42:19.948086Z",
     "iopub.status.busy": "2024-06-22T09:42:19.947368Z",
     "iopub.status.idle": "2024-06-22T09:43:01.855730Z",
     "shell.execute_reply": "2024-06-22T09:43:01.854642Z"
    },
    "papermill": {
     "duration": 41.92037,
     "end_time": "2024-06-22T09:43:01.862496",
     "exception": false,
     "start_time": "2024-06-22T09:42:19.942126",
     "status": "completed"
    },
    "tags": []
   },
   "outputs": [
    {
     "data": {
      "text/plain": [
       "CNN(\n",
       "  (conv1): Conv2d(1, 16, kernel_size=(3, 3), stride=(1, 1), padding=(1, 1))\n",
       "  (conv2): Conv2d(16, 32, kernel_size=(3, 3), stride=(1, 1), padding=(1, 1))\n",
       "  (conv3): Conv2d(32, 64, kernel_size=(3, 3), stride=(1, 1), padding=(1, 1))\n",
       "  (fc1): Linear(in_features=16384, out_features=128, bias=True)\n",
       "  (fc2): Linear(in_features=128, out_features=4, bias=True)\n",
       "  (relu): ReLU()\n",
       "  (pool): MaxPool2d(kernel_size=2, stride=2, padding=0, dilation=1, ceil_mode=False)\n",
       "  (dropout): Dropout(p=0.2, inplace=False)\n",
       ")"
      ]
     },
     "execution_count": 4,
     "metadata": {},
     "output_type": "execute_result"
    }
   ],
   "source": [
    "import torch.optim as optim\n",
    "\n",
    "device = torch.device('cuda' if torch.cuda.is_available() else 'cpu')\n",
    "transform = transforms.Compose([\n",
    "    transforms.Grayscale(),\n",
    "    transforms.Resize(size=(128, 128)),\n",
    "    transforms.RandomHorizontalFlip(p=0.5),\n",
    "    transforms.RandomVerticalFlip(p=0.5),\n",
    "    transforms.RandomAffine(degrees=(0, 0), translate=(0.1, 0.3), scale=None), #degrees=(0, 180)\n",
    "    transforms.ToTensor()]\n",
    ")\n",
    "data = datasets.ImageFolder(train_data_path, transform=transform)\n",
    "\n",
    "train_size = int(train_test_ratio * len(data))\n",
    "test_size = len(data) - train_size\n",
    "train, test = torch.utils.data.random_split(data, [train_size, test_size])\n",
    "trainloader = torch.utils.data.DataLoader(train, batch_size=batch_size, shuffle=True, num_workers=4)\n",
    "testloader = torch.utils.data.DataLoader(test, batch_size=batch_size, shuffle=True, num_workers=4)\n",
    "\n",
    "model = CNN()\n",
    "model.to(device)\n",
    "optimizer = optim.Adam(model.parameters(), lr=learning_rate, weight_decay=weight_decay)\n",
    "criterion = nn.CrossEntropyLoss()\n",
    "model.train()"
   ]
  },
  {
   "cell_type": "code",
   "execution_count": 5,
   "id": "f03642dd",
   "metadata": {
    "execution": {
     "iopub.execute_input": "2024-06-22T09:43:01.873365Z",
     "iopub.status.busy": "2024-06-22T09:43:01.873047Z",
     "iopub.status.idle": "2024-06-22T09:43:01.884069Z",
     "shell.execute_reply": "2024-06-22T09:43:01.882069Z"
    },
    "papermill": {
     "duration": 0.020164,
     "end_time": "2024-06-22T09:43:01.887422",
     "exception": false,
     "start_time": "2024-06-22T09:43:01.867258",
     "status": "completed"
    },
    "tags": []
   },
   "outputs": [],
   "source": [
    "AccTest, LossTest = [], []\n",
    "y_test, predictions = [], []\n",
    "def test(flag=False):\n",
    "    with torch.no_grad():\n",
    "        correct, total = 0, 0\n",
    "        test_loss = 0.0\n",
    "        for images, labels in tqdm(testloader):\n",
    "            images = images.to(device)\n",
    "            labels = labels.to(device)\n",
    "            outputs = model(images)\n",
    "            _, predicted = torch.max(outputs.data, 1)\n",
    "            total += labels.size(0)\n",
    "            correct += (predicted == labels).sum().item()\n",
    "            loss = criterion(outputs, labels)\n",
    "            test_loss += loss.item() * data.size(0)\n",
    "            if flag:\n",
    "                y_test.extend(labels.cpu().numpy())\n",
    "                predictions.extend(predicted.cpu().numpy())\n",
    "        acc = 100 * correct / total\n",
    "        test_loss = test_loss / len(testloader.dataset)\n",
    "        AccTest.append(acc)\n",
    "        LossTest.append(test_loss)\n",
    "        print(f'Epoch: {epoch+1} \\tTest Loss: {test_loss:.6f} \\tTest Acc: {acc:.3f}%')"
   ]
  },
  {
   "cell_type": "code",
   "execution_count": 6,
   "id": "a001c211",
   "metadata": {
    "execution": {
     "iopub.execute_input": "2024-06-22T09:43:01.900899Z",
     "iopub.status.busy": "2024-06-22T09:43:01.900531Z",
     "iopub.status.idle": "2024-06-22T19:47:37.136660Z",
     "shell.execute_reply": "2024-06-22T19:47:37.135232Z"
    },
    "papermill": {
     "duration": 36275.245725,
     "end_time": "2024-06-22T19:47:37.138968",
     "exception": false,
     "start_time": "2024-06-22T09:43:01.893243",
     "status": "completed"
    },
    "tags": []
   },
   "outputs": [
    {
     "name": "stderr",
     "output_type": "stream",
     "text": [
      "100%|██████████| 300/300 [05:57<00:00,  1.19s/it]\n",
      "100%|██████████| 75/75 [01:22<00:00,  1.10s/it]\n"
     ]
    },
    {
     "name": "stdout",
     "output_type": "stream",
     "text": [
      "Epoch: 1 \tTest Loss: 0.605462 \tTest Acc: 70.865%\n",
      "Epoch: 1 \tTrain Loss: 0.916402 \tTrain Acc: 55.225%\n"
     ]
    },
    {
     "name": "stderr",
     "output_type": "stream",
     "text": [
      "100%|██████████| 300/300 [04:49<00:00,  1.04it/s]\n",
      "100%|██████████| 75/75 [01:13<00:00,  1.02it/s]\n"
     ]
    },
    {
     "name": "stdout",
     "output_type": "stream",
     "text": [
      "Epoch: 2 \tTest Loss: 0.458091 \tTest Acc: 79.891%\n",
      "Epoch: 2 \tTrain Loss: 0.521399 \tTrain Acc: 76.069%\n"
     ]
    },
    {
     "name": "stderr",
     "output_type": "stream",
     "text": [
      "100%|██████████| 300/300 [04:46<00:00,  1.05it/s]\n",
      "100%|██████████| 75/75 [01:12<00:00,  1.04it/s]\n"
     ]
    },
    {
     "name": "stdout",
     "output_type": "stream",
     "text": [
      "Epoch: 3 \tTest Loss: 0.404670 \tTest Acc: 82.495%\n",
      "Epoch: 3 \tTrain Loss: 0.429263 \tTrain Acc: 81.078%\n"
     ]
    },
    {
     "name": "stderr",
     "output_type": "stream",
     "text": [
      "100%|██████████| 300/300 [04:47<00:00,  1.04it/s]\n",
      "100%|██████████| 75/75 [01:13<00:00,  1.03it/s]\n"
     ]
    },
    {
     "name": "stdout",
     "output_type": "stream",
     "text": [
      "Epoch: 4 \tTest Loss: 0.369160 \tTest Acc: 84.245%\n",
      "Epoch: 4 \tTrain Loss: 0.387161 \tTrain Acc: 83.462%\n"
     ]
    },
    {
     "name": "stderr",
     "output_type": "stream",
     "text": [
      "100%|██████████| 300/300 [04:50<00:00,  1.03it/s]\n",
      "100%|██████████| 75/75 [01:12<00:00,  1.04it/s]\n"
     ]
    },
    {
     "name": "stdout",
     "output_type": "stream",
     "text": [
      "Epoch: 5 \tTest Loss: 0.354200 \tTest Acc: 84.771%\n",
      "Epoch: 5 \tTrain Loss: 0.362194 \tTrain Acc: 84.410%\n"
     ]
    },
    {
     "name": "stderr",
     "output_type": "stream",
     "text": [
      "100%|██████████| 300/300 [04:47<00:00,  1.04it/s]\n",
      "100%|██████████| 75/75 [01:11<00:00,  1.04it/s]\n"
     ]
    },
    {
     "name": "stdout",
     "output_type": "stream",
     "text": [
      "Epoch: 6 \tTest Loss: 0.329230 \tTest Acc: 85.438%\n",
      "Epoch: 6 \tTrain Loss: 0.337794 \tTrain Acc: 85.691%\n"
     ]
    },
    {
     "name": "stderr",
     "output_type": "stream",
     "text": [
      "100%|██████████| 300/300 [04:48<00:00,  1.04it/s]\n",
      "100%|██████████| 75/75 [01:18<00:00,  1.05s/it]\n"
     ]
    },
    {
     "name": "stdout",
     "output_type": "stream",
     "text": [
      "Epoch: 7 \tTest Loss: 0.308831 \tTest Acc: 87.333%\n",
      "Epoch: 7 \tTrain Loss: 0.321090 \tTrain Acc: 86.595%\n"
     ]
    },
    {
     "name": "stderr",
     "output_type": "stream",
     "text": [
      "100%|██████████| 300/300 [04:49<00:00,  1.04it/s]\n",
      "100%|██████████| 75/75 [01:10<00:00,  1.06it/s]\n"
     ]
    },
    {
     "name": "stdout",
     "output_type": "stream",
     "text": [
      "Epoch: 8 \tTest Loss: 0.297699 \tTest Acc: 87.833%\n",
      "Epoch: 8 \tTrain Loss: 0.302166 \tTrain Acc: 87.409%\n"
     ]
    },
    {
     "name": "stderr",
     "output_type": "stream",
     "text": [
      "100%|██████████| 300/300 [04:59<00:00,  1.00it/s]\n",
      "100%|██████████| 75/75 [01:12<00:00,  1.04it/s]\n"
     ]
    },
    {
     "name": "stdout",
     "output_type": "stream",
     "text": [
      "Epoch: 9 \tTest Loss: 0.267941 \tTest Acc: 89.167%\n",
      "Epoch: 9 \tTrain Loss: 0.275146 \tTrain Acc: 88.837%\n"
     ]
    },
    {
     "name": "stderr",
     "output_type": "stream",
     "text": [
      "100%|██████████| 300/300 [04:39<00:00,  1.07it/s]\n",
      "100%|██████████| 75/75 [01:17<00:00,  1.04s/it]\n"
     ]
    },
    {
     "name": "stdout",
     "output_type": "stream",
     "text": [
      "Epoch: 10 \tTest Loss: 0.249267 \tTest Acc: 89.859%\n",
      "Epoch: 10 \tTrain Loss: 0.256817 \tTrain Acc: 89.605%\n"
     ]
    },
    {
     "name": "stderr",
     "output_type": "stream",
     "text": [
      "100%|██████████| 300/300 [04:45<00:00,  1.05it/s]\n",
      "100%|██████████| 75/75 [01:08<00:00,  1.10it/s]\n"
     ]
    },
    {
     "name": "stdout",
     "output_type": "stream",
     "text": [
      "Epoch: 11 \tTest Loss: 0.239111 \tTest Acc: 90.391%\n",
      "Epoch: 11 \tTrain Loss: 0.239776 \tTrain Acc: 90.413%\n"
     ]
    },
    {
     "name": "stderr",
     "output_type": "stream",
     "text": [
      "100%|██████████| 300/300 [04:39<00:00,  1.07it/s]\n",
      "100%|██████████| 75/75 [01:08<00:00,  1.10it/s]\n"
     ]
    },
    {
     "name": "stdout",
     "output_type": "stream",
     "text": [
      "Epoch: 12 \tTest Loss: 0.216051 \tTest Acc: 91.516%\n",
      "Epoch: 12 \tTrain Loss: 0.225219 \tTrain Acc: 91.069%\n"
     ]
    },
    {
     "name": "stderr",
     "output_type": "stream",
     "text": [
      "100%|██████████| 300/300 [04:40<00:00,  1.07it/s]\n",
      "100%|██████████| 75/75 [01:10<00:00,  1.07it/s]\n"
     ]
    },
    {
     "name": "stdout",
     "output_type": "stream",
     "text": [
      "Epoch: 13 \tTest Loss: 0.212567 \tTest Acc: 92.042%\n",
      "Epoch: 13 \tTrain Loss: 0.215759 \tTrain Acc: 91.426%\n"
     ]
    },
    {
     "name": "stderr",
     "output_type": "stream",
     "text": [
      "100%|██████████| 300/300 [04:42<00:00,  1.06it/s]\n",
      "100%|██████████| 75/75 [01:10<00:00,  1.06it/s]\n"
     ]
    },
    {
     "name": "stdout",
     "output_type": "stream",
     "text": [
      "Epoch: 14 \tTest Loss: 0.206020 \tTest Acc: 91.562%\n",
      "Epoch: 14 \tTrain Loss: 0.203272 \tTrain Acc: 92.129%\n"
     ]
    },
    {
     "name": "stderr",
     "output_type": "stream",
     "text": [
      "100%|██████████| 300/300 [04:39<00:00,  1.07it/s]\n",
      "100%|██████████| 75/75 [01:10<00:00,  1.06it/s]\n"
     ]
    },
    {
     "name": "stdout",
     "output_type": "stream",
     "text": [
      "Epoch: 15 \tTest Loss: 0.191917 \tTest Acc: 92.781%\n",
      "Epoch: 15 \tTrain Loss: 0.194727 \tTrain Acc: 92.374%\n"
     ]
    },
    {
     "name": "stderr",
     "output_type": "stream",
     "text": [
      "100%|██████████| 300/300 [04:39<00:00,  1.07it/s]\n",
      "100%|██████████| 75/75 [01:11<00:00,  1.05it/s]\n"
     ]
    },
    {
     "name": "stdout",
     "output_type": "stream",
     "text": [
      "Epoch: 16 \tTest Loss: 0.187669 \tTest Acc: 92.922%\n",
      "Epoch: 16 \tTrain Loss: 0.185120 \tTrain Acc: 92.842%\n"
     ]
    },
    {
     "name": "stderr",
     "output_type": "stream",
     "text": [
      "100%|██████████| 300/300 [04:44<00:00,  1.05it/s]\n",
      "100%|██████████| 75/75 [01:09<00:00,  1.08it/s]\n"
     ]
    },
    {
     "name": "stdout",
     "output_type": "stream",
     "text": [
      "Epoch: 17 \tTest Loss: 0.175267 \tTest Acc: 93.380%\n",
      "Epoch: 17 \tTrain Loss: 0.177187 \tTrain Acc: 93.297%\n"
     ]
    },
    {
     "name": "stderr",
     "output_type": "stream",
     "text": [
      "100%|██████████| 300/300 [04:42<00:00,  1.06it/s]\n",
      "100%|██████████| 75/75 [01:11<00:00,  1.05it/s]\n"
     ]
    },
    {
     "name": "stdout",
     "output_type": "stream",
     "text": [
      "Epoch: 18 \tTest Loss: 0.163771 \tTest Acc: 93.943%\n",
      "Epoch: 18 \tTrain Loss: 0.167883 \tTrain Acc: 93.659%\n"
     ]
    },
    {
     "name": "stderr",
     "output_type": "stream",
     "text": [
      "100%|██████████| 300/300 [04:48<00:00,  1.04it/s]\n",
      "100%|██████████| 75/75 [01:12<00:00,  1.04it/s]\n"
     ]
    },
    {
     "name": "stdout",
     "output_type": "stream",
     "text": [
      "Epoch: 19 \tTest Loss: 0.168905 \tTest Acc: 93.594%\n",
      "Epoch: 19 \tTrain Loss: 0.161609 \tTrain Acc: 93.848%\n"
     ]
    },
    {
     "name": "stderr",
     "output_type": "stream",
     "text": [
      "100%|██████████| 300/300 [05:03<00:00,  1.01s/it]\n",
      "100%|██████████| 75/75 [01:15<00:00,  1.00s/it]\n"
     ]
    },
    {
     "name": "stdout",
     "output_type": "stream",
     "text": [
      "Epoch: 20 \tTest Loss: 0.155415 \tTest Acc: 94.417%\n",
      "Epoch: 20 \tTrain Loss: 0.157207 \tTrain Acc: 94.014%\n"
     ]
    },
    {
     "name": "stderr",
     "output_type": "stream",
     "text": [
      "100%|██████████| 300/300 [04:48<00:00,  1.04it/s]\n",
      "100%|██████████| 75/75 [01:13<00:00,  1.02it/s]\n"
     ]
    },
    {
     "name": "stdout",
     "output_type": "stream",
     "text": [
      "Epoch: 21 \tTest Loss: 0.144591 \tTest Acc: 94.724%\n",
      "Epoch: 21 \tTrain Loss: 0.144748 \tTrain Acc: 94.566%\n"
     ]
    },
    {
     "name": "stderr",
     "output_type": "stream",
     "text": [
      "100%|██████████| 300/300 [04:57<00:00,  1.01it/s]\n",
      "100%|██████████| 75/75 [01:15<00:00,  1.01s/it]\n"
     ]
    },
    {
     "name": "stdout",
     "output_type": "stream",
     "text": [
      "Epoch: 22 \tTest Loss: 0.134778 \tTest Acc: 95.062%\n",
      "Epoch: 22 \tTrain Loss: 0.139453 \tTrain Acc: 94.832%\n"
     ]
    },
    {
     "name": "stderr",
     "output_type": "stream",
     "text": [
      "100%|██████████| 300/300 [04:50<00:00,  1.03it/s]\n",
      "100%|██████████| 75/75 [01:11<00:00,  1.05it/s]\n"
     ]
    },
    {
     "name": "stdout",
     "output_type": "stream",
     "text": [
      "Epoch: 23 \tTest Loss: 0.133650 \tTest Acc: 95.208%\n",
      "Epoch: 23 \tTrain Loss: 0.131669 \tTrain Acc: 95.116%\n"
     ]
    },
    {
     "name": "stderr",
     "output_type": "stream",
     "text": [
      "100%|██████████| 300/300 [04:43<00:00,  1.06it/s]\n",
      "100%|██████████| 75/75 [01:18<00:00,  1.05s/it]\n"
     ]
    },
    {
     "name": "stdout",
     "output_type": "stream",
     "text": [
      "Epoch: 24 \tTest Loss: 0.129618 \tTest Acc: 95.536%\n",
      "Epoch: 24 \tTrain Loss: 0.128301 \tTrain Acc: 95.172%\n"
     ]
    },
    {
     "name": "stderr",
     "output_type": "stream",
     "text": [
      "100%|██████████| 300/300 [04:47<00:00,  1.04it/s]\n",
      "100%|██████████| 75/75 [01:11<00:00,  1.05it/s]\n"
     ]
    },
    {
     "name": "stdout",
     "output_type": "stream",
     "text": [
      "Epoch: 25 \tTest Loss: 0.126030 \tTest Acc: 95.370%\n",
      "Epoch: 25 \tTrain Loss: 0.122372 \tTrain Acc: 95.525%\n"
     ]
    },
    {
     "name": "stderr",
     "output_type": "stream",
     "text": [
      "100%|██████████| 300/300 [04:44<00:00,  1.06it/s]\n",
      "100%|██████████| 75/75 [01:11<00:00,  1.04it/s]\n"
     ]
    },
    {
     "name": "stdout",
     "output_type": "stream",
     "text": [
      "Epoch: 26 \tTest Loss: 0.112993 \tTest Acc: 96.104%\n",
      "Epoch: 26 \tTrain Loss: 0.119031 \tTrain Acc: 95.633%\n"
     ]
    },
    {
     "name": "stderr",
     "output_type": "stream",
     "text": [
      "100%|██████████| 300/300 [04:50<00:00,  1.03it/s]\n",
      "100%|██████████| 75/75 [01:10<00:00,  1.07it/s]\n"
     ]
    },
    {
     "name": "stdout",
     "output_type": "stream",
     "text": [
      "Epoch: 27 \tTest Loss: 0.111576 \tTest Acc: 95.974%\n",
      "Epoch: 27 \tTrain Loss: 0.114291 \tTrain Acc: 95.789%\n"
     ]
    },
    {
     "name": "stderr",
     "output_type": "stream",
     "text": [
      "100%|██████████| 300/300 [04:47<00:00,  1.04it/s]\n",
      "100%|██████████| 75/75 [01:11<00:00,  1.05it/s]\n"
     ]
    },
    {
     "name": "stdout",
     "output_type": "stream",
     "text": [
      "Epoch: 28 \tTest Loss: 0.107783 \tTest Acc: 96.161%\n",
      "Epoch: 28 \tTrain Loss: 0.110024 \tTrain Acc: 96.086%\n"
     ]
    },
    {
     "name": "stderr",
     "output_type": "stream",
     "text": [
      "100%|██████████| 300/300 [04:50<00:00,  1.03it/s]\n",
      "100%|██████████| 75/75 [01:09<00:00,  1.08it/s]\n"
     ]
    },
    {
     "name": "stdout",
     "output_type": "stream",
     "text": [
      "Epoch: 29 \tTest Loss: 0.107779 \tTest Acc: 96.146%\n",
      "Epoch: 29 \tTrain Loss: 0.109730 \tTrain Acc: 96.010%\n"
     ]
    },
    {
     "name": "stderr",
     "output_type": "stream",
     "text": [
      "100%|██████████| 300/300 [04:39<00:00,  1.07it/s]\n",
      "100%|██████████| 75/75 [01:08<00:00,  1.10it/s]\n"
     ]
    },
    {
     "name": "stdout",
     "output_type": "stream",
     "text": [
      "Epoch: 30 \tTest Loss: 0.114191 \tTest Acc: 95.745%\n",
      "Epoch: 30 \tTrain Loss: 0.104739 \tTrain Acc: 96.241%\n"
     ]
    },
    {
     "name": "stderr",
     "output_type": "stream",
     "text": [
      "100%|██████████| 300/300 [04:35<00:00,  1.09it/s]\n",
      "100%|██████████| 75/75 [01:09<00:00,  1.08it/s]\n"
     ]
    },
    {
     "name": "stdout",
     "output_type": "stream",
     "text": [
      "Epoch: 31 \tTest Loss: 0.100578 \tTest Acc: 96.609%\n",
      "Epoch: 31 \tTrain Loss: 0.101300 \tTrain Acc: 96.378%\n"
     ]
    },
    {
     "name": "stderr",
     "output_type": "stream",
     "text": [
      "100%|██████████| 300/300 [04:43<00:00,  1.06it/s]\n",
      "100%|██████████| 75/75 [01:10<00:00,  1.06it/s]\n"
     ]
    },
    {
     "name": "stdout",
     "output_type": "stream",
     "text": [
      "Epoch: 32 \tTest Loss: 0.098778 \tTest Acc: 96.526%\n",
      "Epoch: 32 \tTrain Loss: 0.098833 \tTrain Acc: 96.529%\n"
     ]
    },
    {
     "name": "stderr",
     "output_type": "stream",
     "text": [
      "100%|██████████| 300/300 [04:48<00:00,  1.04it/s]\n",
      "100%|██████████| 75/75 [01:12<00:00,  1.03it/s]\n"
     ]
    },
    {
     "name": "stdout",
     "output_type": "stream",
     "text": [
      "Epoch: 33 \tTest Loss: 0.098452 \tTest Acc: 96.745%\n",
      "Epoch: 33 \tTrain Loss: 0.096677 \tTrain Acc: 96.568%\n"
     ]
    },
    {
     "name": "stderr",
     "output_type": "stream",
     "text": [
      "100%|██████████| 300/300 [04:53<00:00,  1.02it/s]\n",
      "100%|██████████| 75/75 [01:11<00:00,  1.05it/s]\n"
     ]
    },
    {
     "name": "stdout",
     "output_type": "stream",
     "text": [
      "Epoch: 34 \tTest Loss: 0.092172 \tTest Acc: 96.896%\n",
      "Epoch: 34 \tTrain Loss: 0.096398 \tTrain Acc: 96.569%\n"
     ]
    },
    {
     "name": "stderr",
     "output_type": "stream",
     "text": [
      "100%|██████████| 300/300 [04:52<00:00,  1.03it/s]\n",
      "100%|██████████| 75/75 [01:12<00:00,  1.04it/s]\n"
     ]
    },
    {
     "name": "stdout",
     "output_type": "stream",
     "text": [
      "Epoch: 35 \tTest Loss: 0.092742 \tTest Acc: 96.844%\n",
      "Epoch: 35 \tTrain Loss: 0.090192 \tTrain Acc: 96.837%\n"
     ]
    },
    {
     "name": "stderr",
     "output_type": "stream",
     "text": [
      "100%|██████████| 300/300 [04:47<00:00,  1.04it/s]\n",
      "100%|██████████| 75/75 [01:12<00:00,  1.03it/s]\n"
     ]
    },
    {
     "name": "stdout",
     "output_type": "stream",
     "text": [
      "Epoch: 36 \tTest Loss: 0.088233 \tTest Acc: 96.932%\n",
      "Epoch: 36 \tTrain Loss: 0.089218 \tTrain Acc: 96.898%\n"
     ]
    },
    {
     "name": "stderr",
     "output_type": "stream",
     "text": [
      "100%|██████████| 300/300 [05:10<00:00,  1.04s/it]\n",
      "100%|██████████| 75/75 [01:26<00:00,  1.16s/it]\n"
     ]
    },
    {
     "name": "stdout",
     "output_type": "stream",
     "text": [
      "Epoch: 37 \tTest Loss: 0.087531 \tTest Acc: 96.958%\n",
      "Epoch: 37 \tTrain Loss: 0.087201 \tTrain Acc: 96.964%\n"
     ]
    },
    {
     "name": "stderr",
     "output_type": "stream",
     "text": [
      "100%|██████████| 300/300 [05:11<00:00,  1.04s/it]\n",
      "100%|██████████| 75/75 [01:13<00:00,  1.02it/s]\n"
     ]
    },
    {
     "name": "stdout",
     "output_type": "stream",
     "text": [
      "Epoch: 38 \tTest Loss: 0.083455 \tTest Acc: 97.167%\n",
      "Epoch: 38 \tTrain Loss: 0.086142 \tTrain Acc: 96.958%\n"
     ]
    },
    {
     "name": "stderr",
     "output_type": "stream",
     "text": [
      "100%|██████████| 300/300 [05:11<00:00,  1.04s/it]\n",
      "100%|██████████| 75/75 [01:24<00:00,  1.13s/it]\n"
     ]
    },
    {
     "name": "stdout",
     "output_type": "stream",
     "text": [
      "Epoch: 39 \tTest Loss: 0.081822 \tTest Acc: 97.260%\n",
      "Epoch: 39 \tTrain Loss: 0.084123 \tTrain Acc: 97.047%\n"
     ]
    },
    {
     "name": "stderr",
     "output_type": "stream",
     "text": [
      "100%|██████████| 300/300 [05:02<00:00,  1.01s/it]\n",
      "100%|██████████| 75/75 [01:11<00:00,  1.05it/s]\n"
     ]
    },
    {
     "name": "stdout",
     "output_type": "stream",
     "text": [
      "Epoch: 40 \tTest Loss: 0.082341 \tTest Acc: 97.177%\n",
      "Epoch: 40 \tTrain Loss: 0.082820 \tTrain Acc: 97.137%\n"
     ]
    },
    {
     "name": "stderr",
     "output_type": "stream",
     "text": [
      "100%|██████████| 300/300 [04:52<00:00,  1.03it/s]\n",
      "100%|██████████| 75/75 [01:12<00:00,  1.04it/s]\n"
     ]
    },
    {
     "name": "stdout",
     "output_type": "stream",
     "text": [
      "Epoch: 41 \tTest Loss: 0.080302 \tTest Acc: 97.203%\n",
      "Epoch: 41 \tTrain Loss: 0.080342 \tTrain Acc: 97.230%\n"
     ]
    },
    {
     "name": "stderr",
     "output_type": "stream",
     "text": [
      "100%|██████████| 300/300 [05:05<00:00,  1.02s/it]\n",
      "100%|██████████| 75/75 [01:17<00:00,  1.03s/it]\n"
     ]
    },
    {
     "name": "stdout",
     "output_type": "stream",
     "text": [
      "Epoch: 42 \tTest Loss: 0.081253 \tTest Acc: 97.115%\n",
      "Epoch: 42 \tTrain Loss: 0.078663 \tTrain Acc: 97.280%\n"
     ]
    },
    {
     "name": "stderr",
     "output_type": "stream",
     "text": [
      "100%|██████████| 300/300 [05:00<00:00,  1.00s/it]\n",
      "100%|██████████| 75/75 [01:16<00:00,  1.02s/it]\n"
     ]
    },
    {
     "name": "stdout",
     "output_type": "stream",
     "text": [
      "Epoch: 43 \tTest Loss: 0.078713 \tTest Acc: 97.297%\n",
      "Epoch: 43 \tTrain Loss: 0.077809 \tTrain Acc: 97.298%\n"
     ]
    },
    {
     "name": "stderr",
     "output_type": "stream",
     "text": [
      "100%|██████████| 300/300 [04:56<00:00,  1.01it/s]\n",
      "100%|██████████| 75/75 [01:13<00:00,  1.02it/s]\n"
     ]
    },
    {
     "name": "stdout",
     "output_type": "stream",
     "text": [
      "Epoch: 44 \tTest Loss: 0.072554 \tTest Acc: 97.531%\n",
      "Epoch: 44 \tTrain Loss: 0.075457 \tTrain Acc: 97.393%\n"
     ]
    },
    {
     "name": "stderr",
     "output_type": "stream",
     "text": [
      "100%|██████████| 300/300 [04:51<00:00,  1.03it/s]\n",
      "100%|██████████| 75/75 [01:14<00:00,  1.01it/s]\n"
     ]
    },
    {
     "name": "stdout",
     "output_type": "stream",
     "text": [
      "Epoch: 45 \tTest Loss: 0.071717 \tTest Acc: 97.557%\n",
      "Epoch: 45 \tTrain Loss: 0.076008 \tTrain Acc: 97.363%\n"
     ]
    },
    {
     "name": "stderr",
     "output_type": "stream",
     "text": [
      "100%|██████████| 300/300 [05:14<00:00,  1.05s/it]\n",
      "100%|██████████| 75/75 [01:23<00:00,  1.11s/it]\n"
     ]
    },
    {
     "name": "stdout",
     "output_type": "stream",
     "text": [
      "Epoch: 46 \tTest Loss: 0.070025 \tTest Acc: 97.656%\n",
      "Epoch: 46 \tTrain Loss: 0.074372 \tTrain Acc: 97.414%\n"
     ]
    },
    {
     "name": "stderr",
     "output_type": "stream",
     "text": [
      "100%|██████████| 300/300 [05:11<00:00,  1.04s/it]\n",
      "100%|██████████| 75/75 [01:15<00:00,  1.00s/it]\n"
     ]
    },
    {
     "name": "stdout",
     "output_type": "stream",
     "text": [
      "Epoch: 47 \tTest Loss: 0.075642 \tTest Acc: 97.552%\n",
      "Epoch: 47 \tTrain Loss: 0.073155 \tTrain Acc: 97.490%\n"
     ]
    },
    {
     "name": "stderr",
     "output_type": "stream",
     "text": [
      "100%|██████████| 300/300 [04:53<00:00,  1.02it/s]\n",
      "100%|██████████| 75/75 [01:14<00:00,  1.01it/s]\n"
     ]
    },
    {
     "name": "stdout",
     "output_type": "stream",
     "text": [
      "Epoch: 48 \tTest Loss: 0.071804 \tTest Acc: 97.609%\n",
      "Epoch: 48 \tTrain Loss: 0.072586 \tTrain Acc: 97.565%\n"
     ]
    },
    {
     "name": "stderr",
     "output_type": "stream",
     "text": [
      "100%|██████████| 300/300 [05:09<00:00,  1.03s/it]\n",
      "100%|██████████| 75/75 [01:12<00:00,  1.03it/s]\n"
     ]
    },
    {
     "name": "stdout",
     "output_type": "stream",
     "text": [
      "Epoch: 49 \tTest Loss: 0.071373 \tTest Acc: 97.599%\n",
      "Epoch: 49 \tTrain Loss: 0.070177 \tTrain Acc: 97.578%\n"
     ]
    },
    {
     "name": "stderr",
     "output_type": "stream",
     "text": [
      "100%|██████████| 300/300 [04:55<00:00,  1.01it/s]\n",
      "100%|██████████| 75/75 [01:17<00:00,  1.04s/it]\n"
     ]
    },
    {
     "name": "stdout",
     "output_type": "stream",
     "text": [
      "Epoch: 50 \tTest Loss: 0.069147 \tTest Acc: 97.641%\n",
      "Epoch: 50 \tTrain Loss: 0.068911 \tTrain Acc: 97.663%\n"
     ]
    },
    {
     "name": "stderr",
     "output_type": "stream",
     "text": [
      "100%|██████████| 300/300 [05:00<00:00,  1.00s/it]\n",
      "100%|██████████| 75/75 [01:13<00:00,  1.01it/s]\n"
     ]
    },
    {
     "name": "stdout",
     "output_type": "stream",
     "text": [
      "Epoch: 51 \tTest Loss: 0.069052 \tTest Acc: 97.568%\n",
      "Epoch: 51 \tTrain Loss: 0.067552 \tTrain Acc: 97.686%\n"
     ]
    },
    {
     "name": "stderr",
     "output_type": "stream",
     "text": [
      "100%|██████████| 300/300 [05:04<00:00,  1.02s/it]\n",
      "100%|██████████| 75/75 [01:13<00:00,  1.02it/s]\n"
     ]
    },
    {
     "name": "stdout",
     "output_type": "stream",
     "text": [
      "Epoch: 52 \tTest Loss: 0.064690 \tTest Acc: 97.839%\n",
      "Epoch: 52 \tTrain Loss: 0.068514 \tTrain Acc: 97.660%\n"
     ]
    },
    {
     "name": "stderr",
     "output_type": "stream",
     "text": [
      "100%|██████████| 300/300 [04:57<00:00,  1.01it/s]\n",
      "100%|██████████| 75/75 [01:13<00:00,  1.02it/s]\n"
     ]
    },
    {
     "name": "stdout",
     "output_type": "stream",
     "text": [
      "Epoch: 53 \tTest Loss: 0.062367 \tTest Acc: 97.844%\n",
      "Epoch: 53 \tTrain Loss: 0.067389 \tTrain Acc: 97.673%\n"
     ]
    },
    {
     "name": "stderr",
     "output_type": "stream",
     "text": [
      "100%|██████████| 300/300 [04:50<00:00,  1.03it/s]\n",
      "100%|██████████| 75/75 [01:12<00:00,  1.03it/s]\n"
     ]
    },
    {
     "name": "stdout",
     "output_type": "stream",
     "text": [
      "Epoch: 54 \tTest Loss: 0.076370 \tTest Acc: 97.354%\n",
      "Epoch: 54 \tTrain Loss: 0.065071 \tTrain Acc: 97.780%\n"
     ]
    },
    {
     "name": "stderr",
     "output_type": "stream",
     "text": [
      "100%|██████████| 300/300 [04:58<00:00,  1.00it/s]\n",
      "100%|██████████| 75/75 [01:15<00:00,  1.01s/it]\n"
     ]
    },
    {
     "name": "stdout",
     "output_type": "stream",
     "text": [
      "Epoch: 55 \tTest Loss: 0.064328 \tTest Acc: 97.854%\n",
      "Epoch: 55 \tTrain Loss: 0.063890 \tTrain Acc: 97.858%\n"
     ]
    },
    {
     "name": "stderr",
     "output_type": "stream",
     "text": [
      "100%|██████████| 300/300 [04:58<00:00,  1.00it/s]\n",
      "100%|██████████| 75/75 [01:13<00:00,  1.03it/s]\n"
     ]
    },
    {
     "name": "stdout",
     "output_type": "stream",
     "text": [
      "Epoch: 56 \tTest Loss: 0.063040 \tTest Acc: 97.802%\n",
      "Epoch: 56 \tTrain Loss: 0.062528 \tTrain Acc: 97.918%\n"
     ]
    },
    {
     "name": "stderr",
     "output_type": "stream",
     "text": [
      "100%|██████████| 300/300 [04:48<00:00,  1.04it/s]\n",
      "100%|██████████| 75/75 [01:12<00:00,  1.03it/s]\n"
     ]
    },
    {
     "name": "stdout",
     "output_type": "stream",
     "text": [
      "Epoch: 57 \tTest Loss: 0.065120 \tTest Acc: 97.766%\n",
      "Epoch: 57 \tTrain Loss: 0.061006 \tTrain Acc: 97.935%\n"
     ]
    },
    {
     "name": "stderr",
     "output_type": "stream",
     "text": [
      "100%|██████████| 300/300 [04:52<00:00,  1.03it/s]\n",
      "100%|██████████| 75/75 [01:13<00:00,  1.01it/s]\n"
     ]
    },
    {
     "name": "stdout",
     "output_type": "stream",
     "text": [
      "Epoch: 58 \tTest Loss: 0.061326 \tTest Acc: 98.078%\n",
      "Epoch: 58 \tTrain Loss: 0.062137 \tTrain Acc: 97.885%\n"
     ]
    },
    {
     "name": "stderr",
     "output_type": "stream",
     "text": [
      "100%|██████████| 300/300 [04:50<00:00,  1.03it/s]\n",
      "100%|██████████| 75/75 [01:11<00:00,  1.05it/s]\n"
     ]
    },
    {
     "name": "stdout",
     "output_type": "stream",
     "text": [
      "Epoch: 59 \tTest Loss: 0.064200 \tTest Acc: 97.865%\n",
      "Epoch: 59 \tTrain Loss: 0.061042 \tTrain Acc: 97.964%\n"
     ]
    },
    {
     "name": "stderr",
     "output_type": "stream",
     "text": [
      "100%|██████████| 300/300 [04:49<00:00,  1.04it/s]\n",
      "100%|██████████| 75/75 [01:10<00:00,  1.06it/s]\n"
     ]
    },
    {
     "name": "stdout",
     "output_type": "stream",
     "text": [
      "Epoch: 60 \tTest Loss: 0.059615 \tTest Acc: 98.016%\n",
      "Epoch: 60 \tTrain Loss: 0.059023 \tTrain Acc: 98.044%\n"
     ]
    },
    {
     "name": "stderr",
     "output_type": "stream",
     "text": [
      "100%|██████████| 300/300 [04:45<00:00,  1.05it/s]\n",
      "100%|██████████| 75/75 [01:12<00:00,  1.03it/s]\n"
     ]
    },
    {
     "name": "stdout",
     "output_type": "stream",
     "text": [
      "Epoch: 61 \tTest Loss: 0.060029 \tTest Acc: 98.057%\n",
      "Epoch: 61 \tTrain Loss: 0.061013 \tTrain Acc: 97.948%\n"
     ]
    },
    {
     "name": "stderr",
     "output_type": "stream",
     "text": [
      "100%|██████████| 300/300 [04:56<00:00,  1.01it/s]\n",
      "100%|██████████| 75/75 [01:10<00:00,  1.06it/s]\n"
     ]
    },
    {
     "name": "stdout",
     "output_type": "stream",
     "text": [
      "Epoch: 62 \tTest Loss: 0.059571 \tTest Acc: 98.094%\n",
      "Epoch: 62 \tTrain Loss: 0.057128 \tTrain Acc: 98.126%\n"
     ]
    },
    {
     "name": "stderr",
     "output_type": "stream",
     "text": [
      "100%|██████████| 300/300 [04:49<00:00,  1.04it/s]\n",
      "100%|██████████| 75/75 [01:11<00:00,  1.04it/s]\n"
     ]
    },
    {
     "name": "stdout",
     "output_type": "stream",
     "text": [
      "Epoch: 63 \tTest Loss: 0.060959 \tTest Acc: 97.953%\n",
      "Epoch: 63 \tTrain Loss: 0.057704 \tTrain Acc: 98.031%\n"
     ]
    },
    {
     "name": "stderr",
     "output_type": "stream",
     "text": [
      "100%|██████████| 300/300 [04:49<00:00,  1.04it/s]\n",
      "100%|██████████| 75/75 [01:10<00:00,  1.06it/s]\n"
     ]
    },
    {
     "name": "stdout",
     "output_type": "stream",
     "text": [
      "Epoch: 64 \tTest Loss: 0.059135 \tTest Acc: 98.130%\n",
      "Epoch: 64 \tTrain Loss: 0.057137 \tTrain Acc: 98.074%\n"
     ]
    },
    {
     "name": "stderr",
     "output_type": "stream",
     "text": [
      "100%|██████████| 300/300 [04:40<00:00,  1.07it/s]\n",
      "100%|██████████| 75/75 [01:14<00:00,  1.01it/s]\n"
     ]
    },
    {
     "name": "stdout",
     "output_type": "stream",
     "text": [
      "Epoch: 65 \tTest Loss: 0.061615 \tTest Acc: 97.922%\n",
      "Epoch: 65 \tTrain Loss: 0.055364 \tTrain Acc: 98.139%\n"
     ]
    },
    {
     "name": "stderr",
     "output_type": "stream",
     "text": [
      "100%|██████████| 300/300 [04:37<00:00,  1.08it/s]\n",
      "100%|██████████| 75/75 [01:09<00:00,  1.08it/s]\n"
     ]
    },
    {
     "name": "stdout",
     "output_type": "stream",
     "text": [
      "Epoch: 66 \tTest Loss: 0.055317 \tTest Acc: 98.240%\n",
      "Epoch: 66 \tTrain Loss: 0.054014 \tTrain Acc: 98.186%\n"
     ]
    },
    {
     "name": "stderr",
     "output_type": "stream",
     "text": [
      "100%|██████████| 300/300 [04:37<00:00,  1.08it/s]\n",
      "100%|██████████| 75/75 [01:09<00:00,  1.08it/s]\n"
     ]
    },
    {
     "name": "stdout",
     "output_type": "stream",
     "text": [
      "Epoch: 67 \tTest Loss: 0.051560 \tTest Acc: 98.224%\n",
      "Epoch: 67 \tTrain Loss: 0.055180 \tTrain Acc: 98.151%\n"
     ]
    },
    {
     "name": "stderr",
     "output_type": "stream",
     "text": [
      "100%|██████████| 300/300 [04:37<00:00,  1.08it/s]\n",
      "100%|██████████| 75/75 [01:10<00:00,  1.07it/s]\n"
     ]
    },
    {
     "name": "stdout",
     "output_type": "stream",
     "text": [
      "Epoch: 68 \tTest Loss: 0.048279 \tTest Acc: 98.505%\n",
      "Epoch: 68 \tTrain Loss: 0.054581 \tTrain Acc: 98.208%\n"
     ]
    },
    {
     "name": "stderr",
     "output_type": "stream",
     "text": [
      "100%|██████████| 300/300 [04:47<00:00,  1.04it/s]\n",
      "100%|██████████| 75/75 [01:14<00:00,  1.01it/s]\n"
     ]
    },
    {
     "name": "stdout",
     "output_type": "stream",
     "text": [
      "Epoch: 69 \tTest Loss: 0.049080 \tTest Acc: 98.469%\n",
      "Epoch: 69 \tTrain Loss: 0.052399 \tTrain Acc: 98.319%\n"
     ]
    },
    {
     "name": "stderr",
     "output_type": "stream",
     "text": [
      "100%|██████████| 300/300 [04:40<00:00,  1.07it/s]\n",
      "100%|██████████| 75/75 [01:09<00:00,  1.08it/s]\n"
     ]
    },
    {
     "name": "stdout",
     "output_type": "stream",
     "text": [
      "Epoch: 70 \tTest Loss: 0.064716 \tTest Acc: 97.776%\n",
      "Epoch: 70 \tTrain Loss: 0.051364 \tTrain Acc: 98.371%\n"
     ]
    },
    {
     "name": "stderr",
     "output_type": "stream",
     "text": [
      "100%|██████████| 300/300 [04:41<00:00,  1.07it/s]\n",
      "100%|██████████| 75/75 [01:11<00:00,  1.06it/s]\n"
     ]
    },
    {
     "name": "stdout",
     "output_type": "stream",
     "text": [
      "Epoch: 71 \tTest Loss: 0.050265 \tTest Acc: 98.422%\n",
      "Epoch: 71 \tTrain Loss: 0.050997 \tTrain Acc: 98.340%\n"
     ]
    },
    {
     "name": "stderr",
     "output_type": "stream",
     "text": [
      "100%|██████████| 300/300 [04:45<00:00,  1.05it/s]\n",
      "100%|██████████| 75/75 [01:11<00:00,  1.05it/s]\n"
     ]
    },
    {
     "name": "stdout",
     "output_type": "stream",
     "text": [
      "Epoch: 72 \tTest Loss: 0.055084 \tTest Acc: 98.104%\n",
      "Epoch: 72 \tTrain Loss: 0.049948 \tTrain Acc: 98.345%\n"
     ]
    },
    {
     "name": "stderr",
     "output_type": "stream",
     "text": [
      "100%|██████████| 300/300 [04:53<00:00,  1.02it/s]\n",
      "100%|██████████| 75/75 [01:10<00:00,  1.06it/s]\n"
     ]
    },
    {
     "name": "stdout",
     "output_type": "stream",
     "text": [
      "Epoch: 73 \tTest Loss: 0.050437 \tTest Acc: 98.411%\n",
      "Epoch: 73 \tTrain Loss: 0.049805 \tTrain Acc: 98.342%\n"
     ]
    },
    {
     "name": "stderr",
     "output_type": "stream",
     "text": [
      "100%|██████████| 300/300 [04:40<00:00,  1.07it/s]\n",
      "100%|██████████| 75/75 [01:09<00:00,  1.08it/s]\n"
     ]
    },
    {
     "name": "stdout",
     "output_type": "stream",
     "text": [
      "Epoch: 74 \tTest Loss: 0.051270 \tTest Acc: 98.380%\n",
      "Epoch: 74 \tTrain Loss: 0.049858 \tTrain Acc: 98.319%\n"
     ]
    },
    {
     "name": "stderr",
     "output_type": "stream",
     "text": [
      "100%|██████████| 300/300 [04:43<00:00,  1.06it/s]\n",
      "100%|██████████| 75/75 [01:11<00:00,  1.05it/s]\n"
     ]
    },
    {
     "name": "stdout",
     "output_type": "stream",
     "text": [
      "Epoch: 75 \tTest Loss: 0.051186 \tTest Acc: 98.354%\n",
      "Epoch: 75 \tTrain Loss: 0.050229 \tTrain Acc: 98.371%\n"
     ]
    },
    {
     "name": "stderr",
     "output_type": "stream",
     "text": [
      "100%|██████████| 300/300 [04:42<00:00,  1.06it/s]\n",
      "100%|██████████| 75/75 [01:12<00:00,  1.04it/s]\n"
     ]
    },
    {
     "name": "stdout",
     "output_type": "stream",
     "text": [
      "Epoch: 76 \tTest Loss: 0.052646 \tTest Acc: 98.292%\n",
      "Epoch: 76 \tTrain Loss: 0.048265 \tTrain Acc: 98.448%\n"
     ]
    },
    {
     "name": "stderr",
     "output_type": "stream",
     "text": [
      "100%|██████████| 300/300 [04:45<00:00,  1.05it/s]\n",
      "100%|██████████| 75/75 [01:11<00:00,  1.04it/s]\n"
     ]
    },
    {
     "name": "stdout",
     "output_type": "stream",
     "text": [
      "Epoch: 77 \tTest Loss: 0.047435 \tTest Acc: 98.557%\n",
      "Epoch: 77 \tTrain Loss: 0.047413 \tTrain Acc: 98.404%\n"
     ]
    },
    {
     "name": "stderr",
     "output_type": "stream",
     "text": [
      "100%|██████████| 300/300 [04:47<00:00,  1.04it/s]\n",
      "100%|██████████| 75/75 [01:10<00:00,  1.06it/s]\n"
     ]
    },
    {
     "name": "stdout",
     "output_type": "stream",
     "text": [
      "Epoch: 78 \tTest Loss: 0.045617 \tTest Acc: 98.495%\n",
      "Epoch: 78 \tTrain Loss: 0.046445 \tTrain Acc: 98.510%\n"
     ]
    },
    {
     "name": "stderr",
     "output_type": "stream",
     "text": [
      "100%|██████████| 300/300 [04:45<00:00,  1.05it/s]\n",
      "100%|██████████| 75/75 [01:10<00:00,  1.06it/s]\n"
     ]
    },
    {
     "name": "stdout",
     "output_type": "stream",
     "text": [
      "Epoch: 79 \tTest Loss: 0.045631 \tTest Acc: 98.547%\n",
      "Epoch: 79 \tTrain Loss: 0.045152 \tTrain Acc: 98.513%\n"
     ]
    },
    {
     "name": "stderr",
     "output_type": "stream",
     "text": [
      "100%|██████████| 300/300 [04:38<00:00,  1.08it/s]\n",
      "100%|██████████| 75/75 [01:10<00:00,  1.06it/s]\n"
     ]
    },
    {
     "name": "stdout",
     "output_type": "stream",
     "text": [
      "Epoch: 80 \tTest Loss: 0.046203 \tTest Acc: 98.505%\n",
      "Epoch: 80 \tTrain Loss: 0.046505 \tTrain Acc: 98.458%\n"
     ]
    },
    {
     "name": "stderr",
     "output_type": "stream",
     "text": [
      "100%|██████████| 300/300 [04:42<00:00,  1.06it/s]\n",
      "100%|██████████| 75/75 [01:17<00:00,  1.04s/it]\n"
     ]
    },
    {
     "name": "stdout",
     "output_type": "stream",
     "text": [
      "Epoch: 81 \tTest Loss: 0.044364 \tTest Acc: 98.526%\n",
      "Epoch: 81 \tTrain Loss: 0.044189 \tTrain Acc: 98.547%\n"
     ]
    },
    {
     "name": "stderr",
     "output_type": "stream",
     "text": [
      "100%|██████████| 300/300 [04:52<00:00,  1.03it/s]\n",
      "100%|██████████| 75/75 [01:10<00:00,  1.06it/s]\n"
     ]
    },
    {
     "name": "stdout",
     "output_type": "stream",
     "text": [
      "Epoch: 82 \tTest Loss: 0.041656 \tTest Acc: 98.729%\n",
      "Epoch: 82 \tTrain Loss: 0.045422 \tTrain Acc: 98.470%\n"
     ]
    },
    {
     "name": "stderr",
     "output_type": "stream",
     "text": [
      "100%|██████████| 300/300 [04:36<00:00,  1.08it/s]\n",
      "100%|██████████| 75/75 [01:10<00:00,  1.07it/s]\n"
     ]
    },
    {
     "name": "stdout",
     "output_type": "stream",
     "text": [
      "Epoch: 83 \tTest Loss: 0.042644 \tTest Acc: 98.719%\n",
      "Epoch: 83 \tTrain Loss: 0.043619 \tTrain Acc: 98.595%\n"
     ]
    },
    {
     "name": "stderr",
     "output_type": "stream",
     "text": [
      "100%|██████████| 300/300 [04:45<00:00,  1.05it/s]\n",
      "100%|██████████| 75/75 [01:10<00:00,  1.07it/s]\n"
     ]
    },
    {
     "name": "stdout",
     "output_type": "stream",
     "text": [
      "Epoch: 84 \tTest Loss: 0.041766 \tTest Acc: 98.625%\n",
      "Epoch: 84 \tTrain Loss: 0.043082 \tTrain Acc: 98.594%\n"
     ]
    },
    {
     "name": "stderr",
     "output_type": "stream",
     "text": [
      "100%|██████████| 300/300 [04:38<00:00,  1.08it/s]\n",
      "100%|██████████| 75/75 [01:08<00:00,  1.10it/s]\n"
     ]
    },
    {
     "name": "stdout",
     "output_type": "stream",
     "text": [
      "Epoch: 85 \tTest Loss: 0.041556 \tTest Acc: 98.646%\n",
      "Epoch: 85 \tTrain Loss: 0.042010 \tTrain Acc: 98.672%\n"
     ]
    },
    {
     "name": "stderr",
     "output_type": "stream",
     "text": [
      "100%|██████████| 300/300 [04:56<00:00,  1.01it/s]\n",
      "100%|██████████| 75/75 [01:24<00:00,  1.13s/it]\n"
     ]
    },
    {
     "name": "stdout",
     "output_type": "stream",
     "text": [
      "Epoch: 86 \tTest Loss: 0.037882 \tTest Acc: 98.776%\n",
      "Epoch: 86 \tTrain Loss: 0.042380 \tTrain Acc: 98.643%\n"
     ]
    },
    {
     "name": "stderr",
     "output_type": "stream",
     "text": [
      "100%|██████████| 300/300 [04:35<00:00,  1.09it/s]\n",
      "100%|██████████| 75/75 [01:10<00:00,  1.07it/s]\n"
     ]
    },
    {
     "name": "stdout",
     "output_type": "stream",
     "text": [
      "Epoch: 87 \tTest Loss: 0.038212 \tTest Acc: 98.828%\n",
      "Epoch: 87 \tTrain Loss: 0.042816 \tTrain Acc: 98.595%\n"
     ]
    },
    {
     "name": "stderr",
     "output_type": "stream",
     "text": [
      "100%|██████████| 300/300 [04:38<00:00,  1.08it/s]\n",
      "100%|██████████| 75/75 [01:17<00:00,  1.03s/it]\n"
     ]
    },
    {
     "name": "stdout",
     "output_type": "stream",
     "text": [
      "Epoch: 88 \tTest Loss: 0.039160 \tTest Acc: 98.724%\n",
      "Epoch: 88 \tTrain Loss: 0.039659 \tTrain Acc: 98.720%\n"
     ]
    },
    {
     "name": "stderr",
     "output_type": "stream",
     "text": [
      "100%|██████████| 300/300 [04:35<00:00,  1.09it/s]\n",
      "100%|██████████| 75/75 [01:08<00:00,  1.09it/s]\n"
     ]
    },
    {
     "name": "stdout",
     "output_type": "stream",
     "text": [
      "Epoch: 89 \tTest Loss: 0.040088 \tTest Acc: 98.646%\n",
      "Epoch: 89 \tTrain Loss: 0.041173 \tTrain Acc: 98.698%\n"
     ]
    },
    {
     "name": "stderr",
     "output_type": "stream",
     "text": [
      "100%|██████████| 300/300 [04:44<00:00,  1.06it/s]\n",
      "100%|██████████| 75/75 [01:14<00:00,  1.01it/s]\n"
     ]
    },
    {
     "name": "stdout",
     "output_type": "stream",
     "text": [
      "Epoch: 90 \tTest Loss: 0.037470 \tTest Acc: 98.833%\n",
      "Epoch: 90 \tTrain Loss: 0.040516 \tTrain Acc: 98.702%\n"
     ]
    },
    {
     "name": "stderr",
     "output_type": "stream",
     "text": [
      "100%|██████████| 300/300 [04:52<00:00,  1.02it/s]\n",
      "100%|██████████| 75/75 [01:10<00:00,  1.07it/s]\n"
     ]
    },
    {
     "name": "stdout",
     "output_type": "stream",
     "text": [
      "Epoch: 91 \tTest Loss: 0.039422 \tTest Acc: 98.745%\n",
      "Epoch: 91 \tTrain Loss: 0.040298 \tTrain Acc: 98.685%\n"
     ]
    },
    {
     "name": "stderr",
     "output_type": "stream",
     "text": [
      "100%|██████████| 300/300 [04:43<00:00,  1.06it/s]\n",
      "100%|██████████| 75/75 [01:10<00:00,  1.06it/s]\n"
     ]
    },
    {
     "name": "stdout",
     "output_type": "stream",
     "text": [
      "Epoch: 92 \tTest Loss: 0.036670 \tTest Acc: 98.802%\n",
      "Epoch: 92 \tTrain Loss: 0.038554 \tTrain Acc: 98.740%\n"
     ]
    },
    {
     "name": "stderr",
     "output_type": "stream",
     "text": [
      "100%|██████████| 300/300 [04:42<00:00,  1.06it/s]\n",
      "100%|██████████| 75/75 [01:10<00:00,  1.06it/s]\n"
     ]
    },
    {
     "name": "stdout",
     "output_type": "stream",
     "text": [
      "Epoch: 93 \tTest Loss: 0.036330 \tTest Acc: 98.828%\n",
      "Epoch: 93 \tTrain Loss: 0.039239 \tTrain Acc: 98.750%\n"
     ]
    },
    {
     "name": "stderr",
     "output_type": "stream",
     "text": [
      "100%|██████████| 300/300 [04:47<00:00,  1.05it/s]\n",
      "100%|██████████| 75/75 [01:10<00:00,  1.06it/s]\n"
     ]
    },
    {
     "name": "stdout",
     "output_type": "stream",
     "text": [
      "Epoch: 94 \tTest Loss: 0.039207 \tTest Acc: 98.724%\n",
      "Epoch: 94 \tTrain Loss: 0.039103 \tTrain Acc: 98.745%\n"
     ]
    },
    {
     "name": "stderr",
     "output_type": "stream",
     "text": [
      "100%|██████████| 300/300 [04:42<00:00,  1.06it/s]\n",
      "100%|██████████| 75/75 [01:11<00:00,  1.06it/s]\n"
     ]
    },
    {
     "name": "stdout",
     "output_type": "stream",
     "text": [
      "Epoch: 95 \tTest Loss: 0.036895 \tTest Acc: 98.755%\n",
      "Epoch: 95 \tTrain Loss: 0.037361 \tTrain Acc: 98.806%\n"
     ]
    },
    {
     "name": "stderr",
     "output_type": "stream",
     "text": [
      "100%|██████████| 300/300 [04:52<00:00,  1.03it/s]\n",
      "100%|██████████| 75/75 [01:13<00:00,  1.01it/s]\n"
     ]
    },
    {
     "name": "stdout",
     "output_type": "stream",
     "text": [
      "Epoch: 96 \tTest Loss: 0.042915 \tTest Acc: 98.604%\n",
      "Epoch: 96 \tTrain Loss: 0.037557 \tTrain Acc: 98.781%\n"
     ]
    },
    {
     "name": "stderr",
     "output_type": "stream",
     "text": [
      "100%|██████████| 300/300 [04:57<00:00,  1.01it/s]\n",
      "100%|██████████| 75/75 [01:10<00:00,  1.06it/s]\n"
     ]
    },
    {
     "name": "stdout",
     "output_type": "stream",
     "text": [
      "Epoch: 97 \tTest Loss: 0.034599 \tTest Acc: 98.880%\n",
      "Epoch: 97 \tTrain Loss: 0.037635 \tTrain Acc: 98.822%\n"
     ]
    },
    {
     "name": "stderr",
     "output_type": "stream",
     "text": [
      "100%|██████████| 300/300 [04:47<00:00,  1.04it/s]\n",
      "100%|██████████| 75/75 [01:10<00:00,  1.06it/s]\n"
     ]
    },
    {
     "name": "stdout",
     "output_type": "stream",
     "text": [
      "Epoch: 98 \tTest Loss: 0.040695 \tTest Acc: 98.729%\n",
      "Epoch: 98 \tTrain Loss: 0.038143 \tTrain Acc: 98.751%\n"
     ]
    },
    {
     "name": "stderr",
     "output_type": "stream",
     "text": [
      "100%|██████████| 300/300 [04:46<00:00,  1.05it/s]\n",
      "100%|██████████| 75/75 [01:15<00:00,  1.01s/it]\n"
     ]
    },
    {
     "name": "stdout",
     "output_type": "stream",
     "text": [
      "Epoch: 99 \tTest Loss: 0.035190 \tTest Acc: 98.875%\n",
      "Epoch: 99 \tTrain Loss: 0.036543 \tTrain Acc: 98.870%\n"
     ]
    },
    {
     "name": "stderr",
     "output_type": "stream",
     "text": [
      "100%|██████████| 300/300 [04:48<00:00,  1.04it/s]\n",
      "100%|██████████| 75/75 [01:12<00:00,  1.03it/s]"
     ]
    },
    {
     "name": "stdout",
     "output_type": "stream",
     "text": [
      "Epoch: 100 \tTest Loss: 0.039204 \tTest Acc: 98.802%\n",
      "Epoch: 100 \tTrain Loss: 0.035822 \tTrain Acc: 98.846%\n"
     ]
    },
    {
     "name": "stderr",
     "output_type": "stream",
     "text": [
      "\n"
     ]
    }
   ],
   "source": [
    "AccTrain, LossTrain = [], []\n",
    "\n",
    "for epoch in range(num_epochs):\n",
    "    train_loss = 0.0\n",
    "    correct, total = 0, 0\n",
    "    for data, target in tqdm(trainloader):\n",
    "        data = data.to(device)\n",
    "        target = target.to(device)\n",
    "        optimizer.zero_grad()\n",
    "        output = model(data)\n",
    "        loss = criterion(output, target)\n",
    "        loss.backward()\n",
    "        optimizer.step()\n",
    "        total += target.size(0)\n",
    "        _, predicted = torch.max(output.data, 1)\n",
    "        correct += (predicted == target).sum().item()\n",
    "        train_loss += loss.item() * data.size(0)\n",
    "    if epoch + 1 == num_epochs:\n",
    "        test(True)\n",
    "    else:\n",
    "        test()\n",
    "    train_loss = train_loss / len(trainloader.dataset)\n",
    "    acc = 100 * correct / total\n",
    "    AccTrain.append(acc)\n",
    "    LossTrain.append(train_loss)\n",
    "    print(f'Epoch: {epoch+1} \\tTrain Loss: {train_loss:.6f} \\tTrain Acc: {acc:.3f}%')\n"
   ]
  },
  {
   "cell_type": "code",
   "execution_count": 7,
   "id": "f6d48d9b",
   "metadata": {
    "execution": {
     "iopub.execute_input": "2024-06-22T19:47:40.989897Z",
     "iopub.status.busy": "2024-06-22T19:47:40.989499Z",
     "iopub.status.idle": "2024-06-22T19:47:41.017292Z",
     "shell.execute_reply": "2024-06-22T19:47:41.016310Z"
    },
    "papermill": {
     "duration": 2.003748,
     "end_time": "2024-06-22T19:47:41.019559",
     "exception": false,
     "start_time": "2024-06-22T19:47:39.015811",
     "status": "completed"
    },
    "tags": []
   },
   "outputs": [],
   "source": [
    "torch.save(model.state_dict(), 'noise.pth')"
   ]
  },
  {
   "cell_type": "code",
   "execution_count": 8,
   "id": "90a66a25",
   "metadata": {
    "execution": {
     "iopub.execute_input": "2024-06-22T19:47:44.659095Z",
     "iopub.status.busy": "2024-06-22T19:47:44.658627Z",
     "iopub.status.idle": "2024-06-22T19:47:47.115486Z",
     "shell.execute_reply": "2024-06-22T19:47:47.114497Z"
    },
    "papermill": {
     "duration": 4.295821,
     "end_time": "2024-06-22T19:47:47.117574",
     "exception": false,
     "start_time": "2024-06-22T19:47:42.821753",
     "status": "completed"
    },
    "tags": []
   },
   "outputs": [
    {
     "name": "stdout",
     "output_type": "stream",
     "text": [
      "Precision: 98.853 %\n",
      "Recall: 98.789 %\n",
      "F1 Score: 98.821 %\n",
      "F1 Macro Score: 98.801 %\n",
      "F1 Weighted Score: 98.801 %\n"
     ]
    },
    {
     "data": {
      "image/png": "[encoded data removed]",
      "text/plain": [
       "<Figure size 640x480 with 2 Axes>"
      ]
     },
     "metadata": {},
     "output_type": "display_data"
    }
   ],
   "source": [
    "from sklearn.metrics import recall_score, precision_score, f1_score, confusion_matrix, ConfusionMatrixDisplay\n",
    "import matplotlib.pyplot as plt\n",
    "\n",
    "cm = confusion_matrix(y_test, predictions)\n",
    "ConfusionMatrixDisplay(cm).plot()\n",
    "plt.savefig(f'ConfMatrix_noise.png', dpi=500)\n",
    "\n",
    "precision = precision_score(y_test, predictions, average='macro')\n",
    "recall = recall_score(y_test, predictions, average='macro')\n",
    "    \n",
    "f1 = 2 * precision * recall / (precision + recall)\n",
    "f1_macro = f1_score(y_test, predictions, average='macro')\n",
    "f1_weighted = f1_score(y_test, predictions, average='weighted')\n",
    "print(f'Precision: {100 * precision:.3f} %')\n",
    "print(f'Recall: {100 * recall:.3f} %')\n",
    "print(f'F1 Score: {100 * f1:.3f} %')\n",
    "print(f'F1 Macro Score: {100 * f1_macro:.3f} %')\n",
    "print(f'F1 Weighted Score: {100 * f1_weighted:.3f} %')"
   ]
  },
  {
   "cell_type": "code",
   "execution_count": 9,
   "id": "1eaf5eb1",
   "metadata": {
    "execution": {
     "iopub.execute_input": "2024-06-22T19:47:51.006868Z",
     "iopub.status.busy": "2024-06-22T19:47:51.005821Z",
     "iopub.status.idle": "2024-06-22T19:47:51.014231Z",
     "shell.execute_reply": "2024-06-22T19:47:51.013268Z"
    },
    "papermill": {
     "duration": 1.885783,
     "end_time": "2024-06-22T19:47:51.016100",
     "exception": false,
     "start_time": "2024-06-22T19:47:49.130317",
     "status": "completed"
    },
    "tags": []
   },
   "outputs": [],
   "source": [
    "import os\n",
    "from torch.utils.data import Dataset\n",
    "from torchvision.io import read_image, ImageReadMode\n",
    "\n",
    "class AstrogeoDataset(Dataset):\n",
    "    def __init__(self, dir: str, transform=None) -> None:\n",
    "        self.transform = transform\n",
    "        self.images = os.listdir(dir)\n",
    "        self.dir = dir\n",
    "\n",
    "    def __getitem__(self, index: int) -> tuple:\n",
    "        image = read_image(\n",
    "            f'{self.dir}/{self.images[index]}',\n",
    "            mode=ImageReadMode.RGB\n",
    "        )\n",
    "        file_name = self.images[index]\n",
    "        if self.transform is not None:\n",
    "            image = self.transform(image)\n",
    "        return (file_name, image)\n",
    "\n",
    "    def __len__(self) -> int:\n",
    "        return len(self.images)"
   ]
  },
  {
   "cell_type": "code",
   "execution_count": 10,
   "id": "774b5d9b",
   "metadata": {
    "execution": {
     "iopub.execute_input": "2024-06-22T19:47:54.876309Z",
     "iopub.status.busy": "2024-06-22T19:47:54.875907Z",
     "iopub.status.idle": "2024-06-22T19:53:11.547435Z",
     "shell.execute_reply": "2024-06-22T19:53:11.546351Z"
    },
    "papermill": {
     "duration": 318.541839,
     "end_time": "2024-06-22T19:53:11.549917",
     "exception": false,
     "start_time": "2024-06-22T19:47:53.008078",
     "status": "completed"
    },
    "tags": []
   },
   "outputs": [
    {
     "name": "stderr",
     "output_type": "stream",
     "text": [
      "100%|██████████| 350/350 [05:13<00:00,  1.12it/s]\n"
     ]
    }
   ],
   "source": [
    "import json\n",
    "import pandas as pd\n",
    "\n",
    "transform = transforms.Compose([\n",
    "    transforms.ToPILImage(), transforms.Resize((128, 128)),\n",
    "    transforms.Grayscale(), transforms.ToTensor()]\n",
    ")\n",
    "val = AstrogeoDataset(val_data_path, transform=transform)\n",
    "valloader = torch.utils.data.DataLoader(\n",
    "    val, batch_size=batch_size, shuffle=True, num_workers=4\n",
    ")\n",
    "\n",
    "model.eval()\n",
    "val_preds = {}\n",
    "with torch.no_grad():\n",
    "    for file_names, images in tqdm(valloader):\n",
    "        images = images.to(device)\n",
    "        outputs = model(images)\n",
    "        _, predicted = torch.max(outputs.data, 1)\n",
    "        val_preds.update(dict(zip(file_names, predicted.cpu().tolist())))\n",
    "        \n",
    "with open('predicts.json', 'w') as f:\n",
    "    json.dump(val_preds, f)\n",
    "\n",
    "s1 = pd.Series(val_preds.keys())\n",
    "s2 = pd.Series(val_preds.values())\n",
    "df = pd.concat([s1, s2], axis=1)\n",
    "df = df.rename(columns={0: 'file_name', 1: 'predicted_class'})\n",
    "df.to_csv('classification.csv')"
   ]
  },
  {
   "cell_type": "code",
   "execution_count": 11,
   "id": "7f5232d6",
   "metadata": {
    "execution": {
     "iopub.execute_input": "2024-06-22T19:53:15.516475Z",
     "iopub.status.busy": "2024-06-22T19:53:15.515881Z",
     "iopub.status.idle": "2024-06-22T19:53:17.188712Z",
     "shell.execute_reply": "2024-06-22T19:53:17.187580Z"
    },
    "papermill": {
     "duration": 3.610123,
     "end_time": "2024-06-22T19:53:17.190945",
     "exception": false,
     "start_time": "2024-06-22T19:53:13.580822",
     "status": "completed"
    },
    "tags": []
   },
   "outputs": [
    {
     "name": "stdout",
     "output_type": "stream",
     "text": [
      "{0: 87116, 1: 2229, 2: 236, 3: 4}\n"
     ]
    },
    {
     "data": {
      "image/png": "[encoded data removed]",
      "text/plain": [
       "<Figure size 1000x700 with 1 Axes>"
      ]
     },
     "metadata": {},
     "output_type": "display_data"
    }
   ],
   "source": [
    "from collections import Counter\n",
    "\n",
    "labels = [\n",
    "    'Одиночный источник', 'Двойной источник',\n",
    "    'Источник с джетом', 'Источник с двойным джетом'\n",
    "]\n",
    "res = dict(Counter(val_preds.values()))\n",
    "res = {k: v for k, v in sorted(res.items())}\n",
    "print(res)\n",
    "fig, ax = plt.subplots(1, 1, figsize=(10, 7))\n",
    "bar = ax.bar(res.keys(), res.values())\n",
    "ax.bar_label(bar, labels=res.values())\n",
    "ax.set_xlabel('Классы истинных изображений')\n",
    "ax.set_ylabel('Количество')\n",
    "ax.set_title('Классификация Astrogeo')\n",
    "fig.tight_layout()\n",
    "plt.savefig('histogram.png', dpi=500)"
   ]
  },
  {
   "cell_type": "code",
   "execution_count": 12,
   "id": "68102eb6",
   "metadata": {
    "execution": {
     "iopub.execute_input": "2024-06-22T19:53:21.169476Z",
     "iopub.status.busy": "2024-06-22T19:53:21.169044Z",
     "iopub.status.idle": "2024-06-22T19:53:23.784645Z",
     "shell.execute_reply": "2024-06-22T19:53:23.783540Z"
    },
    "papermill": {
     "duration": 4.691106,
     "end_time": "2024-06-22T19:53:23.786761",
     "exception": false,
     "start_time": "2024-06-22T19:53:19.095655",
     "status": "completed"
    },
    "tags": []
   },
   "outputs": [
    {
     "data": {
      "image/png": "[encoded data removed]",
      "text/plain": [
       "<Figure size 1500x600 with 2 Axes>"
      ]
     },
     "metadata": {},
     "output_type": "display_data"
    }
   ],
   "source": [
    "import numpy as np\n",
    "\n",
    "plt.rcParams.update({'font.size': 16})\n",
    "epochs = np.arange(1, num_epochs + 1)\n",
    "fig, axes = plt.subplots(1, 2, figsize=(15, 6))\n",
    "axes[0].plot(epochs, LossTrain, label='train', color='blue')\n",
    "axes[0].plot(epochs, LossTest, label='test', color='orange')\n",
    "axes[0].set_title('Значение функции потерь от эпохи обучения')\n",
    "axes[0].set_xlabel('Номер эпохи')\n",
    "axes[0].set_ylabel('Значение функции потерь')\n",
    "axes[0].grid()\n",
    "\n",
    "axes[1].plot(epochs, AccTrain, label='train', color='blue')\n",
    "axes[1].plot(epochs, AccTest, label='test', color='orange')\n",
    "axes[1].set_title('Значение корректности от эпохи обучения')\n",
    "axes[1].set_ylabel('Корректность')\n",
    "axes[1].set_xlabel('Номер эпохи')\n",
    "axes[1].grid()\n",
    "plt.tight_layout()\n",
    "plt.savefig('train.png', dpi=500)"
   ]
  }
 ],
 "metadata": {
  "kaggle": {
   "accelerator": "gpu",
   "dataSources": [
    {
     "datasetId": 4702184,
     "sourceId": 7987931,
     "sourceType": "datasetVersion"
    },
    {
     "datasetId": 4703603,
     "sourceId": 7989923,
     "sourceType": "datasetVersion"
    },
    {
     "datasetId": 4706799,
     "sourceId": 7994607,
     "sourceType": "datasetVersion"
    }
   ],
   "dockerImageVersionId": 30646,
   "isGpuEnabled": true,
   "isInternetEnabled": true,
   "language": "python",
   "sourceType": "notebook"
  },
  "kernelspec": {
   "display_name": "Python 3",
   "language": "python",
   "name": "python3"
  },
  "language_info": {
   "codemirror_mode": {
    "name": "ipython",
    "version": 3
   },
   "file_extension": ".py",
   "mimetype": "text/x-python",
   "name": "python",
   "nbconvert_exporter": "python",
   "pygments_lexer": "ipython3",
   "version": "3.10.13"
  },
  "papermill": {
   "default_parameters": {},
   "duration": 36677.435003,
   "end_time": "2024-06-22T19:53:27.681892",
   "environment_variables": {},
   "exception": null,
   "input_path": "__notebook__.ipynb",
   "output_path": "__notebook__.ipynb",
   "parameters": {},
   "start_time": "2024-06-22T09:42:10.246889",
   "version": "2.5.0"
  }
 },
 "nbformat": 4,
 "nbformat_minor": 5
}
