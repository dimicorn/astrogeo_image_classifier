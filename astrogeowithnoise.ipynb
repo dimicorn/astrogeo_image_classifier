{
 "cells": [
  {
   "cell_type": "code",
   "execution_count": 1,
   "id": "b555160d",
   "metadata": {
    "execution": {
     "iopub.execute_input": "2024-06-23T14:57:02.228329Z",
     "iopub.status.busy": "2024-06-23T14:57:02.227946Z",
     "iopub.status.idle": "2024-06-23T14:57:02.240897Z",
     "shell.execute_reply": "2024-06-23T14:57:02.240071Z"
    },
    "papermill": {
     "duration": 0.022209,
     "end_time": "2024-06-23T14:57:02.242965",
     "exception": false,
     "start_time": "2024-06-23T14:57:02.220756",
     "status": "completed"
    },
    "tags": []
   },
   "outputs": [],
   "source": [
    "import os\n",
    "import warnings\n",
    "\n",
    "warnings.filterwarnings('ignore')\n",
    "train_data_path = '/kaggle/input/noisyastrogeo/new_noise2_32k'\n",
    "# '/kaggle/input/astrogeonoisy96k/noise_96k'\n",
    "val_data_path = '/kaggle/input/astrogeo512x512/data_512x512_abs'"
   ]
  },
  {
   "cell_type": "code",
   "execution_count": 2,
   "id": "9a70aa07",
   "metadata": {
    "execution": {
     "iopub.execute_input": "2024-06-23T14:57:02.254719Z",
     "iopub.status.busy": "2024-06-23T14:57:02.254422Z",
     "iopub.status.idle": "2024-06-23T14:57:08.518726Z",
     "shell.execute_reply": "2024-06-23T14:57:08.517852Z"
    },
    "papermill": {
     "duration": 6.272528,
     "end_time": "2024-06-23T14:57:08.521018",
     "exception": false,
     "start_time": "2024-06-23T14:57:02.248490",
     "status": "completed"
    },
    "tags": []
   },
   "outputs": [],
   "source": [
    "import torch.nn as nn\n",
    "import torch\n",
    "from torchvision import datasets, transforms\n",
    "import torch.optim as optim\n",
    "from tqdm import tqdm\n",
    "\n",
    "class CNN(nn.Module):\n",
    "    def __init__(self) -> None:\n",
    "        super(CNN, self).__init__()\n",
    "        self.conv1 = nn.Conv2d(1, 16, kernel_size=3, padding=1)\n",
    "        self.conv2 = nn.Conv2d(16, 32, kernel_size=3, padding=1)\n",
    "        self.conv3 = nn.Conv2d(32, 64, kernel_size=3, padding=1)\n",
    "\n",
    "        self.fc1 = nn.Linear(64*16*16, 128)\n",
    "        self.fc2 = nn.Linear(128, 4)\n",
    "\n",
    "        self.relu = nn.ReLU()\n",
    "\n",
    "        self.pool = nn.MaxPool2d(2, 2)\n",
    "        self.dropout = nn.Dropout(p=0.2)\n",
    "    \n",
    "    def forward(self, image: torch.Tensor) -> torch.Tensor:\n",
    "        image = self.conv1(image)\n",
    "        image = self.relu(image)\n",
    "        image = self.pool(image)\n",
    "        image = self.conv2(image)\n",
    "        image = self.relu(image)\n",
    "        image = self.pool(image)\n",
    "        image = self.conv3(image)\n",
    "        image = self.relu(image)\n",
    "        image = self.pool(image)\n",
    "        image = image.view(-1, 64*16*16)\n",
    "        image = self.fc1(image)\n",
    "        image = self.relu(image)\n",
    "        image = self.dropout(image)\n",
    "        image = self.fc2(image)\n",
    "        return image"
   ]
  },
  {
   "cell_type": "code",
   "execution_count": 3,
   "id": "aaa57bef",
   "metadata": {
    "execution": {
     "iopub.execute_input": "2024-06-23T14:57:08.532690Z",
     "iopub.status.busy": "2024-06-23T14:57:08.532267Z",
     "iopub.status.idle": "2024-06-23T14:57:08.536505Z",
     "shell.execute_reply": "2024-06-23T14:57:08.535652Z"
    },
    "papermill": {
     "duration": 0.012124,
     "end_time": "2024-06-23T14:57:08.538410",
     "exception": false,
     "start_time": "2024-06-23T14:57:08.526286",
     "status": "completed"
    },
    "tags": []
   },
   "outputs": [],
   "source": [
    "num_epochs = 30\n",
    "batch_size = 256\n",
    "learning_rate = 1e-4\n",
    "weight_decay = 1e-5\n",
    "train_test_ratio = 0.8"
   ]
  },
  {
   "cell_type": "code",
   "execution_count": 4,
   "id": "0f59e42d",
   "metadata": {
    "execution": {
     "iopub.execute_input": "2024-06-23T14:57:08.550045Z",
     "iopub.status.busy": "2024-06-23T14:57:08.549759Z",
     "iopub.status.idle": "2024-06-23T14:57:27.718597Z",
     "shell.execute_reply": "2024-06-23T14:57:27.717645Z"
    },
    "papermill": {
     "duration": 19.176919,
     "end_time": "2024-06-23T14:57:27.720844",
     "exception": false,
     "start_time": "2024-06-23T14:57:08.543925",
     "status": "completed"
    },
    "tags": []
   },
   "outputs": [
    {
     "data": {
      "text/plain": [
       "CNN(\n",
       "  (conv1): Conv2d(1, 16, kernel_size=(3, 3), stride=(1, 1), padding=(1, 1))\n",
       "  (conv2): Conv2d(16, 32, kernel_size=(3, 3), stride=(1, 1), padding=(1, 1))\n",
       "  (conv3): Conv2d(32, 64, kernel_size=(3, 3), stride=(1, 1), padding=(1, 1))\n",
       "  (fc1): Linear(in_features=16384, out_features=128, bias=True)\n",
       "  (fc2): Linear(in_features=128, out_features=4, bias=True)\n",
       "  (relu): ReLU()\n",
       "  (pool): MaxPool2d(kernel_size=2, stride=2, padding=0, dilation=1, ceil_mode=False)\n",
       "  (dropout): Dropout(p=0.2, inplace=False)\n",
       ")"
      ]
     },
     "execution_count": 4,
     "metadata": {},
     "output_type": "execute_result"
    }
   ],
   "source": [
    "import torch.optim as optim\n",
    "\n",
    "device = torch.device('cuda' if torch.cuda.is_available() else 'cpu')\n",
    "transform = transforms.Compose([\n",
    "    transforms.Grayscale(),\n",
    "    transforms.Resize(size=(128, 128)),\n",
    "    transforms.RandomHorizontalFlip(p=0.5),\n",
    "    transforms.RandomVerticalFlip(p=0.5),\n",
    "    transforms.RandomAffine(degrees=(0, 360), translate=(0.1, 0.3), scale=(0.8, 1.2)), #degrees=(0, 180)\n",
    "#     transforms.CenterCrop((64, 64)),\n",
    "#     transforms.Resize(size=(128, 128)),\n",
    "#     transforms.AutoAugment(),\n",
    "    transforms.RandAugment(num_ops=3),\n",
    "    transforms.ToTensor()]\n",
    ")\n",
    "data = datasets.ImageFolder(train_data_path, transform=transform)\n",
    "\n",
    "train_size = int(train_test_ratio * len(data))\n",
    "test_size = len(data) - train_size\n",
    "train, test = torch.utils.data.random_split(data, [train_size, test_size])\n",
    "trainloader = torch.utils.data.DataLoader(train, batch_size=batch_size, shuffle=True, num_workers=4)\n",
    "testloader = torch.utils.data.DataLoader(test, batch_size=batch_size, shuffle=True, num_workers=4)\n",
    "\n",
    "model = CNN()\n",
    "model.to(device)\n",
    "optimizer = optim.Adam(model.parameters(), lr=learning_rate, weight_decay=weight_decay)\n",
    "criterion = nn.CrossEntropyLoss()\n",
    "model.train()"
   ]
  },
  {
   "cell_type": "code",
   "execution_count": 5,
   "id": "af7898b4",
   "metadata": {
    "execution": {
     "iopub.execute_input": "2024-06-23T14:57:27.732916Z",
     "iopub.status.busy": "2024-06-23T14:57:27.732362Z",
     "iopub.status.idle": "2024-06-23T14:57:27.741439Z",
     "shell.execute_reply": "2024-06-23T14:57:27.740536Z"
    },
    "papermill": {
     "duration": 0.017677,
     "end_time": "2024-06-23T14:57:27.743768",
     "exception": false,
     "start_time": "2024-06-23T14:57:27.726091",
     "status": "completed"
    },
    "tags": []
   },
   "outputs": [],
   "source": [
    "AccTest, LossTest = [], []\n",
    "y_test, predictions = [], []\n",
    "def test(flag=False):\n",
    "    with torch.no_grad():\n",
    "        correct, total = 0, 0\n",
    "        test_loss = 0.0\n",
    "        for images, labels in tqdm(testloader):\n",
    "            images = images.to(device)\n",
    "            labels = labels.to(device)\n",
    "            outputs = model(images)\n",
    "            _, predicted = torch.max(outputs.data, 1)\n",
    "            total += labels.size(0)\n",
    "            correct += (predicted == labels).sum().item()\n",
    "            loss = criterion(outputs, labels)\n",
    "            test_loss += loss.item() * data.size(0)\n",
    "            if flag:\n",
    "                y_test.extend(labels.cpu().numpy())\n",
    "                predictions.extend(predicted.cpu().numpy())\n",
    "        acc = 100 * correct / total\n",
    "        test_loss = test_loss / len(testloader.dataset)\n",
    "        AccTest.append(acc)\n",
    "        LossTest.append(test_loss)\n",
    "        print(f'Epoch: {epoch+1} \\tTest Loss: {test_loss:.6f} \\tTest Acc: {acc:.3f}%')"
   ]
  },
  {
   "cell_type": "code",
   "execution_count": 6,
   "id": "0079eb2a",
   "metadata": {
    "execution": {
     "iopub.execute_input": "2024-06-23T14:57:27.755697Z",
     "iopub.status.busy": "2024-06-23T14:57:27.755050Z",
     "iopub.status.idle": "2024-06-23T15:57:24.329557Z",
     "shell.execute_reply": "2024-06-23T15:57:24.328363Z"
    },
    "papermill": {
     "duration": 3596.58258,
     "end_time": "2024-06-23T15:57:24.331685",
     "exception": false,
     "start_time": "2024-06-23T14:57:27.749105",
     "status": "completed"
    },
    "tags": []
   },
   "outputs": [
    {
     "name": "stderr",
     "output_type": "stream",
     "text": [
      "100%|██████████| 100/100 [02:01<00:00,  1.22s/it]\n",
      "100%|██████████| 25/25 [00:33<00:00,  1.33s/it]\n"
     ]
    },
    {
     "name": "stdout",
     "output_type": "stream",
     "text": [
      "Epoch: 1 \tTest Loss: 1.295698 \tTest Acc: 37.422%\n",
      "Epoch: 1 \tTrain Loss: 1.356215 \tTrain Acc: 32.332%\n"
     ]
    },
    {
     "name": "stderr",
     "output_type": "stream",
     "text": [
      "100%|██████████| 100/100 [01:34<00:00,  1.06it/s]\n",
      "100%|██████████| 25/25 [00:25<00:00,  1.02s/it]\n"
     ]
    },
    {
     "name": "stdout",
     "output_type": "stream",
     "text": [
      "Epoch: 2 \tTest Loss: 1.090694 \tTest Acc: 48.344%\n",
      "Epoch: 2 \tTrain Loss: 1.204635 \tTrain Acc: 41.605%\n"
     ]
    },
    {
     "name": "stderr",
     "output_type": "stream",
     "text": [
      "100%|██████████| 100/100 [01:34<00:00,  1.06it/s]\n",
      "100%|██████████| 25/25 [00:24<00:00,  1.00it/s]\n"
     ]
    },
    {
     "name": "stdout",
     "output_type": "stream",
     "text": [
      "Epoch: 3 \tTest Loss: 0.930549 \tTest Acc: 53.078%\n",
      "Epoch: 3 \tTrain Loss: 0.992913 \tTrain Acc: 50.934%\n"
     ]
    },
    {
     "name": "stderr",
     "output_type": "stream",
     "text": [
      "100%|██████████| 100/100 [01:33<00:00,  1.07it/s]\n",
      "100%|██████████| 25/25 [00:25<00:00,  1.01s/it]\n"
     ]
    },
    {
     "name": "stdout",
     "output_type": "stream",
     "text": [
      "Epoch: 4 \tTest Loss: 0.861254 \tTest Acc: 57.094%\n",
      "Epoch: 4 \tTrain Loss: 0.883925 \tTrain Acc: 55.461%\n"
     ]
    },
    {
     "name": "stderr",
     "output_type": "stream",
     "text": [
      "100%|██████████| 100/100 [01:33<00:00,  1.07it/s]\n",
      "100%|██████████| 25/25 [00:25<00:00,  1.00s/it]\n"
     ]
    },
    {
     "name": "stdout",
     "output_type": "stream",
     "text": [
      "Epoch: 5 \tTest Loss: 0.817537 \tTest Acc: 58.844%\n",
      "Epoch: 5 \tTrain Loss: 0.844577 \tTrain Acc: 57.766%\n"
     ]
    },
    {
     "name": "stderr",
     "output_type": "stream",
     "text": [
      "100%|██████████| 100/100 [01:33<00:00,  1.07it/s]\n",
      "100%|██████████| 25/25 [00:24<00:00,  1.01it/s]\n"
     ]
    },
    {
     "name": "stdout",
     "output_type": "stream",
     "text": [
      "Epoch: 6 \tTest Loss: 0.800909 \tTest Acc: 60.406%\n",
      "Epoch: 6 \tTrain Loss: 0.819100 \tTrain Acc: 58.762%\n"
     ]
    },
    {
     "name": "stderr",
     "output_type": "stream",
     "text": [
      "100%|██████████| 100/100 [01:33<00:00,  1.07it/s]\n",
      "100%|██████████| 25/25 [00:25<00:00,  1.00s/it]\n"
     ]
    },
    {
     "name": "stdout",
     "output_type": "stream",
     "text": [
      "Epoch: 7 \tTest Loss: 0.787253 \tTest Acc: 61.734%\n",
      "Epoch: 7 \tTrain Loss: 0.803114 \tTrain Acc: 59.793%\n"
     ]
    },
    {
     "name": "stderr",
     "output_type": "stream",
     "text": [
      "100%|██████████| 100/100 [01:33<00:00,  1.07it/s]\n",
      "100%|██████████| 25/25 [00:25<00:00,  1.01s/it]\n"
     ]
    },
    {
     "name": "stdout",
     "output_type": "stream",
     "text": [
      "Epoch: 8 \tTest Loss: 0.778470 \tTest Acc: 61.188%\n",
      "Epoch: 8 \tTrain Loss: 0.789765 \tTrain Acc: 60.527%\n"
     ]
    },
    {
     "name": "stderr",
     "output_type": "stream",
     "text": [
      "100%|██████████| 100/100 [01:34<00:00,  1.06it/s]\n",
      "100%|██████████| 25/25 [00:25<00:00,  1.00s/it]\n"
     ]
    },
    {
     "name": "stdout",
     "output_type": "stream",
     "text": [
      "Epoch: 9 \tTest Loss: 0.754410 \tTest Acc: 62.062%\n",
      "Epoch: 9 \tTrain Loss: 0.774259 \tTrain Acc: 61.309%\n"
     ]
    },
    {
     "name": "stderr",
     "output_type": "stream",
     "text": [
      "100%|██████████| 100/100 [01:33<00:00,  1.07it/s]\n",
      "100%|██████████| 25/25 [00:24<00:00,  1.01it/s]\n"
     ]
    },
    {
     "name": "stdout",
     "output_type": "stream",
     "text": [
      "Epoch: 10 \tTest Loss: 0.752545 \tTest Acc: 62.641%\n",
      "Epoch: 10 \tTrain Loss: 0.763127 \tTrain Acc: 61.781%\n"
     ]
    },
    {
     "name": "stderr",
     "output_type": "stream",
     "text": [
      "100%|██████████| 100/100 [01:33<00:00,  1.07it/s]\n",
      "100%|██████████| 25/25 [00:25<00:00,  1.01s/it]\n"
     ]
    },
    {
     "name": "stdout",
     "output_type": "stream",
     "text": [
      "Epoch: 11 \tTest Loss: 0.732599 \tTest Acc: 63.672%\n",
      "Epoch: 11 \tTrain Loss: 0.751489 \tTrain Acc: 62.699%\n"
     ]
    },
    {
     "name": "stderr",
     "output_type": "stream",
     "text": [
      "100%|██████████| 100/100 [01:33<00:00,  1.07it/s]\n",
      "100%|██████████| 25/25 [00:25<00:00,  1.01s/it]\n"
     ]
    },
    {
     "name": "stdout",
     "output_type": "stream",
     "text": [
      "Epoch: 12 \tTest Loss: 0.728978 \tTest Acc: 63.234%\n",
      "Epoch: 12 \tTrain Loss: 0.743357 \tTrain Acc: 63.430%\n"
     ]
    },
    {
     "name": "stderr",
     "output_type": "stream",
     "text": [
      "100%|██████████| 100/100 [01:33<00:00,  1.07it/s]\n",
      "100%|██████████| 25/25 [00:24<00:00,  1.01it/s]\n"
     ]
    },
    {
     "name": "stdout",
     "output_type": "stream",
     "text": [
      "Epoch: 13 \tTest Loss: 0.709995 \tTest Acc: 65.047%\n",
      "Epoch: 13 \tTrain Loss: 0.733508 \tTrain Acc: 63.781%\n"
     ]
    },
    {
     "name": "stderr",
     "output_type": "stream",
     "text": [
      "100%|██████████| 100/100 [01:33<00:00,  1.06it/s]\n",
      "100%|██████████| 25/25 [00:25<00:00,  1.00s/it]\n"
     ]
    },
    {
     "name": "stdout",
     "output_type": "stream",
     "text": [
      "Epoch: 14 \tTest Loss: 0.712546 \tTest Acc: 65.109%\n",
      "Epoch: 14 \tTrain Loss: 0.732118 \tTrain Acc: 64.504%\n"
     ]
    },
    {
     "name": "stderr",
     "output_type": "stream",
     "text": [
      "100%|██████████| 100/100 [01:34<00:00,  1.06it/s]\n",
      "100%|██████████| 25/25 [00:25<00:00,  1.00s/it]\n"
     ]
    },
    {
     "name": "stdout",
     "output_type": "stream",
     "text": [
      "Epoch: 15 \tTest Loss: 0.715104 \tTest Acc: 65.578%\n",
      "Epoch: 15 \tTrain Loss: 0.706701 \tTrain Acc: 65.426%\n"
     ]
    },
    {
     "name": "stderr",
     "output_type": "stream",
     "text": [
      "100%|██████████| 100/100 [01:33<00:00,  1.07it/s]\n",
      "100%|██████████| 25/25 [00:24<00:00,  1.02it/s]\n"
     ]
    },
    {
     "name": "stdout",
     "output_type": "stream",
     "text": [
      "Epoch: 16 \tTest Loss: 0.694957 \tTest Acc: 65.609%\n",
      "Epoch: 16 \tTrain Loss: 0.703113 \tTrain Acc: 65.840%\n"
     ]
    },
    {
     "name": "stderr",
     "output_type": "stream",
     "text": [
      "100%|██████████| 100/100 [01:33<00:00,  1.07it/s]\n",
      "100%|██████████| 25/25 [00:24<00:00,  1.01it/s]\n"
     ]
    },
    {
     "name": "stdout",
     "output_type": "stream",
     "text": [
      "Epoch: 17 \tTest Loss: 0.678312 \tTest Acc: 67.094%\n",
      "Epoch: 17 \tTrain Loss: 0.688953 \tTrain Acc: 66.426%\n"
     ]
    },
    {
     "name": "stderr",
     "output_type": "stream",
     "text": [
      "100%|██████████| 100/100 [01:33<00:00,  1.07it/s]\n",
      "100%|██████████| 25/25 [00:25<00:00,  1.00s/it]\n"
     ]
    },
    {
     "name": "stdout",
     "output_type": "stream",
     "text": [
      "Epoch: 18 \tTest Loss: 0.668732 \tTest Acc: 67.594%\n",
      "Epoch: 18 \tTrain Loss: 0.681708 \tTrain Acc: 67.137%\n"
     ]
    },
    {
     "name": "stderr",
     "output_type": "stream",
     "text": [
      "100%|██████████| 100/100 [01:33<00:00,  1.07it/s]\n",
      "100%|██████████| 25/25 [00:24<00:00,  1.02it/s]\n"
     ]
    },
    {
     "name": "stdout",
     "output_type": "stream",
     "text": [
      "Epoch: 19 \tTest Loss: 0.672460 \tTest Acc: 67.219%\n",
      "Epoch: 19 \tTrain Loss: 0.671032 \tTrain Acc: 67.727%\n"
     ]
    },
    {
     "name": "stderr",
     "output_type": "stream",
     "text": [
      "100%|██████████| 100/100 [01:33<00:00,  1.07it/s]\n",
      "100%|██████████| 25/25 [00:24<00:00,  1.00it/s]\n"
     ]
    },
    {
     "name": "stdout",
     "output_type": "stream",
     "text": [
      "Epoch: 20 \tTest Loss: 0.644238 \tTest Acc: 69.516%\n",
      "Epoch: 20 \tTrain Loss: 0.652799 \tTrain Acc: 68.863%\n"
     ]
    },
    {
     "name": "stderr",
     "output_type": "stream",
     "text": [
      "100%|██████████| 100/100 [01:33<00:00,  1.07it/s]\n",
      "100%|██████████| 25/25 [00:24<00:00,  1.00it/s]\n"
     ]
    },
    {
     "name": "stdout",
     "output_type": "stream",
     "text": [
      "Epoch: 21 \tTest Loss: 0.638748 \tTest Acc: 69.562%\n",
      "Epoch: 21 \tTrain Loss: 0.652223 \tTrain Acc: 68.305%\n"
     ]
    },
    {
     "name": "stderr",
     "output_type": "stream",
     "text": [
      "100%|██████████| 100/100 [01:33<00:00,  1.07it/s]\n",
      "100%|██████████| 25/25 [00:24<00:00,  1.00it/s]\n"
     ]
    },
    {
     "name": "stdout",
     "output_type": "stream",
     "text": [
      "Epoch: 22 \tTest Loss: 0.636203 \tTest Acc: 69.375%\n",
      "Epoch: 22 \tTrain Loss: 0.647015 \tTrain Acc: 68.715%\n"
     ]
    },
    {
     "name": "stderr",
     "output_type": "stream",
     "text": [
      "100%|██████████| 100/100 [01:33<00:00,  1.07it/s]\n",
      "100%|██████████| 25/25 [00:24<00:00,  1.02it/s]\n"
     ]
    },
    {
     "name": "stdout",
     "output_type": "stream",
     "text": [
      "Epoch: 23 \tTest Loss: 0.629082 \tTest Acc: 69.062%\n",
      "Epoch: 23 \tTrain Loss: 0.634919 \tTrain Acc: 69.504%\n"
     ]
    },
    {
     "name": "stderr",
     "output_type": "stream",
     "text": [
      "100%|██████████| 100/100 [01:33<00:00,  1.07it/s]\n",
      "100%|██████████| 25/25 [00:25<00:00,  1.00s/it]\n"
     ]
    },
    {
     "name": "stdout",
     "output_type": "stream",
     "text": [
      "Epoch: 24 \tTest Loss: 0.625999 \tTest Acc: 71.516%\n",
      "Epoch: 24 \tTrain Loss: 0.630293 \tTrain Acc: 70.297%\n"
     ]
    },
    {
     "name": "stderr",
     "output_type": "stream",
     "text": [
      "100%|██████████| 100/100 [01:34<00:00,  1.06it/s]\n",
      "100%|██████████| 25/25 [00:25<00:00,  1.01s/it]\n"
     ]
    },
    {
     "name": "stdout",
     "output_type": "stream",
     "text": [
      "Epoch: 25 \tTest Loss: 0.608580 \tTest Acc: 71.766%\n",
      "Epoch: 25 \tTrain Loss: 0.618113 \tTrain Acc: 70.891%\n"
     ]
    },
    {
     "name": "stderr",
     "output_type": "stream",
     "text": [
      "100%|██████████| 100/100 [01:34<00:00,  1.06it/s]\n",
      "100%|██████████| 25/25 [00:24<00:00,  1.02it/s]\n"
     ]
    },
    {
     "name": "stdout",
     "output_type": "stream",
     "text": [
      "Epoch: 26 \tTest Loss: 0.599000 \tTest Acc: 71.750%\n",
      "Epoch: 26 \tTrain Loss: 0.610498 \tTrain Acc: 71.355%\n"
     ]
    },
    {
     "name": "stderr",
     "output_type": "stream",
     "text": [
      "100%|██████████| 100/100 [01:33<00:00,  1.07it/s]\n",
      "100%|██████████| 25/25 [00:25<00:00,  1.00s/it]\n"
     ]
    },
    {
     "name": "stdout",
     "output_type": "stream",
     "text": [
      "Epoch: 27 \tTest Loss: 0.589094 \tTest Acc: 72.484%\n",
      "Epoch: 27 \tTrain Loss: 0.599065 \tTrain Acc: 72.102%\n"
     ]
    },
    {
     "name": "stderr",
     "output_type": "stream",
     "text": [
      "100%|██████████| 100/100 [01:33<00:00,  1.07it/s]\n",
      "100%|██████████| 25/25 [00:24<00:00,  1.00it/s]\n"
     ]
    },
    {
     "name": "stdout",
     "output_type": "stream",
     "text": [
      "Epoch: 28 \tTest Loss: 0.585580 \tTest Acc: 72.922%\n",
      "Epoch: 28 \tTrain Loss: 0.599987 \tTrain Acc: 72.301%\n"
     ]
    },
    {
     "name": "stderr",
     "output_type": "stream",
     "text": [
      "100%|██████████| 100/100 [01:33<00:00,  1.07it/s]\n",
      "100%|██████████| 25/25 [00:24<00:00,  1.02it/s]\n"
     ]
    },
    {
     "name": "stdout",
     "output_type": "stream",
     "text": [
      "Epoch: 29 \tTest Loss: 0.596178 \tTest Acc: 72.625%\n",
      "Epoch: 29 \tTrain Loss: 0.591243 \tTrain Acc: 72.672%\n"
     ]
    },
    {
     "name": "stderr",
     "output_type": "stream",
     "text": [
      "100%|██████████| 100/100 [01:33<00:00,  1.07it/s]\n",
      "100%|██████████| 25/25 [00:24<00:00,  1.00it/s]"
     ]
    },
    {
     "name": "stdout",
     "output_type": "stream",
     "text": [
      "Epoch: 30 \tTest Loss: 0.587204 \tTest Acc: 71.578%\n",
      "Epoch: 30 \tTrain Loss: 0.582903 \tTrain Acc: 73.184%\n"
     ]
    },
    {
     "name": "stderr",
     "output_type": "stream",
     "text": [
      "\n"
     ]
    }
   ],
   "source": [
    "AccTrain, LossTrain = [], []\n",
    "\n",
    "for epoch in range(num_epochs):\n",
    "    train_loss = 0.0\n",
    "    correct, total = 0, 0\n",
    "    for data, target in tqdm(trainloader):\n",
    "        data = data.to(device)\n",
    "        target = target.to(device)\n",
    "        optimizer.zero_grad()\n",
    "        output = model(data)\n",
    "        loss = criterion(output, target)\n",
    "        loss.backward()\n",
    "        optimizer.step()\n",
    "        total += target.size(0)\n",
    "        _, predicted = torch.max(output.data, 1)\n",
    "        correct += (predicted == target).sum().item()\n",
    "        train_loss += loss.item() * data.size(0)\n",
    "    if epoch + 1 == num_epochs:\n",
    "        test(True)\n",
    "    else:\n",
    "        test()\n",
    "    train_loss = train_loss / len(trainloader.dataset)\n",
    "    acc = 100 * correct / total\n",
    "    AccTrain.append(acc)\n",
    "    LossTrain.append(train_loss)\n",
    "    print(f'Epoch: {epoch+1} \\tTrain Loss: {train_loss:.6f} \\tTrain Acc: {acc:.3f}%')\n"
   ]
  },
  {
   "cell_type": "code",
   "execution_count": 7,
   "id": "64589334",
   "metadata": {
    "execution": {
     "iopub.execute_input": "2024-06-23T15:57:24.654397Z",
     "iopub.status.busy": "2024-06-23T15:57:24.654012Z",
     "iopub.status.idle": "2024-06-23T15:57:24.680350Z",
     "shell.execute_reply": "2024-06-23T15:57:24.679614Z"
    },
    "papermill": {
     "duration": 0.18945,
     "end_time": "2024-06-23T15:57:24.682438",
     "exception": false,
     "start_time": "2024-06-23T15:57:24.492988",
     "status": "completed"
    },
    "tags": []
   },
   "outputs": [],
   "source": [
    "torch.save(model.state_dict(), 'noise.pth')"
   ]
  },
  {
   "cell_type": "code",
   "execution_count": 8,
   "id": "b5b2a3a0",
   "metadata": {
    "execution": {
     "iopub.execute_input": "2024-06-23T15:57:25.006121Z",
     "iopub.status.busy": "2024-06-23T15:57:25.005769Z",
     "iopub.status.idle": "2024-06-23T15:57:27.219536Z",
     "shell.execute_reply": "2024-06-23T15:57:27.218493Z"
    },
    "papermill": {
     "duration": 2.377767,
     "end_time": "2024-06-23T15:57:27.221802",
     "exception": false,
     "start_time": "2024-06-23T15:57:24.844035",
     "status": "completed"
    },
    "tags": []
   },
   "outputs": [
    {
     "name": "stdout",
     "output_type": "stream",
     "text": [
      "Precision: 72.283 %\n",
      "Recall: 71.622 %\n",
      "F1 Score: 71.951 %\n",
      "F1 Macro Score: 71.541 %\n",
      "F1 Weighted Score: 71.497 %\n"
     ]
    },
    {
     "data": {
      "image/png": "[encoded data removed]",
      "text/plain": [
       "<Figure size 640x480 with 2 Axes>"
      ]
     },
     "metadata": {},
     "output_type": "display_data"
    }
   ],
   "source": [
    "from sklearn.metrics import recall_score, precision_score, f1_score, confusion_matrix, ConfusionMatrixDisplay\n",
    "import matplotlib.pyplot as plt\n",
    "\n",
    "cm = confusion_matrix(y_test, predictions)\n",
    "ConfusionMatrixDisplay(cm).plot()\n",
    "plt.savefig(f'ConfMatrix_noise.png', dpi=500)\n",
    "\n",
    "precision = precision_score(y_test, predictions, average='macro')\n",
    "recall = recall_score(y_test, predictions, average='macro')\n",
    "    \n",
    "f1 = 2 * precision * recall / (precision + recall)\n",
    "f1_macro = f1_score(y_test, predictions, average='macro')\n",
    "f1_weighted = f1_score(y_test, predictions, average='weighted')\n",
    "print(f'Precision: {100 * precision:.3f} %')\n",
    "print(f'Recall: {100 * recall:.3f} %')\n",
    "print(f'F1 Score: {100 * f1:.3f} %')\n",
    "print(f'F1 Macro Score: {100 * f1_macro:.3f} %')\n",
    "print(f'F1 Weighted Score: {100 * f1_weighted:.3f} %')"
   ]
  },
  {
   "cell_type": "code",
   "execution_count": 9,
   "id": "6f936d8c",
   "metadata": {
    "execution": {
     "iopub.execute_input": "2024-06-23T15:57:27.549439Z",
     "iopub.status.busy": "2024-06-23T15:57:27.548433Z",
     "iopub.status.idle": "2024-06-23T15:57:27.556503Z",
     "shell.execute_reply": "2024-06-23T15:57:27.555643Z"
    },
    "papermill": {
     "duration": 0.174405,
     "end_time": "2024-06-23T15:57:27.558362",
     "exception": false,
     "start_time": "2024-06-23T15:57:27.383957",
     "status": "completed"
    },
    "tags": []
   },
   "outputs": [],
   "source": [
    "import os\n",
    "from torch.utils.data import Dataset\n",
    "from torchvision.io import read_image, ImageReadMode\n",
    "\n",
    "class AstrogeoDataset(Dataset):\n",
    "    def __init__(self, dir: str, transform=None) -> None:\n",
    "        self.transform = transform\n",
    "        self.images = os.listdir(dir)\n",
    "        self.dir = dir\n",
    "\n",
    "    def __getitem__(self, index: int) -> tuple:\n",
    "        image = read_image(\n",
    "            f'{self.dir}/{self.images[index]}',\n",
    "            mode=ImageReadMode.RGB\n",
    "        )\n",
    "        file_name = self.images[index]\n",
    "        if self.transform is not None:\n",
    "            image = self.transform(image)\n",
    "        return (file_name, image)\n",
    "\n",
    "    def __len__(self) -> int:\n",
    "        return len(self.images)"
   ]
  },
  {
   "cell_type": "code",
   "execution_count": 10,
   "id": "a934ab98",
   "metadata": {
    "execution": {
     "iopub.execute_input": "2024-06-23T15:57:27.889291Z",
     "iopub.status.busy": "2024-06-23T15:57:27.888957Z",
     "iopub.status.idle": "2024-06-23T16:03:02.793410Z",
     "shell.execute_reply": "2024-06-23T16:03:02.792189Z"
    },
    "papermill": {
     "duration": 335.072802,
     "end_time": "2024-06-23T16:03:02.795911",
     "exception": false,
     "start_time": "2024-06-23T15:57:27.723109",
     "status": "completed"
    },
    "tags": []
   },
   "outputs": [
    {
     "name": "stderr",
     "output_type": "stream",
     "text": [
      "100%|██████████| 350/350 [05:32<00:00,  1.05it/s]\n"
     ]
    }
   ],
   "source": [
    "import json\n",
    "import pandas as pd\n",
    "\n",
    "transform = transforms.Compose([\n",
    "    transforms.ToPILImage(), transforms.Resize((128, 128)),\n",
    "    transforms.Grayscale(), transforms.ToTensor()]\n",
    ")\n",
    "val = AstrogeoDataset(val_data_path, transform=transform)\n",
    "valloader = torch.utils.data.DataLoader(\n",
    "    val, batch_size=batch_size, shuffle=True, num_workers=4\n",
    ")\n",
    "\n",
    "model.eval()\n",
    "val_preds = {}\n",
    "with torch.no_grad():\n",
    "    for file_names, images in tqdm(valloader):\n",
    "        images = images.to(device)\n",
    "        outputs = model(images)\n",
    "        _, predicted = torch.max(outputs.data, 1)\n",
    "        val_preds.update(dict(zip(file_names, predicted.cpu().tolist())))\n",
    "        \n",
    "with open('predicts.json', 'w') as f:\n",
    "    json.dump(val_preds, f)\n",
    "\n",
    "s1 = pd.Series(val_preds.keys())\n",
    "s2 = pd.Series(val_preds.values())\n",
    "df = pd.concat([s1, s2], axis=1)\n",
    "df = df.rename(columns={0: 'file_name', 1: 'predicted_class'})\n",
    "df.to_csv('classification.csv')"
   ]
  },
  {
   "cell_type": "code",
   "execution_count": 11,
   "id": "e654f096",
   "metadata": {
    "execution": {
     "iopub.execute_input": "2024-06-23T16:03:03.148558Z",
     "iopub.status.busy": "2024-06-23T16:03:03.148147Z",
     "iopub.status.idle": "2024-06-23T16:03:04.690861Z",
     "shell.execute_reply": "2024-06-23T16:03:04.689737Z"
    },
    "papermill": {
     "duration": 1.720282,
     "end_time": "2024-06-23T16:03:04.692993",
     "exception": false,
     "start_time": "2024-06-23T16:03:02.972711",
     "status": "completed"
    },
    "tags": []
   },
   "outputs": [
    {
     "name": "stdout",
     "output_type": "stream",
     "text": [
      "{0: 26793, 1: 26, 2: 62675, 3: 91}\n"
     ]
    },
    {
     "data": {
      "image/png": "[encoded data removed]",
      "text/plain": [
       "<Figure size 1000x700 with 1 Axes>"
      ]
     },
     "metadata": {},
     "output_type": "display_data"
    }
   ],
   "source": [
    "from collections import Counter\n",
    "\n",
    "labels = [\n",
    "    'Одиночный источник', 'Двойной источник',\n",
    "    'Источник с джетом', 'Источник с двойным джетом'\n",
    "]\n",
    "res = dict(Counter(val_preds.values()))\n",
    "res = {k: v for k, v in sorted(res.items())}\n",
    "print(res)\n",
    "fig, ax = plt.subplots(1, 1, figsize=(10, 7))\n",
    "bar = ax.bar(res.keys(), res.values())\n",
    "ax.bar_label(bar, labels=res.values())\n",
    "ax.set_xlabel('Классы истинных изображений')\n",
    "ax.set_ylabel('Количество')\n",
    "ax.set_title('Классификация Astrogeo')\n",
    "fig.tight_layout()\n",
    "plt.savefig('histogram.png', dpi=500)"
   ]
  },
  {
   "cell_type": "code",
   "execution_count": 12,
   "id": "2d131c79",
   "metadata": {
    "execution": {
     "iopub.execute_input": "2024-06-23T16:03:05.050621Z",
     "iopub.status.busy": "2024-06-23T16:03:05.049626Z",
     "iopub.status.idle": "2024-06-23T16:03:07.673999Z",
     "shell.execute_reply": "2024-06-23T16:03:07.672943Z"
    },
    "papermill": {
     "duration": 2.805712,
     "end_time": "2024-06-23T16:03:07.676613",
     "exception": false,
     "start_time": "2024-06-23T16:03:04.870901",
     "status": "completed"
    },
    "tags": []
   },
   "outputs": [
    {
     "data": {
      "image/png": "[encoded data removed]",
      "text/plain": [
       "<Figure size 1500x600 with 2 Axes>"
      ]
     },
     "metadata": {},
     "output_type": "display_data"
    }
   ],
   "source": [
    "import numpy as np\n",
    "\n",
    "plt.rcParams.update({'font.size': 16})\n",
    "epochs = np.arange(1, num_epochs + 1)\n",
    "fig, axes = plt.subplots(1, 2, figsize=(15, 6))\n",
    "axes[0].plot(epochs, LossTrain, label='train', color='blue')\n",
    "axes[0].plot(epochs, LossTest, label='test', color='orange')\n",
    "axes[0].set_title('Значение функции потерь от эпохи обучения')\n",
    "axes[0].set_xlabel('Номер эпохи')\n",
    "axes[0].set_ylabel('Значение функции потерь')\n",
    "axes[0].grid()\n",
    "axes[0].legend()\n",
    "\n",
    "axes[1].plot(epochs, AccTrain, label='train', color='blue')\n",
    "axes[1].plot(epochs, AccTest, label='test', color='orange')\n",
    "axes[1].set_title('Значение корректности от эпохи обучения')\n",
    "axes[1].set_ylabel('Корректность')\n",
    "axes[1].set_xlabel('Номер эпохи')\n",
    "axes[1].grid()\n",
    "axes[1].legend()\n",
    "plt.tight_layout()\n",
    "plt.savefig('train.png', dpi=500)"
   ]
  },
  {
   "cell_type": "code",
   "execution_count": 13,
   "id": "51bc6d9c",
   "metadata": {
    "execution": {
     "iopub.execute_input": "2024-06-23T16:03:08.035705Z",
     "iopub.status.busy": "2024-06-23T16:03:08.035042Z",
     "iopub.status.idle": "2024-06-23T16:03:11.808718Z",
     "shell.execute_reply": "2024-06-23T16:03:11.807377Z"
    },
    "papermill": {
     "duration": 3.956224,
     "end_time": "2024-06-23T16:03:11.810691",
     "exception": false,
     "start_time": "2024-06-23T16:03:07.854467",
     "status": "completed"
    },
    "tags": []
   },
   "outputs": [
    {
     "name": "stderr",
     "output_type": "stream",
     "text": [
      "100%|██████████| 3/3 [00:03<00:00,  1.19s/it]"
     ]
    },
    {
     "name": "stdout",
     "output_type": "stream",
     "text": [
      "Epoch: 30 \tVal Loss: 0.175455 \tVal Acc: 46.284%\n"
     ]
    },
    {
     "name": "stderr",
     "output_type": "stream",
     "text": [
      "\n"
     ]
    }
   ],
   "source": [
    "val_data_path2 = '/kaggle/input/lisakovonelove/val'\n",
    "transform = transforms.Compose([\n",
    "    transforms.Grayscale(),\n",
    "    transforms.Resize(size=(128, 128)),\n",
    "    transforms.ToTensor()]\n",
    ")\n",
    "val = datasets.ImageFolder(val_data_path2, transform=transform)\n",
    "valloader = torch.utils.data.DataLoader(val, batch_size=batch_size, shuffle=True, num_workers=4)\n",
    "AccTest, LossTest = [], []\n",
    "y_test, predictions = [], []\n",
    "\n",
    "with torch.no_grad():\n",
    "    correct, total = 0, 0\n",
    "    test_loss = 0.0\n",
    "    for images, labels in tqdm(valloader):\n",
    "        images = images.to(device)\n",
    "        labels = labels.to(device)\n",
    "        outputs = model(images)\n",
    "        _, predicted = torch.max(outputs.data, 1)\n",
    "        total += labels.size(0)\n",
    "        correct += (predicted == labels).sum().item()\n",
    "        loss = criterion(outputs, labels)\n",
    "        test_loss += loss.item() * data.size(0)\n",
    "        y_test.extend(labels.cpu().numpy())\n",
    "        predictions.extend(predicted.cpu().numpy())\n",
    "    acc = 100 * correct / total\n",
    "    test_loss = test_loss / len(testloader.dataset)\n",
    "    AccTest.append(acc)\n",
    "    LossTest.append(test_loss)\n",
    "    print(f'Epoch: {epoch+1} \\tVal Loss: {test_loss:.6f} \\tVal Acc: {acc:.3f}%')"
   ]
  },
  {
   "cell_type": "code",
   "execution_count": 14,
   "id": "3e07bed9",
   "metadata": {
    "execution": {
     "iopub.execute_input": "2024-06-23T16:03:12.171271Z",
     "iopub.status.busy": "2024-06-23T16:03:12.170873Z",
     "iopub.status.idle": "2024-06-23T16:03:13.235908Z",
     "shell.execute_reply": "2024-06-23T16:03:13.234937Z"
    },
    "papermill": {
     "duration": 1.247437,
     "end_time": "2024-06-23T16:03:13.237780",
     "exception": false,
     "start_time": "2024-06-23T16:03:11.990343",
     "status": "completed"
    },
    "tags": []
   },
   "outputs": [
    {
     "name": "stdout",
     "output_type": "stream",
     "text": [
      "Precision: 48.238 %\n",
      "Recall: 27.569 %\n",
      "F1 Score: 35.086 %\n",
      "F1 Macro Score: 24.861 %\n",
      "F1 Weighted Score: 41.059 %\n"
     ]
    },
    {
     "data": {
      "image/png": "[encoded data removed]",
      "text/plain": [
       "<Figure size 640x480 with 2 Axes>"
      ]
     },
     "metadata": {},
     "output_type": "display_data"
    }
   ],
   "source": [
    "from sklearn.metrics import recall_score, precision_score, f1_score, confusion_matrix, ConfusionMatrixDisplay\n",
    "import matplotlib.pyplot as plt\n",
    "\n",
    "cm = confusion_matrix(y_test, predictions)\n",
    "ConfusionMatrixDisplay(cm).plot()\n",
    "plt.savefig(f'ConfMatrix_noise.png', dpi=500)\n",
    "\n",
    "precision = precision_score(y_test, predictions, average='macro')\n",
    "recall = recall_score(y_test, predictions, average='macro')\n",
    "    \n",
    "f1 = 2 * precision * recall / (precision + recall)\n",
    "f1_macro = f1_score(y_test, predictions, average='macro')\n",
    "f1_weighted = f1_score(y_test, predictions, average='weighted')\n",
    "print(f'Precision: {100 * precision:.3f} %')\n",
    "print(f'Recall: {100 * recall:.3f} %')\n",
    "print(f'F1 Score: {100 * f1:.3f} %')\n",
    "print(f'F1 Macro Score: {100 * f1_macro:.3f} %')\n",
    "print(f'F1 Weighted Score: {100 * f1_weighted:.3f} %')"
   ]
  },
  {
   "cell_type": "code",
   "execution_count": null,
   "id": "dc8160dd",
   "metadata": {
    "papermill": {
     "duration": 0.181493,
     "end_time": "2024-06-23T16:03:13.601463",
     "exception": false,
     "start_time": "2024-06-23T16:03:13.419970",
     "status": "completed"
    },
    "tags": []
   },
   "outputs": [],
   "source": []
  }
 ],
 "metadata": {
  "kaggle": {
   "accelerator": "gpu",
   "dataSources": [
    {
     "datasetId": 4702184,
     "sourceId": 7987931,
     "sourceType": "datasetVersion"
    },
    {
     "datasetId": 4703603,
     "sourceId": 7989923,
     "sourceType": "datasetVersion"
    },
    {
     "datasetId": 4706799,
     "sourceId": 7994607,
     "sourceType": "datasetVersion"
    },
    {
     "datasetId": 5263849,
     "sourceId": 8761130,
     "sourceType": "datasetVersion"
    }
   ],
   "dockerImageVersionId": 30646,
   "isGpuEnabled": true,
   "isInternetEnabled": true,
   "language": "python",
   "sourceType": "notebook"
  },
  "kernelspec": {
   "display_name": "Python 3",
   "language": "python",
   "name": "python3"
  },
  "language_info": {
   "codemirror_mode": {
    "name": "ipython",
    "version": 3
   },
   "file_extension": ".py",
   "mimetype": "text/x-python",
   "name": "python",
   "nbconvert_exporter": "python",
   "pygments_lexer": "ipython3",
   "version": "3.10.13"
  },
  "papermill": {
   "default_parameters": {},
   "duration": 3976.918346,
   "end_time": "2024-06-23T16:03:16.419972",
   "environment_variables": {},
   "exception": null,
   "input_path": "__notebook__.ipynb",
   "output_path": "__notebook__.ipynb",
   "parameters": {},
   "start_time": "2024-06-23T14:56:59.501626",
   "version": "2.5.0"
  }
 },
 "nbformat": 4,
 "nbformat_minor": 5
}
