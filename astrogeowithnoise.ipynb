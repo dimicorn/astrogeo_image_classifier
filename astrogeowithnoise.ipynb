{
 "cells": [
  {
   "cell_type": "code",
   "execution_count": 1,
   "id": "887ae4c5",
   "metadata": {
    "execution": {
     "iopub.execute_input": "2024-06-23T16:57:04.182001Z",
     "iopub.status.busy": "2024-06-23T16:57:04.181636Z",
     "iopub.status.idle": "2024-06-23T16:57:04.194502Z",
     "shell.execute_reply": "2024-06-23T16:57:04.193589Z"
    },
    "papermill": {
     "duration": 0.023006,
     "end_time": "2024-06-23T16:57:04.196878",
     "exception": false,
     "start_time": "2024-06-23T16:57:04.173872",
     "status": "completed"
    },
    "tags": []
   },
   "outputs": [],
   "source": [
    "import os\n",
    "import warnings\n",
    "\n",
    "warnings.filterwarnings('ignore')\n",
    "train_data_path = '/kaggle/input/noisyastrogeo/new_noise2_32k'\n",
    "# '/kaggle/input/astrogeonoisy96k/noise_96k'\n",
    "val_data_path = '/kaggle/input/astrogeo512x512/data_512x512_abs'"
   ]
  },
  {
   "cell_type": "code",
   "execution_count": 2,
   "id": "26415eed",
   "metadata": {
    "execution": {
     "iopub.execute_input": "2024-06-23T16:57:04.210293Z",
     "iopub.status.busy": "2024-06-23T16:57:04.209924Z",
     "iopub.status.idle": "2024-06-23T16:57:10.629274Z",
     "shell.execute_reply": "2024-06-23T16:57:10.628373Z"
    },
    "papermill": {
     "duration": 6.428706,
     "end_time": "2024-06-23T16:57:10.631844",
     "exception": false,
     "start_time": "2024-06-23T16:57:04.203138",
     "status": "completed"
    },
    "tags": []
   },
   "outputs": [],
   "source": [
    "import torch.nn as nn\n",
    "import torch\n",
    "from torchvision import datasets, transforms\n",
    "import torch.optim as optim\n",
    "from tqdm import tqdm\n",
    "\n",
    "class CNN(nn.Module):\n",
    "    def __init__(self) -> None:\n",
    "        super(CNN, self).__init__()\n",
    "        self.conv1 = nn.Conv2d(1, 16, kernel_size=3, padding=1)\n",
    "        self.conv2 = nn.Conv2d(16, 32, kernel_size=3, padding=1)\n",
    "        self.conv3 = nn.Conv2d(32, 64, kernel_size=3, padding=1)\n",
    "\n",
    "        self.fc1 = nn.Linear(64*16*16, 128)\n",
    "        self.fc2 = nn.Linear(128, 4)\n",
    "\n",
    "        self.relu = nn.ReLU()\n",
    "\n",
    "        self.pool = nn.MaxPool2d(2, 2)\n",
    "        self.dropout = nn.Dropout(p=0.2)\n",
    "    \n",
    "    def forward(self, image: torch.Tensor) -> torch.Tensor:\n",
    "        image = self.conv1(image)\n",
    "        image = self.relu(image)\n",
    "        image = self.pool(image)\n",
    "        image = self.conv2(image)\n",
    "        image = self.relu(image)\n",
    "        image = self.pool(image)\n",
    "        image = self.conv3(image)\n",
    "        image = self.relu(image)\n",
    "        image = self.pool(image)\n",
    "        image = image.view(-1, 64*16*16)\n",
    "        image = self.fc1(image)\n",
    "        image = self.relu(image)\n",
    "        image = self.dropout(image)\n",
    "        image = self.fc2(image)\n",
    "        return image"
   ]
  },
  {
   "cell_type": "code",
   "execution_count": 3,
   "id": "33c624ab",
   "metadata": {
    "execution": {
     "iopub.execute_input": "2024-06-23T16:57:10.644881Z",
     "iopub.status.busy": "2024-06-23T16:57:10.644401Z",
     "iopub.status.idle": "2024-06-23T16:57:10.649530Z",
     "shell.execute_reply": "2024-06-23T16:57:10.648648Z"
    },
    "papermill": {
     "duration": 0.013856,
     "end_time": "2024-06-23T16:57:10.651601",
     "exception": false,
     "start_time": "2024-06-23T16:57:10.637745",
     "status": "completed"
    },
    "tags": []
   },
   "outputs": [],
   "source": [
    "num_epochs = 25 # 30\n",
    "batch_size = 256\n",
    "learning_rate = 1e-4\n",
    "weight_decay = 1e-5\n",
    "train_test_ratio = 0.8"
   ]
  },
  {
   "cell_type": "code",
   "execution_count": 4,
   "id": "00dcbf54",
   "metadata": {
    "execution": {
     "iopub.execute_input": "2024-06-23T16:57:10.663861Z",
     "iopub.status.busy": "2024-06-23T16:57:10.663236Z",
     "iopub.status.idle": "2024-06-23T16:57:42.197783Z",
     "shell.execute_reply": "2024-06-23T16:57:42.196903Z"
    },
    "papermill": {
     "duration": 31.547625,
     "end_time": "2024-06-23T16:57:42.204709",
     "exception": false,
     "start_time": "2024-06-23T16:57:10.657084",
     "status": "completed"
    },
    "tags": []
   },
   "outputs": [
    {
     "data": {
      "text/plain": [
       "CNN(\n",
       "  (conv1): Conv2d(1, 16, kernel_size=(3, 3), stride=(1, 1), padding=(1, 1))\n",
       "  (conv2): Conv2d(16, 32, kernel_size=(3, 3), stride=(1, 1), padding=(1, 1))\n",
       "  (conv3): Conv2d(32, 64, kernel_size=(3, 3), stride=(1, 1), padding=(1, 1))\n",
       "  (fc1): Linear(in_features=16384, out_features=128, bias=True)\n",
       "  (fc2): Linear(in_features=128, out_features=4, bias=True)\n",
       "  (relu): ReLU()\n",
       "  (pool): MaxPool2d(kernel_size=2, stride=2, padding=0, dilation=1, ceil_mode=False)\n",
       "  (dropout): Dropout(p=0.2, inplace=False)\n",
       ")"
      ]
     },
     "execution_count": 4,
     "metadata": {},
     "output_type": "execute_result"
    }
   ],
   "source": [
    "import torch.optim as optim\n",
    "\n",
    "device = torch.device('cuda' if torch.cuda.is_available() else 'cpu')\n",
    "transform = transforms.Compose([\n",
    "    transforms.Grayscale(),\n",
    "    transforms.Resize(size=(128, 128)),\n",
    "    transforms.RandomHorizontalFlip(p=0.5),\n",
    "    transforms.RandomVerticalFlip(p=0.5),\n",
    "    transforms.RandomAffine(degrees=(0, 360), translate=(0.1, 0.3), scale=(0.8, 1.2)), #degrees=(0, 180)\n",
    "#     transforms.CenterCrop((64, 64)),\n",
    "#     transforms.Resize(size=(128, 128)),\n",
    "#     transforms.AutoAugment(),\n",
    "    transforms.RandAugment(num_ops=3),\n",
    "    transforms.RandomEqualize(1),\n",
    "    transforms.RandomAdjustSharpness(0.75, 1),\n",
    "    transforms.ToTensor()]\n",
    ")\n",
    "data = datasets.ImageFolder(train_data_path, transform=transform)\n",
    "\n",
    "train_size = int(train_test_ratio * len(data))\n",
    "test_size = len(data) - train_size\n",
    "train, test = torch.utils.data.random_split(data, [train_size, test_size])\n",
    "trainloader = torch.utils.data.DataLoader(train, batch_size=batch_size, shuffle=True, num_workers=4)\n",
    "testloader = torch.utils.data.DataLoader(test, batch_size=batch_size, shuffle=True, num_workers=4)\n",
    "\n",
    "model = CNN()\n",
    "model.to(device)\n",
    "optimizer = optim.Adam(model.parameters(), lr=learning_rate, weight_decay=weight_decay)\n",
    "criterion = nn.CrossEntropyLoss()\n",
    "model.train()"
   ]
  },
  {
   "cell_type": "code",
   "execution_count": 5,
   "id": "5cc47346",
   "metadata": {
    "execution": {
     "iopub.execute_input": "2024-06-23T16:57:42.216395Z",
     "iopub.status.busy": "2024-06-23T16:57:42.216091Z",
     "iopub.status.idle": "2024-06-23T16:57:42.224572Z",
     "shell.execute_reply": "2024-06-23T16:57:42.223689Z"
    },
    "papermill": {
     "duration": 0.016498,
     "end_time": "2024-06-23T16:57:42.226520",
     "exception": false,
     "start_time": "2024-06-23T16:57:42.210022",
     "status": "completed"
    },
    "tags": []
   },
   "outputs": [],
   "source": [
    "AccTest, LossTest = [], []\n",
    "y_test, predictions = [], []\n",
    "def test(flag=False):\n",
    "    with torch.no_grad():\n",
    "        correct, total = 0, 0\n",
    "        test_loss = 0.0\n",
    "        for images, labels in tqdm(testloader):\n",
    "            images = images.to(device)\n",
    "            labels = labels.to(device)\n",
    "            outputs = model(images)\n",
    "            _, predicted = torch.max(outputs.data, 1)\n",
    "            total += labels.size(0)\n",
    "            correct += (predicted == labels).sum().item()\n",
    "            loss = criterion(outputs, labels)\n",
    "            test_loss += loss.item() * data.size(0)\n",
    "            if flag:\n",
    "                y_test.extend(labels.cpu().numpy())\n",
    "                predictions.extend(predicted.cpu().numpy())\n",
    "        acc = 100 * correct / total\n",
    "        test_loss = test_loss / len(testloader.dataset)\n",
    "        AccTest.append(acc)\n",
    "        LossTest.append(test_loss)\n",
    "        print(f'Epoch: {epoch+1} \\tTest Loss: {test_loss:.6f} \\tTest Acc: {acc:.3f}%')"
   ]
  },
  {
   "cell_type": "code",
   "execution_count": 6,
   "id": "d595aad1",
   "metadata": {
    "execution": {
     "iopub.execute_input": "2024-06-23T16:57:42.238373Z",
     "iopub.status.busy": "2024-06-23T16:57:42.237778Z",
     "iopub.status.idle": "2024-06-23T17:49:29.045592Z",
     "shell.execute_reply": "2024-06-23T17:49:29.044382Z"
    },
    "papermill": {
     "duration": 3106.815859,
     "end_time": "2024-06-23T17:49:29.047612",
     "exception": false,
     "start_time": "2024-06-23T16:57:42.231753",
     "status": "completed"
    },
    "tags": []
   },
   "outputs": [
    {
     "name": "stderr",
     "output_type": "stream",
     "text": [
      "100%|██████████| 100/100 [02:01<00:00,  1.21s/it]\n",
      "100%|██████████| 25/25 [00:32<00:00,  1.30s/it]\n"
     ]
    },
    {
     "name": "stdout",
     "output_type": "stream",
     "text": [
      "Epoch: 1 \tTest Loss: 1.375435 \tTest Acc: 28.875%\n",
      "Epoch: 1 \tTrain Loss: 1.383959 \tTrain Acc: 26.676%\n"
     ]
    },
    {
     "name": "stderr",
     "output_type": "stream",
     "text": [
      "100%|██████████| 100/100 [01:38<00:00,  1.02it/s]\n",
      "100%|██████████| 25/25 [00:26<00:00,  1.07s/it]\n"
     ]
    },
    {
     "name": "stdout",
     "output_type": "stream",
     "text": [
      "Epoch: 2 \tTest Loss: 1.303291 \tTest Acc: 36.109%\n",
      "Epoch: 2 \tTrain Loss: 1.347238 \tTrain Acc: 33.484%\n"
     ]
    },
    {
     "name": "stderr",
     "output_type": "stream",
     "text": [
      "100%|██████████| 100/100 [01:39<00:00,  1.01it/s]\n",
      "100%|██████████| 25/25 [00:26<00:00,  1.05s/it]\n"
     ]
    },
    {
     "name": "stdout",
     "output_type": "stream",
     "text": [
      "Epoch: 3 \tTest Loss: 1.254135 \tTest Acc: 40.859%\n",
      "Epoch: 3 \tTrain Loss: 1.285605 \tTrain Acc: 37.672%\n"
     ]
    },
    {
     "name": "stderr",
     "output_type": "stream",
     "text": [
      "100%|██████████| 100/100 [01:38<00:00,  1.01it/s]\n",
      "100%|██████████| 25/25 [00:25<00:00,  1.03s/it]\n"
     ]
    },
    {
     "name": "stdout",
     "output_type": "stream",
     "text": [
      "Epoch: 4 \tTest Loss: 1.211640 \tTest Acc: 43.250%\n",
      "Epoch: 4 \tTrain Loss: 1.244927 \tTrain Acc: 40.375%\n"
     ]
    },
    {
     "name": "stderr",
     "output_type": "stream",
     "text": [
      "100%|██████████| 100/100 [01:39<00:00,  1.01it/s]\n",
      "100%|██████████| 25/25 [00:25<00:00,  1.04s/it]\n"
     ]
    },
    {
     "name": "stdout",
     "output_type": "stream",
     "text": [
      "Epoch: 5 \tTest Loss: 1.203926 \tTest Acc: 42.531%\n",
      "Epoch: 5 \tTrain Loss: 1.207848 \tTrain Acc: 42.441%\n"
     ]
    },
    {
     "name": "stderr",
     "output_type": "stream",
     "text": [
      "100%|██████████| 100/100 [01:38<00:00,  1.01it/s]\n",
      "100%|██████████| 25/25 [00:26<00:00,  1.05s/it]\n"
     ]
    },
    {
     "name": "stdout",
     "output_type": "stream",
     "text": [
      "Epoch: 6 \tTest Loss: 1.121271 \tTest Acc: 47.312%\n",
      "Epoch: 6 \tTrain Loss: 1.163333 \tTrain Acc: 45.082%\n"
     ]
    },
    {
     "name": "stderr",
     "output_type": "stream",
     "text": [
      "100%|██████████| 100/100 [01:39<00:00,  1.01it/s]\n",
      "100%|██████████| 25/25 [00:26<00:00,  1.06s/it]\n"
     ]
    },
    {
     "name": "stdout",
     "output_type": "stream",
     "text": [
      "Epoch: 7 \tTest Loss: 1.072097 \tTest Acc: 50.406%\n",
      "Epoch: 7 \tTrain Loss: 1.106790 \tTrain Acc: 48.121%\n"
     ]
    },
    {
     "name": "stderr",
     "output_type": "stream",
     "text": [
      "100%|██████████| 100/100 [01:38<00:00,  1.01it/s]\n",
      "100%|██████████| 25/25 [00:26<00:00,  1.05s/it]\n"
     ]
    },
    {
     "name": "stdout",
     "output_type": "stream",
     "text": [
      "Epoch: 8 \tTest Loss: 1.026963 \tTest Acc: 51.344%\n",
      "Epoch: 8 \tTrain Loss: 1.049790 \tTrain Acc: 50.094%\n"
     ]
    },
    {
     "name": "stderr",
     "output_type": "stream",
     "text": [
      "100%|██████████| 100/100 [01:37<00:00,  1.02it/s]\n",
      "100%|██████████| 25/25 [00:26<00:00,  1.05s/it]\n"
     ]
    },
    {
     "name": "stdout",
     "output_type": "stream",
     "text": [
      "Epoch: 9 \tTest Loss: 0.986145 \tTest Acc: 53.219%\n",
      "Epoch: 9 \tTrain Loss: 1.003246 \tTrain Acc: 52.238%\n"
     ]
    },
    {
     "name": "stderr",
     "output_type": "stream",
     "text": [
      "100%|██████████| 100/100 [01:38<00:00,  1.01it/s]\n",
      "100%|██████████| 25/25 [00:25<00:00,  1.03s/it]\n"
     ]
    },
    {
     "name": "stdout",
     "output_type": "stream",
     "text": [
      "Epoch: 10 \tTest Loss: 0.920251 \tTest Acc: 56.094%\n",
      "Epoch: 10 \tTrain Loss: 0.960272 \tTrain Acc: 54.582%\n"
     ]
    },
    {
     "name": "stderr",
     "output_type": "stream",
     "text": [
      "100%|██████████| 100/100 [01:35<00:00,  1.04it/s]\n",
      "100%|██████████| 25/25 [00:25<00:00,  1.03s/it]\n"
     ]
    },
    {
     "name": "stdout",
     "output_type": "stream",
     "text": [
      "Epoch: 11 \tTest Loss: 0.868315 \tTest Acc: 58.047%\n",
      "Epoch: 11 \tTrain Loss: 0.898996 \tTrain Acc: 56.953%\n"
     ]
    },
    {
     "name": "stderr",
     "output_type": "stream",
     "text": [
      "100%|██████████| 100/100 [01:37<00:00,  1.03it/s]\n",
      "100%|██████████| 25/25 [00:25<00:00,  1.01s/it]\n"
     ]
    },
    {
     "name": "stdout",
     "output_type": "stream",
     "text": [
      "Epoch: 12 \tTest Loss: 0.822763 \tTest Acc: 60.844%\n",
      "Epoch: 12 \tTrain Loss: 0.857354 \tTrain Acc: 58.598%\n"
     ]
    },
    {
     "name": "stderr",
     "output_type": "stream",
     "text": [
      "100%|██████████| 100/100 [01:35<00:00,  1.05it/s]\n",
      "100%|██████████| 25/25 [00:25<00:00,  1.01s/it]\n"
     ]
    },
    {
     "name": "stdout",
     "output_type": "stream",
     "text": [
      "Epoch: 13 \tTest Loss: 0.795591 \tTest Acc: 61.672%\n",
      "Epoch: 13 \tTrain Loss: 0.820525 \tTrain Acc: 60.879%\n"
     ]
    },
    {
     "name": "stderr",
     "output_type": "stream",
     "text": [
      "100%|██████████| 100/100 [01:35<00:00,  1.05it/s]\n",
      "100%|██████████| 25/25 [00:25<00:00,  1.02s/it]\n"
     ]
    },
    {
     "name": "stdout",
     "output_type": "stream",
     "text": [
      "Epoch: 14 \tTest Loss: 0.773994 \tTest Acc: 62.812%\n",
      "Epoch: 14 \tTrain Loss: 0.795938 \tTrain Acc: 61.594%\n"
     ]
    },
    {
     "name": "stderr",
     "output_type": "stream",
     "text": [
      "100%|██████████| 100/100 [01:35<00:00,  1.05it/s]\n",
      "100%|██████████| 25/25 [00:25<00:00,  1.01s/it]\n"
     ]
    },
    {
     "name": "stdout",
     "output_type": "stream",
     "text": [
      "Epoch: 15 \tTest Loss: 0.766961 \tTest Acc: 63.359%\n",
      "Epoch: 15 \tTrain Loss: 0.775811 \tTrain Acc: 62.258%\n"
     ]
    },
    {
     "name": "stderr",
     "output_type": "stream",
     "text": [
      "100%|██████████| 100/100 [01:35<00:00,  1.04it/s]\n",
      "100%|██████████| 25/25 [00:25<00:00,  1.00s/it]\n"
     ]
    },
    {
     "name": "stdout",
     "output_type": "stream",
     "text": [
      "Epoch: 16 \tTest Loss: 0.743571 \tTest Acc: 64.125%\n",
      "Epoch: 16 \tTrain Loss: 0.768247 \tTrain Acc: 62.445%\n"
     ]
    },
    {
     "name": "stderr",
     "output_type": "stream",
     "text": [
      "100%|██████████| 100/100 [01:36<00:00,  1.04it/s]\n",
      "100%|██████████| 25/25 [00:25<00:00,  1.02s/it]\n"
     ]
    },
    {
     "name": "stdout",
     "output_type": "stream",
     "text": [
      "Epoch: 17 \tTest Loss: 0.737885 \tTest Acc: 64.172%\n",
      "Epoch: 17 \tTrain Loss: 0.756671 \tTrain Acc: 62.941%\n"
     ]
    },
    {
     "name": "stderr",
     "output_type": "stream",
     "text": [
      "100%|██████████| 100/100 [01:35<00:00,  1.04it/s]\n",
      "100%|██████████| 25/25 [00:25<00:00,  1.03s/it]\n"
     ]
    },
    {
     "name": "stdout",
     "output_type": "stream",
     "text": [
      "Epoch: 18 \tTest Loss: 0.731182 \tTest Acc: 64.531%\n",
      "Epoch: 18 \tTrain Loss: 0.751629 \tTrain Acc: 62.941%\n"
     ]
    },
    {
     "name": "stderr",
     "output_type": "stream",
     "text": [
      "100%|██████████| 100/100 [01:36<00:00,  1.04it/s]\n",
      "100%|██████████| 25/25 [00:25<00:00,  1.02s/it]\n"
     ]
    },
    {
     "name": "stdout",
     "output_type": "stream",
     "text": [
      "Epoch: 19 \tTest Loss: 0.712325 \tTest Acc: 65.094%\n",
      "Epoch: 19 \tTrain Loss: 0.734081 \tTrain Acc: 63.871%\n"
     ]
    },
    {
     "name": "stderr",
     "output_type": "stream",
     "text": [
      "100%|██████████| 100/100 [01:36<00:00,  1.04it/s]\n",
      "100%|██████████| 25/25 [00:25<00:00,  1.02s/it]\n"
     ]
    },
    {
     "name": "stdout",
     "output_type": "stream",
     "text": [
      "Epoch: 20 \tTest Loss: 0.709315 \tTest Acc: 64.906%\n",
      "Epoch: 20 \tTrain Loss: 0.726513 \tTrain Acc: 64.617%\n"
     ]
    },
    {
     "name": "stderr",
     "output_type": "stream",
     "text": [
      "100%|██████████| 100/100 [01:35<00:00,  1.04it/s]\n",
      "100%|██████████| 25/25 [00:24<00:00,  1.00it/s]\n"
     ]
    },
    {
     "name": "stdout",
     "output_type": "stream",
     "text": [
      "Epoch: 21 \tTest Loss: 0.705682 \tTest Acc: 65.203%\n",
      "Epoch: 21 \tTrain Loss: 0.721503 \tTrain Acc: 64.648%\n"
     ]
    },
    {
     "name": "stderr",
     "output_type": "stream",
     "text": [
      "100%|██████████| 100/100 [01:37<00:00,  1.03it/s]\n",
      "100%|██████████| 25/25 [00:25<00:00,  1.03s/it]\n"
     ]
    },
    {
     "name": "stdout",
     "output_type": "stream",
     "text": [
      "Epoch: 22 \tTest Loss: 0.698215 \tTest Acc: 66.656%\n",
      "Epoch: 22 \tTrain Loss: 0.714094 \tTrain Acc: 65.270%\n"
     ]
    },
    {
     "name": "stderr",
     "output_type": "stream",
     "text": [
      "100%|██████████| 100/100 [01:38<00:00,  1.02it/s]\n",
      "100%|██████████| 25/25 [00:25<00:00,  1.03s/it]\n"
     ]
    },
    {
     "name": "stdout",
     "output_type": "stream",
     "text": [
      "Epoch: 23 \tTest Loss: 0.685830 \tTest Acc: 66.469%\n",
      "Epoch: 23 \tTrain Loss: 0.704484 \tTrain Acc: 65.496%\n"
     ]
    },
    {
     "name": "stderr",
     "output_type": "stream",
     "text": [
      "100%|██████████| 100/100 [01:37<00:00,  1.03it/s]\n",
      "100%|██████████| 25/25 [00:26<00:00,  1.04s/it]\n"
     ]
    },
    {
     "name": "stdout",
     "output_type": "stream",
     "text": [
      "Epoch: 24 \tTest Loss: 0.692411 \tTest Acc: 66.422%\n",
      "Epoch: 24 \tTrain Loss: 0.697347 \tTrain Acc: 65.887%\n"
     ]
    },
    {
     "name": "stderr",
     "output_type": "stream",
     "text": [
      "100%|██████████| 100/100 [01:38<00:00,  1.01it/s]\n",
      "100%|██████████| 25/25 [00:25<00:00,  1.04s/it]"
     ]
    },
    {
     "name": "stdout",
     "output_type": "stream",
     "text": [
      "Epoch: 25 \tTest Loss: 0.679282 \tTest Acc: 67.234%\n",
      "Epoch: 25 \tTrain Loss: 0.692138 \tTrain Acc: 66.055%\n"
     ]
    },
    {
     "name": "stderr",
     "output_type": "stream",
     "text": [
      "\n"
     ]
    }
   ],
   "source": [
    "AccTrain, LossTrain = [], []\n",
    "\n",
    "for epoch in range(num_epochs):\n",
    "    train_loss = 0.0\n",
    "    correct, total = 0, 0\n",
    "    for data, target in tqdm(trainloader):\n",
    "        data = data.to(device)\n",
    "        target = target.to(device)\n",
    "        optimizer.zero_grad()\n",
    "        output = model(data)\n",
    "        loss = criterion(output, target)\n",
    "        loss.backward()\n",
    "        optimizer.step()\n",
    "        total += target.size(0)\n",
    "        _, predicted = torch.max(output.data, 1)\n",
    "        correct += (predicted == target).sum().item()\n",
    "        train_loss += loss.item() * data.size(0)\n",
    "    if epoch + 1 == num_epochs:\n",
    "        test(True)\n",
    "    else:\n",
    "        test()\n",
    "    train_loss = train_loss / len(trainloader.dataset)\n",
    "    acc = 100 * correct / total\n",
    "    AccTrain.append(acc)\n",
    "    LossTrain.append(train_loss)\n",
    "    print(f'Epoch: {epoch+1} \\tTrain Loss: {train_loss:.6f} \\tTrain Acc: {acc:.3f}%')\n"
   ]
  },
  {
   "cell_type": "code",
   "execution_count": 7,
   "id": "234f3183",
   "metadata": {
    "execution": {
     "iopub.execute_input": "2024-06-23T17:49:29.391520Z",
     "iopub.status.busy": "2024-06-23T17:49:29.390610Z",
     "iopub.status.idle": "2024-06-23T17:49:29.416368Z",
     "shell.execute_reply": "2024-06-23T17:49:29.415525Z"
    },
    "papermill": {
     "duration": 0.224635,
     "end_time": "2024-06-23T17:49:29.418365",
     "exception": false,
     "start_time": "2024-06-23T17:49:29.193730",
     "status": "completed"
    },
    "tags": []
   },
   "outputs": [],
   "source": [
    "torch.save(model.state_dict(), 'noise.pth')"
   ]
  },
  {
   "cell_type": "code",
   "execution_count": 8,
   "id": "a380ef85",
   "metadata": {
    "execution": {
     "iopub.execute_input": "2024-06-23T17:49:29.712384Z",
     "iopub.status.busy": "2024-06-23T17:49:29.711614Z",
     "iopub.status.idle": "2024-06-23T17:49:31.993540Z",
     "shell.execute_reply": "2024-06-23T17:49:31.992527Z"
    },
    "papermill": {
     "duration": 2.429889,
     "end_time": "2024-06-23T17:49:31.995706",
     "exception": false,
     "start_time": "2024-06-23T17:49:29.565817",
     "status": "completed"
    },
    "tags": []
   },
   "outputs": [
    {
     "name": "stdout",
     "output_type": "stream",
     "text": [
      "Precision: 67.028 %\n",
      "Recall: 67.082 %\n",
      "F1 Score: 67.055 %\n",
      "F1 Macro Score: 66.473 %\n",
      "F1 Weighted Score: 66.693 %\n"
     ]
    },
    {
     "data": {
      "image/png": "[encoded data removed]",
      "text/plain": [
       "<Figure size 640x480 with 2 Axes>"
      ]
     },
     "metadata": {},
     "output_type": "display_data"
    }
   ],
   "source": [
    "from sklearn.metrics import recall_score, precision_score, f1_score, confusion_matrix, ConfusionMatrixDisplay\n",
    "import matplotlib.pyplot as plt\n",
    "\n",
    "cm = confusion_matrix(y_test, predictions)\n",
    "ConfusionMatrixDisplay(cm).plot()\n",
    "plt.savefig(f'ConfMatrix_noise.png', dpi=500)\n",
    "\n",
    "precision = precision_score(y_test, predictions, average='macro')\n",
    "recall = recall_score(y_test, predictions, average='macro')\n",
    "    \n",
    "f1 = 2 * precision * recall / (precision + recall)\n",
    "f1_macro = f1_score(y_test, predictions, average='macro')\n",
    "f1_weighted = f1_score(y_test, predictions, average='weighted')\n",
    "print(f'Precision: {100 * precision:.3f} %')\n",
    "print(f'Recall: {100 * recall:.3f} %')\n",
    "print(f'F1 Score: {100 * f1:.3f} %')\n",
    "print(f'F1 Macro Score: {100 * f1_macro:.3f} %')\n",
    "print(f'F1 Weighted Score: {100 * f1_weighted:.3f} %')"
   ]
  },
  {
   "cell_type": "code",
   "execution_count": 9,
   "id": "85615bb5",
   "metadata": {
    "execution": {
     "iopub.execute_input": "2024-06-23T17:49:32.318658Z",
     "iopub.status.busy": "2024-06-23T17:49:32.318148Z",
     "iopub.status.idle": "2024-06-23T17:49:32.326898Z",
     "shell.execute_reply": "2024-06-23T17:49:32.325800Z"
    },
    "papermill": {
     "duration": 0.169749,
     "end_time": "2024-06-23T17:49:32.328917",
     "exception": false,
     "start_time": "2024-06-23T17:49:32.159168",
     "status": "completed"
    },
    "tags": []
   },
   "outputs": [],
   "source": [
    "import os\n",
    "from torch.utils.data import Dataset\n",
    "from torchvision.io import read_image, ImageReadMode\n",
    "\n",
    "class AstrogeoDataset(Dataset):\n",
    "    def __init__(self, dir: str, transform=None) -> None:\n",
    "        self.transform = transform\n",
    "        self.images = os.listdir(dir)\n",
    "        self.dir = dir\n",
    "\n",
    "    def __getitem__(self, index: int) -> tuple:\n",
    "        image = read_image(\n",
    "            f'{self.dir}/{self.images[index]}',\n",
    "            mode=ImageReadMode.RGB\n",
    "        )\n",
    "        file_name = self.images[index]\n",
    "        if self.transform is not None:\n",
    "            image = self.transform(image)\n",
    "        return (file_name, image)\n",
    "\n",
    "    def __len__(self) -> int:\n",
    "        return len(self.images)"
   ]
  },
  {
   "cell_type": "code",
   "execution_count": 10,
   "id": "81731abb",
   "metadata": {
    "execution": {
     "iopub.execute_input": "2024-06-23T17:49:32.633426Z",
     "iopub.status.busy": "2024-06-23T17:49:32.633069Z",
     "iopub.status.idle": "2024-06-23T17:54:23.413523Z",
     "shell.execute_reply": "2024-06-23T17:54:23.412481Z"
    },
    "papermill": {
     "duration": 290.933423,
     "end_time": "2024-06-23T17:54:23.415785",
     "exception": false,
     "start_time": "2024-06-23T17:49:32.482362",
     "status": "completed"
    },
    "tags": []
   },
   "outputs": [
    {
     "name": "stderr",
     "output_type": "stream",
     "text": [
      "100%|██████████| 350/350 [04:47<00:00,  1.22it/s]\n"
     ]
    }
   ],
   "source": [
    "import json\n",
    "import pandas as pd\n",
    "\n",
    "transform = transforms.Compose([\n",
    "    transforms.ToPILImage(), transforms.Resize((128, 128)),\n",
    "    transforms.Grayscale(), transforms.ToTensor()]\n",
    ")\n",
    "val = AstrogeoDataset(val_data_path, transform=transform)\n",
    "valloader = torch.utils.data.DataLoader(\n",
    "    val, batch_size=batch_size, shuffle=True, num_workers=4\n",
    ")\n",
    "\n",
    "model.eval()\n",
    "val_preds = {}\n",
    "with torch.no_grad():\n",
    "    for file_names, images in tqdm(valloader):\n",
    "        images = images.to(device)\n",
    "        outputs = model(images)\n",
    "        _, predicted = torch.max(outputs.data, 1)\n",
    "        val_preds.update(dict(zip(file_names, predicted.cpu().tolist())))\n",
    "        \n",
    "with open('predicts.json', 'w') as f:\n",
    "    json.dump(val_preds, f)\n",
    "\n",
    "s1 = pd.Series(val_preds.keys())\n",
    "s2 = pd.Series(val_preds.values())\n",
    "df = pd.concat([s1, s2], axis=1)\n",
    "df = df.rename(columns={0: 'file_name', 1: 'predicted_class'})\n",
    "df.to_csv('classification.csv')"
   ]
  },
  {
   "cell_type": "code",
   "execution_count": 11,
   "id": "6de66769",
   "metadata": {
    "execution": {
     "iopub.execute_input": "2024-06-23T17:54:23.737577Z",
     "iopub.status.busy": "2024-06-23T17:54:23.737209Z",
     "iopub.status.idle": "2024-06-23T17:54:25.163192Z",
     "shell.execute_reply": "2024-06-23T17:54:25.162297Z"
    },
    "papermill": {
     "duration": 1.588266,
     "end_time": "2024-06-23T17:54:25.165440",
     "exception": false,
     "start_time": "2024-06-23T17:54:23.577174",
     "status": "completed"
    },
    "tags": []
   },
   "outputs": [
    {
     "name": "stdout",
     "output_type": "stream",
     "text": [
      "{0: 13, 1: 212, 2: 89360}\n"
     ]
    },
    {
     "data": {
      "image/png": "[encoded data removed]",
      "text/plain": [
       "<Figure size 1000x700 with 1 Axes>"
      ]
     },
     "metadata": {},
     "output_type": "display_data"
    }
   ],
   "source": [
    "from collections import Counter\n",
    "\n",
    "labels = [\n",
    "    'Одиночный источник', 'Двойной источник',\n",
    "    'Источник с джетом', 'Источник с двойным джетом'\n",
    "]\n",
    "res = dict(Counter(val_preds.values()))\n",
    "res = {k: v for k, v in sorted(res.items())}\n",
    "print(res)\n",
    "fig, ax = plt.subplots(1, 1, figsize=(10, 7))\n",
    "bar = ax.bar(res.keys(), res.values())\n",
    "ax.bar_label(bar, labels=res.values())\n",
    "ax.set_xlabel('Классы истинных изображений')\n",
    "ax.set_ylabel('Количество')\n",
    "ax.set_title('Классификация Astrogeo')\n",
    "fig.tight_layout()\n",
    "plt.savefig('histogram.png', dpi=500)"
   ]
  },
  {
   "cell_type": "code",
   "execution_count": 12,
   "id": "bd0f4f6f",
   "metadata": {
    "execution": {
     "iopub.execute_input": "2024-06-23T17:54:25.483515Z",
     "iopub.status.busy": "2024-06-23T17:54:25.483178Z",
     "iopub.status.idle": "2024-06-23T17:54:28.060115Z",
     "shell.execute_reply": "2024-06-23T17:54:28.059155Z"
    },
    "papermill": {
     "duration": 2.737196,
     "end_time": "2024-06-23T17:54:28.062840",
     "exception": false,
     "start_time": "2024-06-23T17:54:25.325644",
     "status": "completed"
    },
    "tags": []
   },
   "outputs": [
    {
     "data": {
      "image/png": "[encoded data removed]",
      "text/plain": [
       "<Figure size 1500x600 with 2 Axes>"
      ]
     },
     "metadata": {},
     "output_type": "display_data"
    }
   ],
   "source": [
    "import numpy as np\n",
    "\n",
    "plt.rcParams.update({'font.size': 16})\n",
    "epochs = np.arange(1, num_epochs + 1)\n",
    "fig, axes = plt.subplots(1, 2, figsize=(15, 6))\n",
    "axes[0].plot(epochs, LossTrain, label='train', color='blue')\n",
    "axes[0].plot(epochs, LossTest, label='test', color='orange')\n",
    "axes[0].set_title('Значение функции потерь от эпохи обучения')\n",
    "axes[0].set_xlabel('Номер эпохи')\n",
    "axes[0].set_ylabel('Значение функции потерь')\n",
    "axes[0].grid()\n",
    "axes[0].legend()\n",
    "\n",
    "axes[1].plot(epochs, AccTrain, label='train', color='blue')\n",
    "axes[1].plot(epochs, AccTest, label='test', color='orange')\n",
    "axes[1].set_title('Значение корректности от эпохи обучения')\n",
    "axes[1].set_ylabel('Корректность')\n",
    "axes[1].set_xlabel('Номер эпохи')\n",
    "axes[1].grid()\n",
    "axes[1].legend()\n",
    "plt.tight_layout()\n",
    "plt.savefig('train.png', dpi=500)"
   ]
  },
  {
   "cell_type": "code",
   "execution_count": 13,
   "id": "c446523f",
   "metadata": {
    "execution": {
     "iopub.execute_input": "2024-06-23T17:54:28.385340Z",
     "iopub.status.busy": "2024-06-23T17:54:28.384977Z",
     "iopub.status.idle": "2024-06-23T17:54:31.805699Z",
     "shell.execute_reply": "2024-06-23T17:54:31.804535Z"
    },
    "papermill": {
     "duration": 3.584577,
     "end_time": "2024-06-23T17:54:31.807974",
     "exception": false,
     "start_time": "2024-06-23T17:54:28.223397",
     "status": "completed"
    },
    "tags": []
   },
   "outputs": [
    {
     "name": "stderr",
     "output_type": "stream",
     "text": [
      "100%|██████████| 3/3 [00:03<00:00,  1.07s/it]"
     ]
    },
    {
     "name": "stdout",
     "output_type": "stream",
     "text": [
      "Epoch: 25 \tVal Loss: 0.898754 \tVal Acc: 4.392%\n"
     ]
    },
    {
     "name": "stderr",
     "output_type": "stream",
     "text": [
      "\n"
     ]
    }
   ],
   "source": [
    "val_data_path2 = '/kaggle/input/lisakovonelove/val'\n",
    "transform = transforms.Compose([\n",
    "    transforms.Grayscale(),\n",
    "    transforms.Resize(size=(128, 128)),\n",
    "#     transforms.RandomEqualize(1),\n",
    "    transforms.RandomAutocontrast(1),\n",
    "#     transforms.RandomEqualize(1),\n",
    "#     transforms.RandomAdjustSharpness(5, 1),\n",
    "\n",
    "    transforms.ToTensor()]\n",
    ")\n",
    "val = datasets.ImageFolder(val_data_path2, transform=transform)\n",
    "valloader = torch.utils.data.DataLoader(val, batch_size=batch_size, shuffle=True, num_workers=4)\n",
    "AccTest, LossTest = [], []\n",
    "y_test, predictions = [], []\n",
    "\n",
    "with torch.no_grad():\n",
    "    correct, total = 0, 0\n",
    "    test_loss = 0.0\n",
    "    for images, labels in tqdm(valloader):\n",
    "        images = images.to(device)\n",
    "        labels = labels.to(device)\n",
    "        outputs = model(images)\n",
    "        _, predicted = torch.max(outputs.data, 1)\n",
    "        total += labels.size(0)\n",
    "        correct += (predicted == labels).sum().item()\n",
    "        loss = criterion(outputs, labels)\n",
    "        test_loss += loss.item() * data.size(0)\n",
    "        y_test.extend(labels.cpu().numpy())\n",
    "        predictions.extend(predicted.cpu().numpy())\n",
    "    acc = 100 * correct / total\n",
    "    test_loss = test_loss / len(testloader.dataset)\n",
    "    AccTest.append(acc)\n",
    "    LossTest.append(test_loss)\n",
    "    print(f'Epoch: {epoch+1} \\tVal Loss: {test_loss:.6f} \\tVal Acc: {acc:.3f}%')"
   ]
  },
  {
   "cell_type": "code",
   "execution_count": 14,
   "id": "d02001e8",
   "metadata": {
    "execution": {
     "iopub.execute_input": "2024-06-23T17:54:32.129650Z",
     "iopub.status.busy": "2024-06-23T17:54:32.129256Z",
     "iopub.status.idle": "2024-06-23T17:54:33.179285Z",
     "shell.execute_reply": "2024-06-23T17:54:33.178385Z"
    },
    "papermill": {
     "duration": 1.213003,
     "end_time": "2024-06-23T17:54:33.181266",
     "exception": false,
     "start_time": "2024-06-23T17:54:31.968263",
     "status": "completed"
    },
    "tags": []
   },
   "outputs": [
    {
     "name": "stdout",
     "output_type": "stream",
     "text": [
      "Precision: 1.098 %\n",
      "Recall: 25.000 %\n",
      "F1 Score: 2.104 %\n",
      "F1 Macro Score: 2.104 %\n",
      "F1 Weighted Score: 0.370 %\n"
     ]
    },
    {
     "data": {
      "image/png": "[encoded data removed]",
      "text/plain": [
       "<Figure size 640x480 with 2 Axes>"
      ]
     },
     "metadata": {},
     "output_type": "display_data"
    }
   ],
   "source": [
    "from sklearn.metrics import recall_score, precision_score, f1_score, confusion_matrix, ConfusionMatrixDisplay\n",
    "import matplotlib.pyplot as plt\n",
    "\n",
    "cm = confusion_matrix(y_test, predictions)\n",
    "ConfusionMatrixDisplay(cm).plot()\n",
    "plt.savefig(f'ConfMatrix_noise.png', dpi=500)\n",
    "\n",
    "precision = precision_score(y_test, predictions, average='macro')\n",
    "recall = recall_score(y_test, predictions, average='macro')\n",
    "    \n",
    "f1 = 2 * precision * recall / (precision + recall)\n",
    "f1_macro = f1_score(y_test, predictions, average='macro')\n",
    "f1_weighted = f1_score(y_test, predictions, average='weighted')\n",
    "print(f'Precision: {100 * precision:.3f} %')\n",
    "print(f'Recall: {100 * recall:.3f} %')\n",
    "print(f'F1 Score: {100 * f1:.3f} %')\n",
    "print(f'F1 Macro Score: {100 * f1_macro:.3f} %')\n",
    "print(f'F1 Weighted Score: {100 * f1_weighted:.3f} %')"
   ]
  },
  {
   "cell_type": "code",
   "execution_count": null,
   "id": "121d0c38",
   "metadata": {
    "papermill": {
     "duration": 0.161426,
     "end_time": "2024-06-23T17:54:33.507189",
     "exception": false,
     "start_time": "2024-06-23T17:54:33.345763",
     "status": "completed"
    },
    "tags": []
   },
   "outputs": [],
   "source": []
  }
 ],
 "metadata": {
  "kaggle": {
   "accelerator": "gpu",
   "dataSources": [
    {
     "datasetId": 4702184,
     "sourceId": 7987931,
     "sourceType": "datasetVersion"
    },
    {
     "datasetId": 4703603,
     "sourceId": 7989923,
     "sourceType": "datasetVersion"
    },
    {
     "datasetId": 4706799,
     "sourceId": 7994607,
     "sourceType": "datasetVersion"
    },
    {
     "datasetId": 5263849,
     "sourceId": 8761130,
     "sourceType": "datasetVersion"
    }
   ],
   "dockerImageVersionId": 30646,
   "isGpuEnabled": true,
   "isInternetEnabled": true,
   "language": "python",
   "sourceType": "notebook"
  },
  "kernelspec": {
   "display_name": "Python 3",
   "language": "python",
   "name": "python3"
  },
  "language_info": {
   "codemirror_mode": {
    "name": "ipython",
    "version": 3
   },
   "file_extension": ".py",
   "mimetype": "text/x-python",
   "name": "python",
   "nbconvert_exporter": "python",
   "pygments_lexer": "ipython3",
   "version": "3.10.13"
  },
  "papermill": {
   "default_parameters": {},
   "duration": 3454.854224,
   "end_time": "2024-06-23T17:54:36.311484",
   "environment_variables": {},
   "exception": null,
   "input_path": "__notebook__.ipynb",
   "output_path": "__notebook__.ipynb",
   "parameters": {},
   "start_time": "2024-06-23T16:57:01.457260",
   "version": "2.5.0"
  }
 },
 "nbformat": 4,
 "nbformat_minor": 5
}
